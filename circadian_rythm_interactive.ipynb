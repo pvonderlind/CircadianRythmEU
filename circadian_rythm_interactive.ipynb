{
 "cells": [
  {
   "cell_type": "markdown",
   "source": [
    "# Interactive Visualization of Daytimes and Workingtimes in Europe"
   ],
   "metadata": {
    "collapsed": false,
    "pycharm": {
     "name": "#%% md\n"
    }
   }
  },
  {
   "cell_type": "markdown",
   "source": [
    "## Data"
   ],
   "metadata": {
    "collapsed": false,
    "pycharm": {
     "name": "#%% md\n"
    }
   }
  },
  {
   "cell_type": "code",
   "execution_count": 1,
   "outputs": [],
   "source": [
    "import pandas as pd\n",
    "import geopandas as gpd\n",
    "\n",
    "RELOAD_DATA = True\n",
    "eu_data_path = 'datasets/saved/eu_gpd.geojson'\n",
    "city_data_path = 'datasets/saved/city_data.csv'\n",
    "sunrise_data = 'datasets/saved/sunrise_data.csv'\n",
    "avg_country_data_path = 'datasets/saved/avg_country.csv'\n",
    "eu_geo_tz_path = 'datasets/saved/eu_geo_tz.geojson'"
   ],
   "metadata": {
    "collapsed": false,
    "pycharm": {
     "name": "#%%\n"
    }
   }
  },
  {
   "cell_type": "markdown",
   "source": [
    "### EU countries to capitals and GeoPandas data"
   ],
   "metadata": {
    "collapsed": false,
    "pycharm": {
     "name": "#%% md\n"
    }
   }
  },
  {
   "cell_type": "code",
   "execution_count": 2,
   "outputs": [],
   "source": [
    "from sun_data import get_sunrise_data_avgs_for_countries\n",
    "from geo_utils import load_eu_countries_as_geopandas, get_eu_city_data, get_avg_country_data"
   ],
   "metadata": {
    "collapsed": false,
    "pycharm": {
     "name": "#%%\n"
    }
   }
  },
  {
   "cell_type": "code",
   "execution_count": 3,
   "outputs": [
    {
     "name": "stdout",
     "output_type": "stream",
     "text": [
      "Generating data ...\n"
     ]
    },
    {
     "name": "stderr",
     "output_type": "stream",
     "text": [
      "C:\\Users\\phili\\PycharmProjects\\CircadianRythmEU\\geo_utils.py:28: FutureWarning: The geopandas.dataset module is deprecated and will be removed in GeoPandas 1.0. You can get the original 'naturalearth_lowres' data from https://www.naturalearthdata.com/downloads/110m-cultural-vectors/.\n",
      "  world = gpd.read_file(gpd.datasets.get_path('naturalearth_lowres'))\n"
     ]
    }
   ],
   "source": [
    "if RELOAD_DATA:\n",
    "    print('Reloading data from datasets/saved folder ...')\n",
    "    eu_gpd = gpd.read_file(eu_data_path)\n",
    "    top_city_data = pd.read_csv(city_data_path)\n",
    "    sun_data = gpd.read_file(sunrise_data)\n",
    "    avg_country_data = pd.read_csv(avg_country_data_path)\n",
    "    eu_geo_tz = gpd.read_file(eu_geo_tz_path)\n",
    "else:\n",
    "    print('Generating data ...')\n",
    "    top_city_data = get_eu_city_data(3)\n",
    "    top_city_data.to_csv(city_data_path, index=False)\n",
    "\n",
    "    eu_gpd = load_eu_countries_as_geopandas()\n",
    "    eu_gpd.to_file(eu_data_path, driver='GeoJSON', index=False)\n",
    "\n",
    "    avg_country_data = get_avg_country_data(top_city_data, eu_gpd)\n",
    "    avg_country_data.to_csv(avg_country_data_path, index=False)\n",
    "\n",
    "    sun_data = get_sunrise_data_avgs_for_countries(top_city_data)\n",
    "    sun_data.to_csv(sunrise_data, index=False)\n",
    "\n",
    "    eu_geo_tz = eu_gpd.merge(avg_country_data)\n",
    "    eu_geo_tz = eu_geo_tz.merge(sun_data, left_on=['iso_a2', 'dst'], right_on=['country_ISO_A2', 'dst'])\n",
    "    eu_geo_tz.to_file(eu_geo_tz_path, driver='GeoJSON', index=False)"
   ],
   "metadata": {
    "collapsed": false,
    "pycharm": {
     "name": "#%%\n"
    }
   }
  },
  {
   "cell_type": "code",
   "execution_count": 4,
   "outputs": [
    {
     "data": {
      "text/plain": "        pop_est continent         name iso_a3  gdp_md_est  \\\n43   67059887.0    Europe       France    FRA     2715518   \n110  10285453.0    Europe       Sweden    SWE      530883   \n113  37970874.0    Europe       Poland    POL      595858   \n114   8877067.0    Europe      Austria    AUT      445075   \n115   9769949.0    Europe      Hungary    HUN      163469   \n117  19356544.0    Europe      Romania    ROU      250077   \n118   2786844.0    Europe    Lithuania    LTU       54627   \n119   1912789.0    Europe       Latvia    LVA       34102   \n120   1326590.0    Europe      Estonia    EST       31471   \n121  83132799.0    Europe      Germany    DEU     3861123   \n122   6975761.0    Europe     Bulgaria    BGR       68558   \n123  10716322.0    Europe       Greece    GRC      209852   \n126   4067500.0    Europe      Croatia    HRV       60752   \n128    619896.0    Europe   Luxembourg    LUX       71104   \n129  11484055.0    Europe      Belgium    BEL      533097   \n130  17332850.0    Europe  Netherlands    NLD      907050   \n131  10269417.0    Europe     Portugal    PRT      238785   \n132  47076781.0    Europe        Spain    ESP     1393490   \n133   4941444.0    Europe      Ireland    IRL      388698   \n141  60297396.0    Europe        Italy    ITA     2003576   \n142   5818553.0    Europe      Denmark    DNK      350104   \n150   2087946.0    Europe     Slovenia    SVN       54174   \n151   5520314.0    Europe      Finland    FIN      269296   \n152   5454073.0    Europe     Slovakia    SVK      105079   \n153  10669709.0    Europe      Czechia    CZE      250680   \n161   1198575.0      Asia       Cyprus    CYP       24948   \n\n                                              geometry iso_a2  \n43   MULTIPOLYGON (((-5750519.703 463075.975, -5816...     FR  \n110  POLYGON ((1227561.058 8149359.996, 1276642.191...     SE  \n113  POLYGON ((2614241.130 7153601.786, 2619073.310...     PL  \n114  POLYGON ((1890167.860 6127424.985, 1881717.299...     AT  \n115  POLYGON ((2458558.676 6177394.292, 2520364.547...     HU  \n117  POLYGON ((3142944.799 5698722.044, 3192618.449...     RO  \n118  POLYGON ((2949335.491 7482172.795, 2959793.707...     LT  \n119  POLYGON ((3037706.842 7857733.043, 3091344.030...     LV  \n120  POLYGON ((3114844.794 8283850.476, 3114844.030...     EE  \n121  POLYGON ((1571796.291 7124274.152, 1597803.769...     DE  \n122  POLYGON ((2522182.367 5501869.325, 2554207.058...     BG  \n123  MULTIPOLYGON (((2926589.734 4204723.734, 29126...     EL  \n126  POLYGON ((1843986.034 5861446.443, 1879352.983...     HR  \n128  POLYGON ((672711.849 6468481.737, 694939.873 6...     LU  \n129  POLYGON ((685356.051 6586647.408, 672711.849 6...     BE  \n130  POLYGON ((768676.624 7072687.677, 789483.757 7...     NL  \n131  POLYGON ((-1005751.303 5143106.251, -965356.58...     PT  \n132  POLYGON ((-829744.933 4452745.895, -839026.744...     ES  \n133  POLYGON ((-689945.390 7145114.483, -671588.863...     IE  \n141  MULTIPOLYGON (((1162476.208 5924715.388, 12299...     IT  \n142  MULTIPOLYGON (((1104501.564 7358587.664, 10332...     DK  \n150  POLYGON ((1536929.818 5862344.931, 1628879.282...     SI  \n151  POLYGON ((3182839.039 10770937.822, 3166587.96...     FI  \n152  POLYGON ((2511160.396 6289421.884, 2480291.976...     SK  \n153  POLYGON ((1671684.335 6640184.872, 1724447.128...     CZ  \n161  POLYGON ((3643685.108 4182926.430, 3664590.035...     CY  ",
      "text/html": "<div>\n<style scoped>\n    .dataframe tbody tr th:only-of-type {\n        vertical-align: middle;\n    }\n\n    .dataframe tbody tr th {\n        vertical-align: top;\n    }\n\n    .dataframe thead th {\n        text-align: right;\n    }\n</style>\n<table border=\"1\" class=\"dataframe\">\n  <thead>\n    <tr style=\"text-align: right;\">\n      <th></th>\n      <th>pop_est</th>\n      <th>continent</th>\n      <th>name</th>\n      <th>iso_a3</th>\n      <th>gdp_md_est</th>\n      <th>geometry</th>\n      <th>iso_a2</th>\n    </tr>\n  </thead>\n  <tbody>\n    <tr>\n      <th>43</th>\n      <td>67059887.0</td>\n      <td>Europe</td>\n      <td>France</td>\n      <td>FRA</td>\n      <td>2715518</td>\n      <td>MULTIPOLYGON (((-5750519.703 463075.975, -5816...</td>\n      <td>FR</td>\n    </tr>\n    <tr>\n      <th>110</th>\n      <td>10285453.0</td>\n      <td>Europe</td>\n      <td>Sweden</td>\n      <td>SWE</td>\n      <td>530883</td>\n      <td>POLYGON ((1227561.058 8149359.996, 1276642.191...</td>\n      <td>SE</td>\n    </tr>\n    <tr>\n      <th>113</th>\n      <td>37970874.0</td>\n      <td>Europe</td>\n      <td>Poland</td>\n      <td>POL</td>\n      <td>595858</td>\n      <td>POLYGON ((2614241.130 7153601.786, 2619073.310...</td>\n      <td>PL</td>\n    </tr>\n    <tr>\n      <th>114</th>\n      <td>8877067.0</td>\n      <td>Europe</td>\n      <td>Austria</td>\n      <td>AUT</td>\n      <td>445075</td>\n      <td>POLYGON ((1890167.860 6127424.985, 1881717.299...</td>\n      <td>AT</td>\n    </tr>\n    <tr>\n      <th>115</th>\n      <td>9769949.0</td>\n      <td>Europe</td>\n      <td>Hungary</td>\n      <td>HUN</td>\n      <td>163469</td>\n      <td>POLYGON ((2458558.676 6177394.292, 2520364.547...</td>\n      <td>HU</td>\n    </tr>\n    <tr>\n      <th>117</th>\n      <td>19356544.0</td>\n      <td>Europe</td>\n      <td>Romania</td>\n      <td>ROU</td>\n      <td>250077</td>\n      <td>POLYGON ((3142944.799 5698722.044, 3192618.449...</td>\n      <td>RO</td>\n    </tr>\n    <tr>\n      <th>118</th>\n      <td>2786844.0</td>\n      <td>Europe</td>\n      <td>Lithuania</td>\n      <td>LTU</td>\n      <td>54627</td>\n      <td>POLYGON ((2949335.491 7482172.795, 2959793.707...</td>\n      <td>LT</td>\n    </tr>\n    <tr>\n      <th>119</th>\n      <td>1912789.0</td>\n      <td>Europe</td>\n      <td>Latvia</td>\n      <td>LVA</td>\n      <td>34102</td>\n      <td>POLYGON ((3037706.842 7857733.043, 3091344.030...</td>\n      <td>LV</td>\n    </tr>\n    <tr>\n      <th>120</th>\n      <td>1326590.0</td>\n      <td>Europe</td>\n      <td>Estonia</td>\n      <td>EST</td>\n      <td>31471</td>\n      <td>POLYGON ((3114844.794 8283850.476, 3114844.030...</td>\n      <td>EE</td>\n    </tr>\n    <tr>\n      <th>121</th>\n      <td>83132799.0</td>\n      <td>Europe</td>\n      <td>Germany</td>\n      <td>DEU</td>\n      <td>3861123</td>\n      <td>POLYGON ((1571796.291 7124274.152, 1597803.769...</td>\n      <td>DE</td>\n    </tr>\n    <tr>\n      <th>122</th>\n      <td>6975761.0</td>\n      <td>Europe</td>\n      <td>Bulgaria</td>\n      <td>BGR</td>\n      <td>68558</td>\n      <td>POLYGON ((2522182.367 5501869.325, 2554207.058...</td>\n      <td>BG</td>\n    </tr>\n    <tr>\n      <th>123</th>\n      <td>10716322.0</td>\n      <td>Europe</td>\n      <td>Greece</td>\n      <td>GRC</td>\n      <td>209852</td>\n      <td>MULTIPOLYGON (((2926589.734 4204723.734, 29126...</td>\n      <td>EL</td>\n    </tr>\n    <tr>\n      <th>126</th>\n      <td>4067500.0</td>\n      <td>Europe</td>\n      <td>Croatia</td>\n      <td>HRV</td>\n      <td>60752</td>\n      <td>POLYGON ((1843986.034 5861446.443, 1879352.983...</td>\n      <td>HR</td>\n    </tr>\n    <tr>\n      <th>128</th>\n      <td>619896.0</td>\n      <td>Europe</td>\n      <td>Luxembourg</td>\n      <td>LUX</td>\n      <td>71104</td>\n      <td>POLYGON ((672711.849 6468481.737, 694939.873 6...</td>\n      <td>LU</td>\n    </tr>\n    <tr>\n      <th>129</th>\n      <td>11484055.0</td>\n      <td>Europe</td>\n      <td>Belgium</td>\n      <td>BEL</td>\n      <td>533097</td>\n      <td>POLYGON ((685356.051 6586647.408, 672711.849 6...</td>\n      <td>BE</td>\n    </tr>\n    <tr>\n      <th>130</th>\n      <td>17332850.0</td>\n      <td>Europe</td>\n      <td>Netherlands</td>\n      <td>NLD</td>\n      <td>907050</td>\n      <td>POLYGON ((768676.624 7072687.677, 789483.757 7...</td>\n      <td>NL</td>\n    </tr>\n    <tr>\n      <th>131</th>\n      <td>10269417.0</td>\n      <td>Europe</td>\n      <td>Portugal</td>\n      <td>PRT</td>\n      <td>238785</td>\n      <td>POLYGON ((-1005751.303 5143106.251, -965356.58...</td>\n      <td>PT</td>\n    </tr>\n    <tr>\n      <th>132</th>\n      <td>47076781.0</td>\n      <td>Europe</td>\n      <td>Spain</td>\n      <td>ESP</td>\n      <td>1393490</td>\n      <td>POLYGON ((-829744.933 4452745.895, -839026.744...</td>\n      <td>ES</td>\n    </tr>\n    <tr>\n      <th>133</th>\n      <td>4941444.0</td>\n      <td>Europe</td>\n      <td>Ireland</td>\n      <td>IRL</td>\n      <td>388698</td>\n      <td>POLYGON ((-689945.390 7145114.483, -671588.863...</td>\n      <td>IE</td>\n    </tr>\n    <tr>\n      <th>141</th>\n      <td>60297396.0</td>\n      <td>Europe</td>\n      <td>Italy</td>\n      <td>ITA</td>\n      <td>2003576</td>\n      <td>MULTIPOLYGON (((1162476.208 5924715.388, 12299...</td>\n      <td>IT</td>\n    </tr>\n    <tr>\n      <th>142</th>\n      <td>5818553.0</td>\n      <td>Europe</td>\n      <td>Denmark</td>\n      <td>DNK</td>\n      <td>350104</td>\n      <td>MULTIPOLYGON (((1104501.564 7358587.664, 10332...</td>\n      <td>DK</td>\n    </tr>\n    <tr>\n      <th>150</th>\n      <td>2087946.0</td>\n      <td>Europe</td>\n      <td>Slovenia</td>\n      <td>SVN</td>\n      <td>54174</td>\n      <td>POLYGON ((1536929.818 5862344.931, 1628879.282...</td>\n      <td>SI</td>\n    </tr>\n    <tr>\n      <th>151</th>\n      <td>5520314.0</td>\n      <td>Europe</td>\n      <td>Finland</td>\n      <td>FIN</td>\n      <td>269296</td>\n      <td>POLYGON ((3182839.039 10770937.822, 3166587.96...</td>\n      <td>FI</td>\n    </tr>\n    <tr>\n      <th>152</th>\n      <td>5454073.0</td>\n      <td>Europe</td>\n      <td>Slovakia</td>\n      <td>SVK</td>\n      <td>105079</td>\n      <td>POLYGON ((2511160.396 6289421.884, 2480291.976...</td>\n      <td>SK</td>\n    </tr>\n    <tr>\n      <th>153</th>\n      <td>10669709.0</td>\n      <td>Europe</td>\n      <td>Czechia</td>\n      <td>CZE</td>\n      <td>250680</td>\n      <td>POLYGON ((1671684.335 6640184.872, 1724447.128...</td>\n      <td>CZ</td>\n    </tr>\n    <tr>\n      <th>161</th>\n      <td>1198575.0</td>\n      <td>Asia</td>\n      <td>Cyprus</td>\n      <td>CYP</td>\n      <td>24948</td>\n      <td>POLYGON ((3643685.108 4182926.430, 3664590.035...</td>\n      <td>CY</td>\n    </tr>\n  </tbody>\n</table>\n</div>"
     },
     "execution_count": 4,
     "metadata": {},
     "output_type": "execute_result"
    }
   ],
   "source": [
    "eu_gpd"
   ],
   "metadata": {
    "collapsed": false,
    "pycharm": {
     "name": "#%%\n"
    }
   }
  },
  {
   "cell_type": "code",
   "execution_count": 5,
   "outputs": [
    {
     "data": {
      "text/plain": "    population    CODE country_ISO_A2               NAME  longitude  \\\n0      1766746  AT001C             AT               Wien  16.372504   \n1       269997  AT002C             AT               Graz  15.438279   \n2       193814  AT003C             AT               Linz  14.286198   \n3      1226329  BE001C             BE  Bruxelles/Brussel   4.351697   \n4       530627  BE002C             BE          Antwerpen   4.399708   \n..         ...     ...            ...                ...        ...   \n65      295504  SI001C             SI          Ljubljana  14.506929   \n66      112682  SI002C             SI            Maribor  15.645585   \n67      475577  SK001C             SK         Bratislava  17.109306   \n68      240164  SK002C             SK             Košice  21.249677   \n69       91352  SK005C             SK             Prešov  21.239212   \n\n     latitude   mercantor_x   mercantor_y social_timezone  \\\n0   48.208354  1.822579e+06  6.141588e+06             CET   \n1   47.070868  1.718581e+06  5.953649e+06             CET   \n2   48.305908  1.590332e+06  6.157899e+06             CET   \n3   50.846557  4.844287e+05  6.594196e+06             CET   \n4   51.221110  4.897733e+05  6.660499e+06             CET   \n..        ...           ...           ...             ...   \n65  46.050027  1.614904e+06  5.788370e+06             CET   \n66  46.557644  1.741659e+06  5.870167e+06             CET   \n67  48.151699  1.904599e+06  6.132129e+06             CET   \n68  48.717227  2.365503e+06  6.227016e+06             CET   \n69  49.000007  2.364338e+06  6.274863e+06             CET   \n\n    utc_sun_timezone_offset  summertime_longitudinal_diff_km  \\\n0                         1                      1090.199664   \n1                         1                      1164.937712   \n2                         1                      1257.104160   \n3                         1                      2051.864240   \n4                         1                      2048.023352   \n..                      ...                              ...   \n65                        1                      1239.445688   \n66                        1                      1148.353168   \n67                        1                      1031.255496   \n68                        1                       700.025808   \n69                        1                       700.863024   \n\n    longitudinal_diff_km  \n0            -109.800336  \n1             -35.062288  \n2              57.104160  \n3             851.864240  \n4             848.023352  \n..                   ...  \n65             39.445688  \n66            -51.646832  \n67           -168.744504  \n68           -499.974192  \n69           -499.136976  \n\n[69 rows x 12 columns]",
      "text/html": "<div>\n<style scoped>\n    .dataframe tbody tr th:only-of-type {\n        vertical-align: middle;\n    }\n\n    .dataframe tbody tr th {\n        vertical-align: top;\n    }\n\n    .dataframe thead th {\n        text-align: right;\n    }\n</style>\n<table border=\"1\" class=\"dataframe\">\n  <thead>\n    <tr style=\"text-align: right;\">\n      <th></th>\n      <th>population</th>\n      <th>CODE</th>\n      <th>country_ISO_A2</th>\n      <th>NAME</th>\n      <th>longitude</th>\n      <th>latitude</th>\n      <th>mercantor_x</th>\n      <th>mercantor_y</th>\n      <th>social_timezone</th>\n      <th>utc_sun_timezone_offset</th>\n      <th>summertime_longitudinal_diff_km</th>\n      <th>longitudinal_diff_km</th>\n    </tr>\n  </thead>\n  <tbody>\n    <tr>\n      <th>0</th>\n      <td>1766746</td>\n      <td>AT001C</td>\n      <td>AT</td>\n      <td>Wien</td>\n      <td>16.372504</td>\n      <td>48.208354</td>\n      <td>1.822579e+06</td>\n      <td>6.141588e+06</td>\n      <td>CET</td>\n      <td>1</td>\n      <td>1090.199664</td>\n      <td>-109.800336</td>\n    </tr>\n    <tr>\n      <th>1</th>\n      <td>269997</td>\n      <td>AT002C</td>\n      <td>AT</td>\n      <td>Graz</td>\n      <td>15.438279</td>\n      <td>47.070868</td>\n      <td>1.718581e+06</td>\n      <td>5.953649e+06</td>\n      <td>CET</td>\n      <td>1</td>\n      <td>1164.937712</td>\n      <td>-35.062288</td>\n    </tr>\n    <tr>\n      <th>2</th>\n      <td>193814</td>\n      <td>AT003C</td>\n      <td>AT</td>\n      <td>Linz</td>\n      <td>14.286198</td>\n      <td>48.305908</td>\n      <td>1.590332e+06</td>\n      <td>6.157899e+06</td>\n      <td>CET</td>\n      <td>1</td>\n      <td>1257.104160</td>\n      <td>57.104160</td>\n    </tr>\n    <tr>\n      <th>3</th>\n      <td>1226329</td>\n      <td>BE001C</td>\n      <td>BE</td>\n      <td>Bruxelles/Brussel</td>\n      <td>4.351697</td>\n      <td>50.846557</td>\n      <td>4.844287e+05</td>\n      <td>6.594196e+06</td>\n      <td>CET</td>\n      <td>1</td>\n      <td>2051.864240</td>\n      <td>851.864240</td>\n    </tr>\n    <tr>\n      <th>4</th>\n      <td>530627</td>\n      <td>BE002C</td>\n      <td>BE</td>\n      <td>Antwerpen</td>\n      <td>4.399708</td>\n      <td>51.221110</td>\n      <td>4.897733e+05</td>\n      <td>6.660499e+06</td>\n      <td>CET</td>\n      <td>1</td>\n      <td>2048.023352</td>\n      <td>848.023352</td>\n    </tr>\n    <tr>\n      <th>...</th>\n      <td>...</td>\n      <td>...</td>\n      <td>...</td>\n      <td>...</td>\n      <td>...</td>\n      <td>...</td>\n      <td>...</td>\n      <td>...</td>\n      <td>...</td>\n      <td>...</td>\n      <td>...</td>\n      <td>...</td>\n    </tr>\n    <tr>\n      <th>65</th>\n      <td>295504</td>\n      <td>SI001C</td>\n      <td>SI</td>\n      <td>Ljubljana</td>\n      <td>14.506929</td>\n      <td>46.050027</td>\n      <td>1.614904e+06</td>\n      <td>5.788370e+06</td>\n      <td>CET</td>\n      <td>1</td>\n      <td>1239.445688</td>\n      <td>39.445688</td>\n    </tr>\n    <tr>\n      <th>66</th>\n      <td>112682</td>\n      <td>SI002C</td>\n      <td>SI</td>\n      <td>Maribor</td>\n      <td>15.645585</td>\n      <td>46.557644</td>\n      <td>1.741659e+06</td>\n      <td>5.870167e+06</td>\n      <td>CET</td>\n      <td>1</td>\n      <td>1148.353168</td>\n      <td>-51.646832</td>\n    </tr>\n    <tr>\n      <th>67</th>\n      <td>475577</td>\n      <td>SK001C</td>\n      <td>SK</td>\n      <td>Bratislava</td>\n      <td>17.109306</td>\n      <td>48.151699</td>\n      <td>1.904599e+06</td>\n      <td>6.132129e+06</td>\n      <td>CET</td>\n      <td>1</td>\n      <td>1031.255496</td>\n      <td>-168.744504</td>\n    </tr>\n    <tr>\n      <th>68</th>\n      <td>240164</td>\n      <td>SK002C</td>\n      <td>SK</td>\n      <td>Košice</td>\n      <td>21.249677</td>\n      <td>48.717227</td>\n      <td>2.365503e+06</td>\n      <td>6.227016e+06</td>\n      <td>CET</td>\n      <td>1</td>\n      <td>700.025808</td>\n      <td>-499.974192</td>\n    </tr>\n    <tr>\n      <th>69</th>\n      <td>91352</td>\n      <td>SK005C</td>\n      <td>SK</td>\n      <td>Prešov</td>\n      <td>21.239212</td>\n      <td>49.000007</td>\n      <td>2.364338e+06</td>\n      <td>6.274863e+06</td>\n      <td>CET</td>\n      <td>1</td>\n      <td>700.863024</td>\n      <td>-499.136976</td>\n    </tr>\n  </tbody>\n</table>\n<p>69 rows × 12 columns</p>\n</div>"
     },
     "execution_count": 5,
     "metadata": {},
     "output_type": "execute_result"
    }
   ],
   "source": [
    "top_city_data"
   ],
   "metadata": {
    "collapsed": false,
    "pycharm": {
     "name": "#%%\n"
    }
   }
  },
  {
   "cell_type": "code",
   "execution_count": 6,
   "outputs": [
    {
     "data": {
      "text/plain": "  country_ISO_A2 summer_period winter_period   dst  summer_diff_h  \\\n0             AT         05:56         08:09  True       3.058951   \n1             BE         06:31         09:00  True       2.471296   \n2             BG         06:26         08:17  True       2.555041   \n3             CY         06:06         07:30  True       2.898457   \n4             CZ         05:47         08:10  True       3.200257   \n\n   winter_diff_h  \n0       0.835794  \n1      -0.015735  \n2       0.706898  \n3       1.483557  \n4       0.821104  ",
      "text/html": "<div>\n<style scoped>\n    .dataframe tbody tr th:only-of-type {\n        vertical-align: middle;\n    }\n\n    .dataframe tbody tr th {\n        vertical-align: top;\n    }\n\n    .dataframe thead th {\n        text-align: right;\n    }\n</style>\n<table border=\"1\" class=\"dataframe\">\n  <thead>\n    <tr style=\"text-align: right;\">\n      <th></th>\n      <th>country_ISO_A2</th>\n      <th>summer_period</th>\n      <th>winter_period</th>\n      <th>dst</th>\n      <th>summer_diff_h</th>\n      <th>winter_diff_h</th>\n    </tr>\n  </thead>\n  <tbody>\n    <tr>\n      <th>0</th>\n      <td>AT</td>\n      <td>05:56</td>\n      <td>08:09</td>\n      <td>True</td>\n      <td>3.058951</td>\n      <td>0.835794</td>\n    </tr>\n    <tr>\n      <th>1</th>\n      <td>BE</td>\n      <td>06:31</td>\n      <td>09:00</td>\n      <td>True</td>\n      <td>2.471296</td>\n      <td>-0.015735</td>\n    </tr>\n    <tr>\n      <th>2</th>\n      <td>BG</td>\n      <td>06:26</td>\n      <td>08:17</td>\n      <td>True</td>\n      <td>2.555041</td>\n      <td>0.706898</td>\n    </tr>\n    <tr>\n      <th>3</th>\n      <td>CY</td>\n      <td>06:06</td>\n      <td>07:30</td>\n      <td>True</td>\n      <td>2.898457</td>\n      <td>1.483557</td>\n    </tr>\n    <tr>\n      <th>4</th>\n      <td>CZ</td>\n      <td>05:47</td>\n      <td>08:10</td>\n      <td>True</td>\n      <td>3.200257</td>\n      <td>0.821104</td>\n    </tr>\n  </tbody>\n</table>\n</div>"
     },
     "execution_count": 6,
     "metadata": {},
     "output_type": "execute_result"
    }
   ],
   "source": [
    "sun_data.head()"
   ],
   "metadata": {
    "collapsed": false,
    "pycharm": {
     "name": "#%%\n"
    }
   }
  },
  {
   "cell_type": "code",
   "execution_count": 7,
   "outputs": [
    {
     "data": {
      "text/plain": "       pop_est continent         name iso_a3  gdp_md_est  \\\n0   67059887.0    Europe       France    FRA     2715518   \n1   67059887.0    Europe       France    FRA     2715518   \n2   10285453.0    Europe       Sweden    SWE      530883   \n3   10285453.0    Europe       Sweden    SWE      530883   \n4   37970874.0    Europe       Poland    POL      595858   \n5   37970874.0    Europe       Poland    POL      595858   \n6    8877067.0    Europe      Austria    AUT      445075   \n7    8877067.0    Europe      Austria    AUT      445075   \n8    9769949.0    Europe      Hungary    HUN      163469   \n9    9769949.0    Europe      Hungary    HUN      163469   \n10  19356544.0    Europe      Romania    ROU      250077   \n11  19356544.0    Europe      Romania    ROU      250077   \n12   2786844.0    Europe    Lithuania    LTU       54627   \n13   2786844.0    Europe    Lithuania    LTU       54627   \n14   1912789.0    Europe       Latvia    LVA       34102   \n15   1912789.0    Europe       Latvia    LVA       34102   \n16   1326590.0    Europe      Estonia    EST       31471   \n17   1326590.0    Europe      Estonia    EST       31471   \n18  83132799.0    Europe      Germany    DEU     3861123   \n19  83132799.0    Europe      Germany    DEU     3861123   \n20   6975761.0    Europe     Bulgaria    BGR       68558   \n21   6975761.0    Europe     Bulgaria    BGR       68558   \n22  10716322.0    Europe       Greece    GRC      209852   \n23  10716322.0    Europe       Greece    GRC      209852   \n24   4067500.0    Europe      Croatia    HRV       60752   \n25   4067500.0    Europe      Croatia    HRV       60752   \n26    619896.0    Europe   Luxembourg    LUX       71104   \n27    619896.0    Europe   Luxembourg    LUX       71104   \n28  11484055.0    Europe      Belgium    BEL      533097   \n29  11484055.0    Europe      Belgium    BEL      533097   \n30  17332850.0    Europe  Netherlands    NLD      907050   \n31  17332850.0    Europe  Netherlands    NLD      907050   \n32  10269417.0    Europe     Portugal    PRT      238785   \n33  10269417.0    Europe     Portugal    PRT      238785   \n34  47076781.0    Europe        Spain    ESP     1393490   \n35  47076781.0    Europe        Spain    ESP     1393490   \n36   4941444.0    Europe      Ireland    IRL      388698   \n37   4941444.0    Europe      Ireland    IRL      388698   \n38  60297396.0    Europe        Italy    ITA     2003576   \n39  60297396.0    Europe        Italy    ITA     2003576   \n40   5818553.0    Europe      Denmark    DNK      350104   \n41   5818553.0    Europe      Denmark    DNK      350104   \n42   2087946.0    Europe     Slovenia    SVN       54174   \n43   2087946.0    Europe     Slovenia    SVN       54174   \n44   5520314.0    Europe      Finland    FIN      269296   \n45   5520314.0    Europe      Finland    FIN      269296   \n46   5454073.0    Europe     Slovakia    SVK      105079   \n47   5454073.0    Europe     Slovakia    SVK      105079   \n48  10669709.0    Europe      Czechia    CZE      250680   \n49  10669709.0    Europe      Czechia    CZE      250680   \n50   1198575.0      Asia       Cyprus    CYP       24948   \n51   1198575.0      Asia       Cyprus    CYP       24948   \n\n                                             geometry iso_a2 social_timezone  \\\n0   MULTIPOLYGON (((-5750519.703 463075.975, -5816...     FR             CET   \n1   MULTIPOLYGON (((-5750519.703 463075.975, -5816...     FR             CET   \n2   POLYGON ((1227561.058 8149359.996, 1276642.191...     SE             CET   \n3   POLYGON ((1227561.058 8149359.996, 1276642.191...     SE             CET   \n4   POLYGON ((2614241.130 7153601.786, 2619073.310...     PL             CET   \n5   POLYGON ((2614241.130 7153601.786, 2619073.310...     PL             CET   \n6   POLYGON ((1890167.860 6127424.985, 1881717.299...     AT             CET   \n7   POLYGON ((1890167.860 6127424.985, 1881717.299...     AT             CET   \n8   POLYGON ((2458558.676 6177394.292, 2520364.547...     HU             CET   \n9   POLYGON ((2458558.676 6177394.292, 2520364.547...     HU             CET   \n10  POLYGON ((3142944.799 5698722.044, 3192618.449...     RO             EET   \n11  POLYGON ((3142944.799 5698722.044, 3192618.449...     RO             EET   \n12  POLYGON ((2949335.491 7482172.795, 2959793.707...     LT             EET   \n13  POLYGON ((2949335.491 7482172.795, 2959793.707...     LT             EET   \n14  POLYGON ((3037706.842 7857733.043, 3091344.030...     LV             EET   \n15  POLYGON ((3037706.842 7857733.043, 3091344.030...     LV             EET   \n16  POLYGON ((3114844.794 8283850.476, 3114844.030...     EE             EET   \n17  POLYGON ((3114844.794 8283850.476, 3114844.030...     EE             EET   \n18  POLYGON ((1571796.291 7124274.152, 1597803.769...     DE             CET   \n19  POLYGON ((1571796.291 7124274.152, 1597803.769...     DE             CET   \n20  POLYGON ((2522182.367 5501869.325, 2554207.058...     BG             EET   \n21  POLYGON ((2522182.367 5501869.325, 2554207.058...     BG             EET   \n22  MULTIPOLYGON (((2926589.734 4204723.734, 29126...     EL             EET   \n23  MULTIPOLYGON (((2926589.734 4204723.734, 29126...     EL             EET   \n24  POLYGON ((1843986.034 5861446.443, 1879352.983...     HR             CET   \n25  POLYGON ((1843986.034 5861446.443, 1879352.983...     HR             CET   \n26  POLYGON ((672711.849 6468481.737, 694939.873 6...     LU             CET   \n27  POLYGON ((672711.849 6468481.737, 694939.873 6...     LU             CET   \n28  POLYGON ((685356.051 6586647.408, 672711.849 6...     BE             CET   \n29  POLYGON ((685356.051 6586647.408, 672711.849 6...     BE             CET   \n30  POLYGON ((768676.624 7072687.677, 789483.757 7...     NL             CET   \n31  POLYGON ((768676.624 7072687.677, 789483.757 7...     NL             CET   \n32  POLYGON ((-1005751.303 5143106.251, -965356.58...     PT             WET   \n33  POLYGON ((-1005751.303 5143106.251, -965356.58...     PT             WET   \n34  POLYGON ((-829744.933 4452745.895, -839026.744...     ES             CET   \n35  POLYGON ((-829744.933 4452745.895, -839026.744...     ES             CET   \n36  POLYGON ((-689945.390 7145114.483, -671588.863...     IE             WET   \n37  POLYGON ((-689945.390 7145114.483, -671588.863...     IE             WET   \n38  MULTIPOLYGON (((1162476.208 5924715.388, 12299...     IT             CET   \n39  MULTIPOLYGON (((1162476.208 5924715.388, 12299...     IT             CET   \n40  MULTIPOLYGON (((1104501.564 7358587.664, 10332...     DK             CET   \n41  MULTIPOLYGON (((1104501.564 7358587.664, 10332...     DK             CET   \n42  POLYGON ((1536929.818 5862344.931, 1628879.282...     SI             CET   \n43  POLYGON ((1536929.818 5862344.931, 1628879.282...     SI             CET   \n44  POLYGON ((3182839.039 10770937.822, 3166587.96...     FI             EET   \n45  POLYGON ((3182839.039 10770937.822, 3166587.96...     FI             EET   \n46  POLYGON ((2511160.396 6289421.884, 2480291.976...     SK             CET   \n47  POLYGON ((2511160.396 6289421.884, 2480291.976...     SK             CET   \n48  POLYGON ((1671684.335 6640184.872, 1724447.128...     CZ             CET   \n49  POLYGON ((1671684.335 6640184.872, 1724447.128...     CZ             CET   \n50  POLYGON ((3643685.108 4182926.430, 3664590.035...     CY             EET   \n51  POLYGON ((3643685.108 4182926.430, 3664590.035...     CY             EET   \n\n    utc_sun_timezone_offset  mean_longitudinal_diff_km  ...    dst  \\\n0                         1                 865.323856  ...  False   \n1                         1                2065.323856  ...   True   \n2                         1                  52.312875  ...  False   \n3                         1                1252.312875  ...   True   \n4                         1                -410.681931  ...  False   \n5                         1                 789.318069  ...   True   \n6                         1                 -29.252821  ...  False   \n7                         1                1170.747179  ...   True   \n8                         1                -438.831520  ...  False   \n9                         1                 761.168480  ...   True   \n10                        2                 402.341600  ...  False   \n11                        2                1602.341600  ...   True   \n12                        2                 524.734941  ...  False   \n13                        2                1724.734941  ...   True   \n14                        2                 489.914437  ...  False   \n15                        2                1689.914437  ...   True   \n16                        2                 275.734280  ...  False   \n17                        2                1475.734280  ...   True   \n18                        1                 267.602771  ...  False   \n19                        1                1467.602771  ...   True   \n20                        2                 373.644509  ...  False   \n21                        2                1573.644509  ...   True   \n22                        2                 368.691560  ...  False   \n23                        2                1568.691560  ...   True   \n24                        1                 -49.184143  ...  False   \n25                        1                1150.815857  ...   True   \n26                        1                 709.616080  ...  False   \n27                        1                1909.616080  ...   True   \n28                        1                 817.999565  ...  False   \n29                        1                2017.999565  ...   True   \n30                        1                 835.158680  ...  False   \n31                        1                2035.158680  ...   True   \n32                        0                 723.612808  ...  False   \n33                        0                1923.612808  ...   True   \n34                        1                1250.732949  ...  False   \n35                        1                2450.732949  ...   True   \n36                        0                 500.844744  ...  False   \n37                        0                1700.844744  ...   True   \n38                        1                 242.097744  ...  False   \n39                        1                1442.097744  ...   True   \n40                        1                 327.866579  ...  False   \n41                        1                1527.866579  ...   True   \n42                        1                  -6.100572  ...  False   \n43                        1                1193.899428  ...   True   \n44                        2                 443.732621  ...  False   \n45                        2                1643.732621  ...   True   \n46                        1                -389.285224  ...  False   \n47                        1                 810.714776  ...   True   \n48                        1                -115.056003  ...  False   \n49                        1                1084.943997  ...   True   \n50                        2                -269.108544  ...  False   \n51                        2                 930.891456  ...   True   \n\n    pop_percent   weights  weighted_mean_longdiff  \\\n0      0.150019  0.805207              696.765077   \n1      0.150019  0.805207             1663.013825   \n2      0.023009  0.117140                6.127927   \n3      0.023009  0.117140              146.695862   \n4      0.084944  0.452668             -185.902704   \n5      0.084944  0.452668              357.299292   \n6      0.019859  0.100071               -2.927367   \n7      0.019859  0.100071              117.158157   \n8      0.021856  0.110892              -48.663076   \n9      0.021856  0.110892               84.407792   \n10     0.043302  0.227075               91.361868   \n11     0.043302  0.227075              363.852312   \n12     0.006234  0.026262               13.780552   \n13     0.006234  0.026262               45.294867   \n14     0.004279  0.015669                7.676459   \n15     0.004279  0.015669               26.479235   \n16     0.002968  0.008565                2.361567   \n17     0.002968  0.008565               12.639145   \n18     0.185976  1.000000              267.602771   \n19     0.185976  1.000000             1467.602771   \n20     0.015605  0.077029               28.781366   \n21     0.015605  0.077029              121.215855   \n22     0.023973  0.122362               45.113757   \n23     0.023973  0.122362              191.947898   \n24     0.009099  0.041783               -2.055042   \n25     0.009099  0.041783               48.084084   \n26     0.001387  0.000000                0.000000   \n27     0.001387  0.000000                0.000000   \n28     0.025691  0.131666              107.702881   \n29     0.025691  0.131666              265.702300   \n30     0.038775  0.202550              169.161041   \n31     0.038775  0.202550              412.220540   \n32     0.022974  0.116946               84.623334   \n33     0.022974  0.116946              224.958055   \n34     0.105315  0.563026              704.194795   \n35     0.105315  0.563026             1379.825635   \n36     0.011054  0.052374               26.231347   \n37     0.011054  0.052374               89.080398   \n38     0.134891  0.723251              175.097319   \n39     0.134891  0.723251             1042.997943   \n40     0.013017  0.063004               20.656962   \n41     0.013017  0.063004               96.261966   \n42     0.004671  0.017792               -0.108540   \n43     0.004671  0.017792               21.241575   \n44     0.012349  0.059390               26.353155   \n45     0.012349  0.059390               97.620816   \n46     0.012201  0.058587              -22.807023   \n47     0.012201  0.058587               47.497283   \n48     0.023869  0.121797              -14.013461   \n49     0.023869  0.121797              132.142779   \n50     0.002681  0.007013               -1.887310   \n51     0.002681  0.007013                6.528522   \n\n    norm_weighted_mean_longdiff  country_ISO_A2  summer_period  winter_period  \\\n0                      0.418977              FR          05:44          07:50   \n1                      1.000000              FR          06:44          08:50   \n2                      0.003685              SE          04:32          07:48   \n3                      0.088211              SE          05:32          08:48   \n4                      0.111787              PL          04:29          07:01   \n5                      0.214850              PL          05:29          08:01   \n6                      0.001760              AT          04:56          07:09   \n7                      0.070449              AT          05:56          08:09   \n8                      0.029262              HU          04:36          06:49   \n9                      0.050756              HU          05:36          07:49   \n10                     0.054938              RO          05:22          07:26   \n11                     0.218791              RO          06:22          08:26   \n12                     0.008286              LT          05:04          08:00   \n13                     0.027237              LT          06:04          09:00   \n14                     0.004616              LV          04:58          08:04   \n15                     0.015922              LV          05:58          09:04   \n16                     0.001420              EE          04:37          08:06   \n17                     0.007600              EE          05:37          09:06   \n18                     0.160914              DE          05:02          07:35   \n19                     0.882496              DE          06:02          08:35   \n20                     0.017307              BG          05:26          07:17   \n21                     0.072889              BG          06:26          08:17   \n22                     0.027128              EL          05:37          07:03   \n23                     0.115422              EL          06:37          08:03   \n24                     0.001236              HR          05:01          07:01   \n25                     0.028914              HR          06:01          08:01   \n26                     0.000000              LU          05:29          07:51   \n27                     0.000000              LU          06:29          08:51   \n28                     0.064764              BE          05:31          08:00   \n29                     0.159772              BE          06:31          09:00   \n30                     0.101720              NL          05:29          08:05   \n31                     0.247876              NL          06:29          09:05   \n32                     0.050886              PT          05:49          07:28   \n33                     0.135271              PT          06:49          08:28   \n34                     0.423445              ES          06:14          07:56   \n35                     0.829714              ES          07:14          08:56   \n36                     0.015773              IE          05:09          07:53   \n37                     0.053566              IE          06:09          08:53   \n38                     0.105289              IT          05:19          07:11   \n39                     0.627173              IT          06:19          08:11   \n40                     0.012421              DK          04:51          07:55   \n41                     0.057884              DK          05:51          08:55   \n42                     0.000065              SI          05:00          07:07   \n43                     0.012773              SI          06:00          08:07   \n44                     0.015847              FI          04:38          08:23   \n45                     0.058701              FI          05:38          09:23   \n46                     0.013714              SK          04:36          06:53   \n47                     0.028561              SK          05:36          07:53   \n48                     0.008427              CZ          04:47          07:10   \n49                     0.079460              CZ          05:47          08:10   \n50                     0.001135              CY          05:06          06:30   \n51                     0.003926              CY          06:06          07:30   \n\n   summer_diff_h winter_diff_h  \n0       3.251337      1.166518  \n1       2.251337      0.166518  \n2       4.461780      1.200000  \n3       3.461780      0.200000  \n4       4.515921      1.983296  \n5       3.515921      0.983296  \n6       4.058951      1.835794  \n7       3.058951      0.835794  \n8       4.394856      2.183259  \n9       3.394856      1.183259  \n10      3.628241      1.562826  \n11      2.628241      0.562826  \n12      3.917207      0.985682  \n13      2.917207     -0.014318  \n14      4.022325      0.922670  \n15      3.022325     -0.077330  \n16      4.376029      0.895339  \n17      3.376029     -0.104661  \n18      3.957845      1.409471  \n19      2.957845      0.409471  \n20      3.555041      1.706898  \n21      2.555041      0.706898  \n22      3.369907      1.948658  \n23      2.369907      0.948658  \n24      3.975437      1.975280  \n25      2.975437      0.975280  \n26      3.509259      1.139374  \n27      2.509259      0.139374  \n28      3.471296      0.984265  \n29      2.471296     -0.015735  \n30      3.510211      0.905295  \n31      2.510211     -0.094705  \n32      3.177109      1.522931  \n33      2.177109      0.522931  \n34      2.761137      1.054884  \n35      1.761137      0.054884  \n36      3.846296      1.115213  \n37      2.846296      0.115213  \n38      3.668133      1.812528  \n39      2.668133      0.812528  \n40      4.149306      1.068606  \n41      3.149306      0.068606  \n42      3.985224      1.882830  \n43      2.985224      0.882830  \n44      4.361908      0.610142  \n45      3.361908     -0.389858  \n46      4.386831      2.100671  \n47      3.386831      1.100671  \n48      4.200257      1.821104  \n49      3.200257      0.821104  \n50      3.898457      2.483557  \n51      2.898457      1.483557  \n\n[52 rows x 23 columns]",
      "text/html": "<div>\n<style scoped>\n    .dataframe tbody tr th:only-of-type {\n        vertical-align: middle;\n    }\n\n    .dataframe tbody tr th {\n        vertical-align: top;\n    }\n\n    .dataframe thead th {\n        text-align: right;\n    }\n</style>\n<table border=\"1\" class=\"dataframe\">\n  <thead>\n    <tr style=\"text-align: right;\">\n      <th></th>\n      <th>pop_est</th>\n      <th>continent</th>\n      <th>name</th>\n      <th>iso_a3</th>\n      <th>gdp_md_est</th>\n      <th>geometry</th>\n      <th>iso_a2</th>\n      <th>social_timezone</th>\n      <th>utc_sun_timezone_offset</th>\n      <th>mean_longitudinal_diff_km</th>\n      <th>...</th>\n      <th>dst</th>\n      <th>pop_percent</th>\n      <th>weights</th>\n      <th>weighted_mean_longdiff</th>\n      <th>norm_weighted_mean_longdiff</th>\n      <th>country_ISO_A2</th>\n      <th>summer_period</th>\n      <th>winter_period</th>\n      <th>summer_diff_h</th>\n      <th>winter_diff_h</th>\n    </tr>\n  </thead>\n  <tbody>\n    <tr>\n      <th>0</th>\n      <td>67059887.0</td>\n      <td>Europe</td>\n      <td>France</td>\n      <td>FRA</td>\n      <td>2715518</td>\n      <td>MULTIPOLYGON (((-5750519.703 463075.975, -5816...</td>\n      <td>FR</td>\n      <td>CET</td>\n      <td>1</td>\n      <td>865.323856</td>\n      <td>...</td>\n      <td>False</td>\n      <td>0.150019</td>\n      <td>0.805207</td>\n      <td>696.765077</td>\n      <td>0.418977</td>\n      <td>FR</td>\n      <td>05:44</td>\n      <td>07:50</td>\n      <td>3.251337</td>\n      <td>1.166518</td>\n    </tr>\n    <tr>\n      <th>1</th>\n      <td>67059887.0</td>\n      <td>Europe</td>\n      <td>France</td>\n      <td>FRA</td>\n      <td>2715518</td>\n      <td>MULTIPOLYGON (((-5750519.703 463075.975, -5816...</td>\n      <td>FR</td>\n      <td>CET</td>\n      <td>1</td>\n      <td>2065.323856</td>\n      <td>...</td>\n      <td>True</td>\n      <td>0.150019</td>\n      <td>0.805207</td>\n      <td>1663.013825</td>\n      <td>1.000000</td>\n      <td>FR</td>\n      <td>06:44</td>\n      <td>08:50</td>\n      <td>2.251337</td>\n      <td>0.166518</td>\n    </tr>\n    <tr>\n      <th>2</th>\n      <td>10285453.0</td>\n      <td>Europe</td>\n      <td>Sweden</td>\n      <td>SWE</td>\n      <td>530883</td>\n      <td>POLYGON ((1227561.058 8149359.996, 1276642.191...</td>\n      <td>SE</td>\n      <td>CET</td>\n      <td>1</td>\n      <td>52.312875</td>\n      <td>...</td>\n      <td>False</td>\n      <td>0.023009</td>\n      <td>0.117140</td>\n      <td>6.127927</td>\n      <td>0.003685</td>\n      <td>SE</td>\n      <td>04:32</td>\n      <td>07:48</td>\n      <td>4.461780</td>\n      <td>1.200000</td>\n    </tr>\n    <tr>\n      <th>3</th>\n      <td>10285453.0</td>\n      <td>Europe</td>\n      <td>Sweden</td>\n      <td>SWE</td>\n      <td>530883</td>\n      <td>POLYGON ((1227561.058 8149359.996, 1276642.191...</td>\n      <td>SE</td>\n      <td>CET</td>\n      <td>1</td>\n      <td>1252.312875</td>\n      <td>...</td>\n      <td>True</td>\n      <td>0.023009</td>\n      <td>0.117140</td>\n      <td>146.695862</td>\n      <td>0.088211</td>\n      <td>SE</td>\n      <td>05:32</td>\n      <td>08:48</td>\n      <td>3.461780</td>\n      <td>0.200000</td>\n    </tr>\n    <tr>\n      <th>4</th>\n      <td>37970874.0</td>\n      <td>Europe</td>\n      <td>Poland</td>\n      <td>POL</td>\n      <td>595858</td>\n      <td>POLYGON ((2614241.130 7153601.786, 2619073.310...</td>\n      <td>PL</td>\n      <td>CET</td>\n      <td>1</td>\n      <td>-410.681931</td>\n      <td>...</td>\n      <td>False</td>\n      <td>0.084944</td>\n      <td>0.452668</td>\n      <td>-185.902704</td>\n      <td>0.111787</td>\n      <td>PL</td>\n      <td>04:29</td>\n      <td>07:01</td>\n      <td>4.515921</td>\n      <td>1.983296</td>\n    </tr>\n    <tr>\n      <th>5</th>\n      <td>37970874.0</td>\n      <td>Europe</td>\n      <td>Poland</td>\n      <td>POL</td>\n      <td>595858</td>\n      <td>POLYGON ((2614241.130 7153601.786, 2619073.310...</td>\n      <td>PL</td>\n      <td>CET</td>\n      <td>1</td>\n      <td>789.318069</td>\n      <td>...</td>\n      <td>True</td>\n      <td>0.084944</td>\n      <td>0.452668</td>\n      <td>357.299292</td>\n      <td>0.214850</td>\n      <td>PL</td>\n      <td>05:29</td>\n      <td>08:01</td>\n      <td>3.515921</td>\n      <td>0.983296</td>\n    </tr>\n    <tr>\n      <th>6</th>\n      <td>8877067.0</td>\n      <td>Europe</td>\n      <td>Austria</td>\n      <td>AUT</td>\n      <td>445075</td>\n      <td>POLYGON ((1890167.860 6127424.985, 1881717.299...</td>\n      <td>AT</td>\n      <td>CET</td>\n      <td>1</td>\n      <td>-29.252821</td>\n      <td>...</td>\n      <td>False</td>\n      <td>0.019859</td>\n      <td>0.100071</td>\n      <td>-2.927367</td>\n      <td>0.001760</td>\n      <td>AT</td>\n      <td>04:56</td>\n      <td>07:09</td>\n      <td>4.058951</td>\n      <td>1.835794</td>\n    </tr>\n    <tr>\n      <th>7</th>\n      <td>8877067.0</td>\n      <td>Europe</td>\n      <td>Austria</td>\n      <td>AUT</td>\n      <td>445075</td>\n      <td>POLYGON ((1890167.860 6127424.985, 1881717.299...</td>\n      <td>AT</td>\n      <td>CET</td>\n      <td>1</td>\n      <td>1170.747179</td>\n      <td>...</td>\n      <td>True</td>\n      <td>0.019859</td>\n      <td>0.100071</td>\n      <td>117.158157</td>\n      <td>0.070449</td>\n      <td>AT</td>\n      <td>05:56</td>\n      <td>08:09</td>\n      <td>3.058951</td>\n      <td>0.835794</td>\n    </tr>\n    <tr>\n      <th>8</th>\n      <td>9769949.0</td>\n      <td>Europe</td>\n      <td>Hungary</td>\n      <td>HUN</td>\n      <td>163469</td>\n      <td>POLYGON ((2458558.676 6177394.292, 2520364.547...</td>\n      <td>HU</td>\n      <td>CET</td>\n      <td>1</td>\n      <td>-438.831520</td>\n      <td>...</td>\n      <td>False</td>\n      <td>0.021856</td>\n      <td>0.110892</td>\n      <td>-48.663076</td>\n      <td>0.029262</td>\n      <td>HU</td>\n      <td>04:36</td>\n      <td>06:49</td>\n      <td>4.394856</td>\n      <td>2.183259</td>\n    </tr>\n    <tr>\n      <th>9</th>\n      <td>9769949.0</td>\n      <td>Europe</td>\n      <td>Hungary</td>\n      <td>HUN</td>\n      <td>163469</td>\n      <td>POLYGON ((2458558.676 6177394.292, 2520364.547...</td>\n      <td>HU</td>\n      <td>CET</td>\n      <td>1</td>\n      <td>761.168480</td>\n      <td>...</td>\n      <td>True</td>\n      <td>0.021856</td>\n      <td>0.110892</td>\n      <td>84.407792</td>\n      <td>0.050756</td>\n      <td>HU</td>\n      <td>05:36</td>\n      <td>07:49</td>\n      <td>3.394856</td>\n      <td>1.183259</td>\n    </tr>\n    <tr>\n      <th>10</th>\n      <td>19356544.0</td>\n      <td>Europe</td>\n      <td>Romania</td>\n      <td>ROU</td>\n      <td>250077</td>\n      <td>POLYGON ((3142944.799 5698722.044, 3192618.449...</td>\n      <td>RO</td>\n      <td>EET</td>\n      <td>2</td>\n      <td>402.341600</td>\n      <td>...</td>\n      <td>False</td>\n      <td>0.043302</td>\n      <td>0.227075</td>\n      <td>91.361868</td>\n      <td>0.054938</td>\n      <td>RO</td>\n      <td>05:22</td>\n      <td>07:26</td>\n      <td>3.628241</td>\n      <td>1.562826</td>\n    </tr>\n    <tr>\n      <th>11</th>\n      <td>19356544.0</td>\n      <td>Europe</td>\n      <td>Romania</td>\n      <td>ROU</td>\n      <td>250077</td>\n      <td>POLYGON ((3142944.799 5698722.044, 3192618.449...</td>\n      <td>RO</td>\n      <td>EET</td>\n      <td>2</td>\n      <td>1602.341600</td>\n      <td>...</td>\n      <td>True</td>\n      <td>0.043302</td>\n      <td>0.227075</td>\n      <td>363.852312</td>\n      <td>0.218791</td>\n      <td>RO</td>\n      <td>06:22</td>\n      <td>08:26</td>\n      <td>2.628241</td>\n      <td>0.562826</td>\n    </tr>\n    <tr>\n      <th>12</th>\n      <td>2786844.0</td>\n      <td>Europe</td>\n      <td>Lithuania</td>\n      <td>LTU</td>\n      <td>54627</td>\n      <td>POLYGON ((2949335.491 7482172.795, 2959793.707...</td>\n      <td>LT</td>\n      <td>EET</td>\n      <td>2</td>\n      <td>524.734941</td>\n      <td>...</td>\n      <td>False</td>\n      <td>0.006234</td>\n      <td>0.026262</td>\n      <td>13.780552</td>\n      <td>0.008286</td>\n      <td>LT</td>\n      <td>05:04</td>\n      <td>08:00</td>\n      <td>3.917207</td>\n      <td>0.985682</td>\n    </tr>\n    <tr>\n      <th>13</th>\n      <td>2786844.0</td>\n      <td>Europe</td>\n      <td>Lithuania</td>\n      <td>LTU</td>\n      <td>54627</td>\n      <td>POLYGON ((2949335.491 7482172.795, 2959793.707...</td>\n      <td>LT</td>\n      <td>EET</td>\n      <td>2</td>\n      <td>1724.734941</td>\n      <td>...</td>\n      <td>True</td>\n      <td>0.006234</td>\n      <td>0.026262</td>\n      <td>45.294867</td>\n      <td>0.027237</td>\n      <td>LT</td>\n      <td>06:04</td>\n      <td>09:00</td>\n      <td>2.917207</td>\n      <td>-0.014318</td>\n    </tr>\n    <tr>\n      <th>14</th>\n      <td>1912789.0</td>\n      <td>Europe</td>\n      <td>Latvia</td>\n      <td>LVA</td>\n      <td>34102</td>\n      <td>POLYGON ((3037706.842 7857733.043, 3091344.030...</td>\n      <td>LV</td>\n      <td>EET</td>\n      <td>2</td>\n      <td>489.914437</td>\n      <td>...</td>\n      <td>False</td>\n      <td>0.004279</td>\n      <td>0.015669</td>\n      <td>7.676459</td>\n      <td>0.004616</td>\n      <td>LV</td>\n      <td>04:58</td>\n      <td>08:04</td>\n      <td>4.022325</td>\n      <td>0.922670</td>\n    </tr>\n    <tr>\n      <th>15</th>\n      <td>1912789.0</td>\n      <td>Europe</td>\n      <td>Latvia</td>\n      <td>LVA</td>\n      <td>34102</td>\n      <td>POLYGON ((3037706.842 7857733.043, 3091344.030...</td>\n      <td>LV</td>\n      <td>EET</td>\n      <td>2</td>\n      <td>1689.914437</td>\n      <td>...</td>\n      <td>True</td>\n      <td>0.004279</td>\n      <td>0.015669</td>\n      <td>26.479235</td>\n      <td>0.015922</td>\n      <td>LV</td>\n      <td>05:58</td>\n      <td>09:04</td>\n      <td>3.022325</td>\n      <td>-0.077330</td>\n    </tr>\n    <tr>\n      <th>16</th>\n      <td>1326590.0</td>\n      <td>Europe</td>\n      <td>Estonia</td>\n      <td>EST</td>\n      <td>31471</td>\n      <td>POLYGON ((3114844.794 8283850.476, 3114844.030...</td>\n      <td>EE</td>\n      <td>EET</td>\n      <td>2</td>\n      <td>275.734280</td>\n      <td>...</td>\n      <td>False</td>\n      <td>0.002968</td>\n      <td>0.008565</td>\n      <td>2.361567</td>\n      <td>0.001420</td>\n      <td>EE</td>\n      <td>04:37</td>\n      <td>08:06</td>\n      <td>4.376029</td>\n      <td>0.895339</td>\n    </tr>\n    <tr>\n      <th>17</th>\n      <td>1326590.0</td>\n      <td>Europe</td>\n      <td>Estonia</td>\n      <td>EST</td>\n      <td>31471</td>\n      <td>POLYGON ((3114844.794 8283850.476, 3114844.030...</td>\n      <td>EE</td>\n      <td>EET</td>\n      <td>2</td>\n      <td>1475.734280</td>\n      <td>...</td>\n      <td>True</td>\n      <td>0.002968</td>\n      <td>0.008565</td>\n      <td>12.639145</td>\n      <td>0.007600</td>\n      <td>EE</td>\n      <td>05:37</td>\n      <td>09:06</td>\n      <td>3.376029</td>\n      <td>-0.104661</td>\n    </tr>\n    <tr>\n      <th>18</th>\n      <td>83132799.0</td>\n      <td>Europe</td>\n      <td>Germany</td>\n      <td>DEU</td>\n      <td>3861123</td>\n      <td>POLYGON ((1571796.291 7124274.152, 1597803.769...</td>\n      <td>DE</td>\n      <td>CET</td>\n      <td>1</td>\n      <td>267.602771</td>\n      <td>...</td>\n      <td>False</td>\n      <td>0.185976</td>\n      <td>1.000000</td>\n      <td>267.602771</td>\n      <td>0.160914</td>\n      <td>DE</td>\n      <td>05:02</td>\n      <td>07:35</td>\n      <td>3.957845</td>\n      <td>1.409471</td>\n    </tr>\n    <tr>\n      <th>19</th>\n      <td>83132799.0</td>\n      <td>Europe</td>\n      <td>Germany</td>\n      <td>DEU</td>\n      <td>3861123</td>\n      <td>POLYGON ((1571796.291 7124274.152, 1597803.769...</td>\n      <td>DE</td>\n      <td>CET</td>\n      <td>1</td>\n      <td>1467.602771</td>\n      <td>...</td>\n      <td>True</td>\n      <td>0.185976</td>\n      <td>1.000000</td>\n      <td>1467.602771</td>\n      <td>0.882496</td>\n      <td>DE</td>\n      <td>06:02</td>\n      <td>08:35</td>\n      <td>2.957845</td>\n      <td>0.409471</td>\n    </tr>\n    <tr>\n      <th>20</th>\n      <td>6975761.0</td>\n      <td>Europe</td>\n      <td>Bulgaria</td>\n      <td>BGR</td>\n      <td>68558</td>\n      <td>POLYGON ((2522182.367 5501869.325, 2554207.058...</td>\n      <td>BG</td>\n      <td>EET</td>\n      <td>2</td>\n      <td>373.644509</td>\n      <td>...</td>\n      <td>False</td>\n      <td>0.015605</td>\n      <td>0.077029</td>\n      <td>28.781366</td>\n      <td>0.017307</td>\n      <td>BG</td>\n      <td>05:26</td>\n      <td>07:17</td>\n      <td>3.555041</td>\n      <td>1.706898</td>\n    </tr>\n    <tr>\n      <th>21</th>\n      <td>6975761.0</td>\n      <td>Europe</td>\n      <td>Bulgaria</td>\n      <td>BGR</td>\n      <td>68558</td>\n      <td>POLYGON ((2522182.367 5501869.325, 2554207.058...</td>\n      <td>BG</td>\n      <td>EET</td>\n      <td>2</td>\n      <td>1573.644509</td>\n      <td>...</td>\n      <td>True</td>\n      <td>0.015605</td>\n      <td>0.077029</td>\n      <td>121.215855</td>\n      <td>0.072889</td>\n      <td>BG</td>\n      <td>06:26</td>\n      <td>08:17</td>\n      <td>2.555041</td>\n      <td>0.706898</td>\n    </tr>\n    <tr>\n      <th>22</th>\n      <td>10716322.0</td>\n      <td>Europe</td>\n      <td>Greece</td>\n      <td>GRC</td>\n      <td>209852</td>\n      <td>MULTIPOLYGON (((2926589.734 4204723.734, 29126...</td>\n      <td>EL</td>\n      <td>EET</td>\n      <td>2</td>\n      <td>368.691560</td>\n      <td>...</td>\n      <td>False</td>\n      <td>0.023973</td>\n      <td>0.122362</td>\n      <td>45.113757</td>\n      <td>0.027128</td>\n      <td>EL</td>\n      <td>05:37</td>\n      <td>07:03</td>\n      <td>3.369907</td>\n      <td>1.948658</td>\n    </tr>\n    <tr>\n      <th>23</th>\n      <td>10716322.0</td>\n      <td>Europe</td>\n      <td>Greece</td>\n      <td>GRC</td>\n      <td>209852</td>\n      <td>MULTIPOLYGON (((2926589.734 4204723.734, 29126...</td>\n      <td>EL</td>\n      <td>EET</td>\n      <td>2</td>\n      <td>1568.691560</td>\n      <td>...</td>\n      <td>True</td>\n      <td>0.023973</td>\n      <td>0.122362</td>\n      <td>191.947898</td>\n      <td>0.115422</td>\n      <td>EL</td>\n      <td>06:37</td>\n      <td>08:03</td>\n      <td>2.369907</td>\n      <td>0.948658</td>\n    </tr>\n    <tr>\n      <th>24</th>\n      <td>4067500.0</td>\n      <td>Europe</td>\n      <td>Croatia</td>\n      <td>HRV</td>\n      <td>60752</td>\n      <td>POLYGON ((1843986.034 5861446.443, 1879352.983...</td>\n      <td>HR</td>\n      <td>CET</td>\n      <td>1</td>\n      <td>-49.184143</td>\n      <td>...</td>\n      <td>False</td>\n      <td>0.009099</td>\n      <td>0.041783</td>\n      <td>-2.055042</td>\n      <td>0.001236</td>\n      <td>HR</td>\n      <td>05:01</td>\n      <td>07:01</td>\n      <td>3.975437</td>\n      <td>1.975280</td>\n    </tr>\n    <tr>\n      <th>25</th>\n      <td>4067500.0</td>\n      <td>Europe</td>\n      <td>Croatia</td>\n      <td>HRV</td>\n      <td>60752</td>\n      <td>POLYGON ((1843986.034 5861446.443, 1879352.983...</td>\n      <td>HR</td>\n      <td>CET</td>\n      <td>1</td>\n      <td>1150.815857</td>\n      <td>...</td>\n      <td>True</td>\n      <td>0.009099</td>\n      <td>0.041783</td>\n      <td>48.084084</td>\n      <td>0.028914</td>\n      <td>HR</td>\n      <td>06:01</td>\n      <td>08:01</td>\n      <td>2.975437</td>\n      <td>0.975280</td>\n    </tr>\n    <tr>\n      <th>26</th>\n      <td>619896.0</td>\n      <td>Europe</td>\n      <td>Luxembourg</td>\n      <td>LUX</td>\n      <td>71104</td>\n      <td>POLYGON ((672711.849 6468481.737, 694939.873 6...</td>\n      <td>LU</td>\n      <td>CET</td>\n      <td>1</td>\n      <td>709.616080</td>\n      <td>...</td>\n      <td>False</td>\n      <td>0.001387</td>\n      <td>0.000000</td>\n      <td>0.000000</td>\n      <td>0.000000</td>\n      <td>LU</td>\n      <td>05:29</td>\n      <td>07:51</td>\n      <td>3.509259</td>\n      <td>1.139374</td>\n    </tr>\n    <tr>\n      <th>27</th>\n      <td>619896.0</td>\n      <td>Europe</td>\n      <td>Luxembourg</td>\n      <td>LUX</td>\n      <td>71104</td>\n      <td>POLYGON ((672711.849 6468481.737, 694939.873 6...</td>\n      <td>LU</td>\n      <td>CET</td>\n      <td>1</td>\n      <td>1909.616080</td>\n      <td>...</td>\n      <td>True</td>\n      <td>0.001387</td>\n      <td>0.000000</td>\n      <td>0.000000</td>\n      <td>0.000000</td>\n      <td>LU</td>\n      <td>06:29</td>\n      <td>08:51</td>\n      <td>2.509259</td>\n      <td>0.139374</td>\n    </tr>\n    <tr>\n      <th>28</th>\n      <td>11484055.0</td>\n      <td>Europe</td>\n      <td>Belgium</td>\n      <td>BEL</td>\n      <td>533097</td>\n      <td>POLYGON ((685356.051 6586647.408, 672711.849 6...</td>\n      <td>BE</td>\n      <td>CET</td>\n      <td>1</td>\n      <td>817.999565</td>\n      <td>...</td>\n      <td>False</td>\n      <td>0.025691</td>\n      <td>0.131666</td>\n      <td>107.702881</td>\n      <td>0.064764</td>\n      <td>BE</td>\n      <td>05:31</td>\n      <td>08:00</td>\n      <td>3.471296</td>\n      <td>0.984265</td>\n    </tr>\n    <tr>\n      <th>29</th>\n      <td>11484055.0</td>\n      <td>Europe</td>\n      <td>Belgium</td>\n      <td>BEL</td>\n      <td>533097</td>\n      <td>POLYGON ((685356.051 6586647.408, 672711.849 6...</td>\n      <td>BE</td>\n      <td>CET</td>\n      <td>1</td>\n      <td>2017.999565</td>\n      <td>...</td>\n      <td>True</td>\n      <td>0.025691</td>\n      <td>0.131666</td>\n      <td>265.702300</td>\n      <td>0.159772</td>\n      <td>BE</td>\n      <td>06:31</td>\n      <td>09:00</td>\n      <td>2.471296</td>\n      <td>-0.015735</td>\n    </tr>\n    <tr>\n      <th>30</th>\n      <td>17332850.0</td>\n      <td>Europe</td>\n      <td>Netherlands</td>\n      <td>NLD</td>\n      <td>907050</td>\n      <td>POLYGON ((768676.624 7072687.677, 789483.757 7...</td>\n      <td>NL</td>\n      <td>CET</td>\n      <td>1</td>\n      <td>835.158680</td>\n      <td>...</td>\n      <td>False</td>\n      <td>0.038775</td>\n      <td>0.202550</td>\n      <td>169.161041</td>\n      <td>0.101720</td>\n      <td>NL</td>\n      <td>05:29</td>\n      <td>08:05</td>\n      <td>3.510211</td>\n      <td>0.905295</td>\n    </tr>\n    <tr>\n      <th>31</th>\n      <td>17332850.0</td>\n      <td>Europe</td>\n      <td>Netherlands</td>\n      <td>NLD</td>\n      <td>907050</td>\n      <td>POLYGON ((768676.624 7072687.677, 789483.757 7...</td>\n      <td>NL</td>\n      <td>CET</td>\n      <td>1</td>\n      <td>2035.158680</td>\n      <td>...</td>\n      <td>True</td>\n      <td>0.038775</td>\n      <td>0.202550</td>\n      <td>412.220540</td>\n      <td>0.247876</td>\n      <td>NL</td>\n      <td>06:29</td>\n      <td>09:05</td>\n      <td>2.510211</td>\n      <td>-0.094705</td>\n    </tr>\n    <tr>\n      <th>32</th>\n      <td>10269417.0</td>\n      <td>Europe</td>\n      <td>Portugal</td>\n      <td>PRT</td>\n      <td>238785</td>\n      <td>POLYGON ((-1005751.303 5143106.251, -965356.58...</td>\n      <td>PT</td>\n      <td>WET</td>\n      <td>0</td>\n      <td>723.612808</td>\n      <td>...</td>\n      <td>False</td>\n      <td>0.022974</td>\n      <td>0.116946</td>\n      <td>84.623334</td>\n      <td>0.050886</td>\n      <td>PT</td>\n      <td>05:49</td>\n      <td>07:28</td>\n      <td>3.177109</td>\n      <td>1.522931</td>\n    </tr>\n    <tr>\n      <th>33</th>\n      <td>10269417.0</td>\n      <td>Europe</td>\n      <td>Portugal</td>\n      <td>PRT</td>\n      <td>238785</td>\n      <td>POLYGON ((-1005751.303 5143106.251, -965356.58...</td>\n      <td>PT</td>\n      <td>WET</td>\n      <td>0</td>\n      <td>1923.612808</td>\n      <td>...</td>\n      <td>True</td>\n      <td>0.022974</td>\n      <td>0.116946</td>\n      <td>224.958055</td>\n      <td>0.135271</td>\n      <td>PT</td>\n      <td>06:49</td>\n      <td>08:28</td>\n      <td>2.177109</td>\n      <td>0.522931</td>\n    </tr>\n    <tr>\n      <th>34</th>\n      <td>47076781.0</td>\n      <td>Europe</td>\n      <td>Spain</td>\n      <td>ESP</td>\n      <td>1393490</td>\n      <td>POLYGON ((-829744.933 4452745.895, -839026.744...</td>\n      <td>ES</td>\n      <td>CET</td>\n      <td>1</td>\n      <td>1250.732949</td>\n      <td>...</td>\n      <td>False</td>\n      <td>0.105315</td>\n      <td>0.563026</td>\n      <td>704.194795</td>\n      <td>0.423445</td>\n      <td>ES</td>\n      <td>06:14</td>\n      <td>07:56</td>\n      <td>2.761137</td>\n      <td>1.054884</td>\n    </tr>\n    <tr>\n      <th>35</th>\n      <td>47076781.0</td>\n      <td>Europe</td>\n      <td>Spain</td>\n      <td>ESP</td>\n      <td>1393490</td>\n      <td>POLYGON ((-829744.933 4452745.895, -839026.744...</td>\n      <td>ES</td>\n      <td>CET</td>\n      <td>1</td>\n      <td>2450.732949</td>\n      <td>...</td>\n      <td>True</td>\n      <td>0.105315</td>\n      <td>0.563026</td>\n      <td>1379.825635</td>\n      <td>0.829714</td>\n      <td>ES</td>\n      <td>07:14</td>\n      <td>08:56</td>\n      <td>1.761137</td>\n      <td>0.054884</td>\n    </tr>\n    <tr>\n      <th>36</th>\n      <td>4941444.0</td>\n      <td>Europe</td>\n      <td>Ireland</td>\n      <td>IRL</td>\n      <td>388698</td>\n      <td>POLYGON ((-689945.390 7145114.483, -671588.863...</td>\n      <td>IE</td>\n      <td>WET</td>\n      <td>0</td>\n      <td>500.844744</td>\n      <td>...</td>\n      <td>False</td>\n      <td>0.011054</td>\n      <td>0.052374</td>\n      <td>26.231347</td>\n      <td>0.015773</td>\n      <td>IE</td>\n      <td>05:09</td>\n      <td>07:53</td>\n      <td>3.846296</td>\n      <td>1.115213</td>\n    </tr>\n    <tr>\n      <th>37</th>\n      <td>4941444.0</td>\n      <td>Europe</td>\n      <td>Ireland</td>\n      <td>IRL</td>\n      <td>388698</td>\n      <td>POLYGON ((-689945.390 7145114.483, -671588.863...</td>\n      <td>IE</td>\n      <td>WET</td>\n      <td>0</td>\n      <td>1700.844744</td>\n      <td>...</td>\n      <td>True</td>\n      <td>0.011054</td>\n      <td>0.052374</td>\n      <td>89.080398</td>\n      <td>0.053566</td>\n      <td>IE</td>\n      <td>06:09</td>\n      <td>08:53</td>\n      <td>2.846296</td>\n      <td>0.115213</td>\n    </tr>\n    <tr>\n      <th>38</th>\n      <td>60297396.0</td>\n      <td>Europe</td>\n      <td>Italy</td>\n      <td>ITA</td>\n      <td>2003576</td>\n      <td>MULTIPOLYGON (((1162476.208 5924715.388, 12299...</td>\n      <td>IT</td>\n      <td>CET</td>\n      <td>1</td>\n      <td>242.097744</td>\n      <td>...</td>\n      <td>False</td>\n      <td>0.134891</td>\n      <td>0.723251</td>\n      <td>175.097319</td>\n      <td>0.105289</td>\n      <td>IT</td>\n      <td>05:19</td>\n      <td>07:11</td>\n      <td>3.668133</td>\n      <td>1.812528</td>\n    </tr>\n    <tr>\n      <th>39</th>\n      <td>60297396.0</td>\n      <td>Europe</td>\n      <td>Italy</td>\n      <td>ITA</td>\n      <td>2003576</td>\n      <td>MULTIPOLYGON (((1162476.208 5924715.388, 12299...</td>\n      <td>IT</td>\n      <td>CET</td>\n      <td>1</td>\n      <td>1442.097744</td>\n      <td>...</td>\n      <td>True</td>\n      <td>0.134891</td>\n      <td>0.723251</td>\n      <td>1042.997943</td>\n      <td>0.627173</td>\n      <td>IT</td>\n      <td>06:19</td>\n      <td>08:11</td>\n      <td>2.668133</td>\n      <td>0.812528</td>\n    </tr>\n    <tr>\n      <th>40</th>\n      <td>5818553.0</td>\n      <td>Europe</td>\n      <td>Denmark</td>\n      <td>DNK</td>\n      <td>350104</td>\n      <td>MULTIPOLYGON (((1104501.564 7358587.664, 10332...</td>\n      <td>DK</td>\n      <td>CET</td>\n      <td>1</td>\n      <td>327.866579</td>\n      <td>...</td>\n      <td>False</td>\n      <td>0.013017</td>\n      <td>0.063004</td>\n      <td>20.656962</td>\n      <td>0.012421</td>\n      <td>DK</td>\n      <td>04:51</td>\n      <td>07:55</td>\n      <td>4.149306</td>\n      <td>1.068606</td>\n    </tr>\n    <tr>\n      <th>41</th>\n      <td>5818553.0</td>\n      <td>Europe</td>\n      <td>Denmark</td>\n      <td>DNK</td>\n      <td>350104</td>\n      <td>MULTIPOLYGON (((1104501.564 7358587.664, 10332...</td>\n      <td>DK</td>\n      <td>CET</td>\n      <td>1</td>\n      <td>1527.866579</td>\n      <td>...</td>\n      <td>True</td>\n      <td>0.013017</td>\n      <td>0.063004</td>\n      <td>96.261966</td>\n      <td>0.057884</td>\n      <td>DK</td>\n      <td>05:51</td>\n      <td>08:55</td>\n      <td>3.149306</td>\n      <td>0.068606</td>\n    </tr>\n    <tr>\n      <th>42</th>\n      <td>2087946.0</td>\n      <td>Europe</td>\n      <td>Slovenia</td>\n      <td>SVN</td>\n      <td>54174</td>\n      <td>POLYGON ((1536929.818 5862344.931, 1628879.282...</td>\n      <td>SI</td>\n      <td>CET</td>\n      <td>1</td>\n      <td>-6.100572</td>\n      <td>...</td>\n      <td>False</td>\n      <td>0.004671</td>\n      <td>0.017792</td>\n      <td>-0.108540</td>\n      <td>0.000065</td>\n      <td>SI</td>\n      <td>05:00</td>\n      <td>07:07</td>\n      <td>3.985224</td>\n      <td>1.882830</td>\n    </tr>\n    <tr>\n      <th>43</th>\n      <td>2087946.0</td>\n      <td>Europe</td>\n      <td>Slovenia</td>\n      <td>SVN</td>\n      <td>54174</td>\n      <td>POLYGON ((1536929.818 5862344.931, 1628879.282...</td>\n      <td>SI</td>\n      <td>CET</td>\n      <td>1</td>\n      <td>1193.899428</td>\n      <td>...</td>\n      <td>True</td>\n      <td>0.004671</td>\n      <td>0.017792</td>\n      <td>21.241575</td>\n      <td>0.012773</td>\n      <td>SI</td>\n      <td>06:00</td>\n      <td>08:07</td>\n      <td>2.985224</td>\n      <td>0.882830</td>\n    </tr>\n    <tr>\n      <th>44</th>\n      <td>5520314.0</td>\n      <td>Europe</td>\n      <td>Finland</td>\n      <td>FIN</td>\n      <td>269296</td>\n      <td>POLYGON ((3182839.039 10770937.822, 3166587.96...</td>\n      <td>FI</td>\n      <td>EET</td>\n      <td>2</td>\n      <td>443.732621</td>\n      <td>...</td>\n      <td>False</td>\n      <td>0.012349</td>\n      <td>0.059390</td>\n      <td>26.353155</td>\n      <td>0.015847</td>\n      <td>FI</td>\n      <td>04:38</td>\n      <td>08:23</td>\n      <td>4.361908</td>\n      <td>0.610142</td>\n    </tr>\n    <tr>\n      <th>45</th>\n      <td>5520314.0</td>\n      <td>Europe</td>\n      <td>Finland</td>\n      <td>FIN</td>\n      <td>269296</td>\n      <td>POLYGON ((3182839.039 10770937.822, 3166587.96...</td>\n      <td>FI</td>\n      <td>EET</td>\n      <td>2</td>\n      <td>1643.732621</td>\n      <td>...</td>\n      <td>True</td>\n      <td>0.012349</td>\n      <td>0.059390</td>\n      <td>97.620816</td>\n      <td>0.058701</td>\n      <td>FI</td>\n      <td>05:38</td>\n      <td>09:23</td>\n      <td>3.361908</td>\n      <td>-0.389858</td>\n    </tr>\n    <tr>\n      <th>46</th>\n      <td>5454073.0</td>\n      <td>Europe</td>\n      <td>Slovakia</td>\n      <td>SVK</td>\n      <td>105079</td>\n      <td>POLYGON ((2511160.396 6289421.884, 2480291.976...</td>\n      <td>SK</td>\n      <td>CET</td>\n      <td>1</td>\n      <td>-389.285224</td>\n      <td>...</td>\n      <td>False</td>\n      <td>0.012201</td>\n      <td>0.058587</td>\n      <td>-22.807023</td>\n      <td>0.013714</td>\n      <td>SK</td>\n      <td>04:36</td>\n      <td>06:53</td>\n      <td>4.386831</td>\n      <td>2.100671</td>\n    </tr>\n    <tr>\n      <th>47</th>\n      <td>5454073.0</td>\n      <td>Europe</td>\n      <td>Slovakia</td>\n      <td>SVK</td>\n      <td>105079</td>\n      <td>POLYGON ((2511160.396 6289421.884, 2480291.976...</td>\n      <td>SK</td>\n      <td>CET</td>\n      <td>1</td>\n      <td>810.714776</td>\n      <td>...</td>\n      <td>True</td>\n      <td>0.012201</td>\n      <td>0.058587</td>\n      <td>47.497283</td>\n      <td>0.028561</td>\n      <td>SK</td>\n      <td>05:36</td>\n      <td>07:53</td>\n      <td>3.386831</td>\n      <td>1.100671</td>\n    </tr>\n    <tr>\n      <th>48</th>\n      <td>10669709.0</td>\n      <td>Europe</td>\n      <td>Czechia</td>\n      <td>CZE</td>\n      <td>250680</td>\n      <td>POLYGON ((1671684.335 6640184.872, 1724447.128...</td>\n      <td>CZ</td>\n      <td>CET</td>\n      <td>1</td>\n      <td>-115.056003</td>\n      <td>...</td>\n      <td>False</td>\n      <td>0.023869</td>\n      <td>0.121797</td>\n      <td>-14.013461</td>\n      <td>0.008427</td>\n      <td>CZ</td>\n      <td>04:47</td>\n      <td>07:10</td>\n      <td>4.200257</td>\n      <td>1.821104</td>\n    </tr>\n    <tr>\n      <th>49</th>\n      <td>10669709.0</td>\n      <td>Europe</td>\n      <td>Czechia</td>\n      <td>CZE</td>\n      <td>250680</td>\n      <td>POLYGON ((1671684.335 6640184.872, 1724447.128...</td>\n      <td>CZ</td>\n      <td>CET</td>\n      <td>1</td>\n      <td>1084.943997</td>\n      <td>...</td>\n      <td>True</td>\n      <td>0.023869</td>\n      <td>0.121797</td>\n      <td>132.142779</td>\n      <td>0.079460</td>\n      <td>CZ</td>\n      <td>05:47</td>\n      <td>08:10</td>\n      <td>3.200257</td>\n      <td>0.821104</td>\n    </tr>\n    <tr>\n      <th>50</th>\n      <td>1198575.0</td>\n      <td>Asia</td>\n      <td>Cyprus</td>\n      <td>CYP</td>\n      <td>24948</td>\n      <td>POLYGON ((3643685.108 4182926.430, 3664590.035...</td>\n      <td>CY</td>\n      <td>EET</td>\n      <td>2</td>\n      <td>-269.108544</td>\n      <td>...</td>\n      <td>False</td>\n      <td>0.002681</td>\n      <td>0.007013</td>\n      <td>-1.887310</td>\n      <td>0.001135</td>\n      <td>CY</td>\n      <td>05:06</td>\n      <td>06:30</td>\n      <td>3.898457</td>\n      <td>2.483557</td>\n    </tr>\n    <tr>\n      <th>51</th>\n      <td>1198575.0</td>\n      <td>Asia</td>\n      <td>Cyprus</td>\n      <td>CYP</td>\n      <td>24948</td>\n      <td>POLYGON ((3643685.108 4182926.430, 3664590.035...</td>\n      <td>CY</td>\n      <td>EET</td>\n      <td>2</td>\n      <td>930.891456</td>\n      <td>...</td>\n      <td>True</td>\n      <td>0.002681</td>\n      <td>0.007013</td>\n      <td>6.528522</td>\n      <td>0.003926</td>\n      <td>CY</td>\n      <td>06:06</td>\n      <td>07:30</td>\n      <td>2.898457</td>\n      <td>1.483557</td>\n    </tr>\n  </tbody>\n</table>\n<p>52 rows × 23 columns</p>\n</div>"
     },
     "execution_count": 7,
     "metadata": {},
     "output_type": "execute_result"
    }
   ],
   "source": [
    "eu_geo_tz"
   ],
   "metadata": {
    "collapsed": false,
    "pycharm": {
     "name": "#%%\n"
    }
   }
  },
  {
   "cell_type": "markdown",
   "source": [
    "### Generate top n cities per country with timezone features"
   ],
   "metadata": {
    "collapsed": false,
    "pycharm": {
     "name": "#%% md\n"
    }
   }
  },
  {
   "cell_type": "markdown",
   "source": [
    "## Interactive visualization with Panel/Bokeh"
   ],
   "metadata": {
    "collapsed": false,
    "pycharm": {
     "name": "#%% md\n"
    }
   }
  },
  {
   "cell_type": "code",
   "execution_count": 8,
   "outputs": [
    {
     "name": "stderr",
     "output_type": "stream",
     "text": [
      "BokehDeprecationWarning: 'tile_providers module' was deprecated in Bokeh 3.0.0 and will be removed, use 'add_tile directly' instead.\n"
     ]
    }
   ],
   "source": [
    "from bokeh.plotting import figure\n",
    "from bokeh.models import GeoJSONDataSource, CategoricalColorMapper, ColorBar, ColumnDataSource, LabelSet, HoverTool\n",
    "from bokeh.transform import factor_cmap\n",
    "from bokeh.tile_providers import get_provider, Vendors\n",
    "from bokeh.palettes import Plasma256\n",
    "from bokeh.palettes import brewer\n",
    "import json\n",
    "import panel as pn\n",
    "from datetime import datetime, date\n",
    "import numpy as np\n",
    "\n",
    "data_field = 'social_timezone'\n",
    "bokeh_tools = 'wheel_zoom, pan, box_zoom, reset, save'\n",
    "colorbar_settings = {'title_text_font_size':'12pt','label_standoff':12}\n",
    "\n",
    "def get_bokeh_geodata_source(gpd_df):\n",
    "    json_data = json.dumps(json.loads(gpd_df.to_json()))\n",
    "    return GeoJSONDataSource(geojson = json_data)\n",
    "\n",
    "def bokeh_plot_map(data, winter_period_active: bool):\n",
    "    p = figure(toolbar_location='right', tools=bokeh_tools, active_scroll =\"wheel_zoom\",\n",
    "               title=\"Time difference between sunrise and 9:00 for EU countries\",\n",
    "               x_range=(-1.3*10**6, 4*10**6),\n",
    "               y_range=(4*10**6,9*10**6))\n",
    "    p.title.text_font_size = '20px'\n",
    "    p.xgrid.grid_line_color = None\n",
    "    p.ygrid.grid_line_color = None\n",
    "\n",
    "    # ADD MAP TILES ---------------------------------------------------------------------------\n",
    "    p.add_tile(Vendors.CARTODBPOSITRON_RETINA)\n",
    "\n",
    "    # ADD TIMEZONE LINES\n",
    "\n",
    "    # ADD GEO STUFF FOR COUNTRIES AS A WHOLE -------------------------------------------------\n",
    "    geo_data_source = get_bokeh_geodata_source(data)\n",
    "\n",
    "    values = data[data_field]\n",
    "    palette = brewer['OrRd'][3]\n",
    "    palette = palette[::-1]\n",
    "    color_mapper = CategoricalColorMapper(palette = palette, factors=values.unique().tolist())\n",
    "    color_bar = ColorBar(color_mapper=color_mapper, location=(0,0), title='Timezone', **colorbar_settings)\n",
    "    country_tz = p.patches('xs','ys', source=geo_data_source,\n",
    "            fill_color={'field': data_field, 'transform': color_mapper},\n",
    "            line_color='blue',\n",
    "            line_width=0.5,\n",
    "            fill_alpha=0.8)\n",
    "    p.add_layout(color_bar, 'below')\n",
    "\n",
    "    # ===================================================================================================================\n",
    "\n",
    "    time_diff_col = data['winter_diff_h' if winter_period_active else 'summer_diff_h']\n",
    "    avg_sunrise = data['winter_period' if winter_period_active else 'summer_period']\n",
    "    bar_color = time_diff_col.apply(lambda x: '#ff0000' if np.sign(x) < 0 else 'blue')\n",
    "    #ADD BARS FOR DISTANCE TO EAST MERIDIAN EFFECT\n",
    "    length_scale = 100000\n",
    "    divider_len = 50000\n",
    "    bar_data_source = ColumnDataSource(dict(\n",
    "            x0=data['mercantor_x'],\n",
    "            y0=data['mercantor_y'],\n",
    "            x1=data['mercantor_x'] + (length_scale *  time_diff_col),\n",
    "            y1=data['mercantor_y'],\n",
    "            lwd=1 + data['pop_norm'] * 10,\n",
    "            l_col=bar_color,\n",
    "            avg_sunrise=avg_sunrise,\n",
    "            time_diff=time_diff_col,\n",
    "            country=data['name'],\n",
    "            pop_percent=data['pop_percent'] * 100,\n",
    "            long_diff=data['mean_longitudinal_diff_km'],\n",
    "            weighted_long_diff=data['weighted_mean_longdiff'],\n",
    "            long_diff_norm=data['norm_weighted_mean_longdiff'],\n",
    "            text=data['name'],\n",
    "            text_y=(data['mercantor_y'] + divider_len / 2) + 1000\n",
    "        )\n",
    "    )\n",
    "    divider_data_source = ColumnDataSource(dict(\n",
    "            x0=data['mercantor_x'],\n",
    "            y0=data['mercantor_y'] - divider_len / 2,\n",
    "            x1=data['mercantor_x'],\n",
    "            y1=data['mercantor_y'] + divider_len / 2,\n",
    "            l_col=bar_color\n",
    "    ))\n",
    "    longdiff_quads = p.segment(x0=\"x0\", y0=\"y0\", x1=\"x1\", y1=\"y1\", line_width=\"lwd\", line_color='l_col', source=bar_data_source)\n",
    "    londiff_diviers = p.segment(x0=\"x0\", y0=\"y0\", x1=\"x1\", y1=\"y1\", line_width=3, line_color='l_col', source=divider_data_source)\n",
    "    longdiff_label = p.text(x=\"x0\",y=\"text_y\", text=\"text\", source=bar_data_source)\n",
    "\n",
    "    # TOOLTIPS FOR CITY DATA\n",
    "    tooltips_longquads = [\n",
    "        ('Country', '@country'),\n",
    "        ('Avg. sunrise', '@avg_sunrise'),\n",
    "        ('Time difference from sunrise to 9:00', '@time_diff'),\n",
    "        ('Population percent of EU', '@pop_percent'),\n",
    "        ('Relative distance (km) to timezone border', '@long_diff'),\n",
    "        ('Weighted (population size) diff. to east timezone border', '@weighted_long_diff'),\n",
    "        ('Normalized, weighted (population size) effect of distance to east meridian', '@long_diff_norm')\n",
    "    ]\n",
    "    p.add_tools(HoverTool(renderers=[longdiff_label], tooltips=tooltips_longquads, name='long_quads'))\n",
    "    return p"
   ],
   "metadata": {
    "collapsed": false,
    "pycharm": {
     "name": "#%%\n"
    }
   }
  },
  {
   "cell_type": "code",
   "execution_count": 9,
   "outputs": [],
   "source": [
    "from bokeh.models import DataTable, TableColumn\n",
    "\n",
    "def bokeh_country_table(country_data):\n",
    "    country_data_sorted = country_data.sort_values('norm_weighted_mean_longdiff', ascending=False)\n",
    "    source = ColumnDataSource(country_data_sorted)\n",
    "    columns = [\n",
    "        TableColumn(field='name', title='Country Name'),\n",
    "        TableColumn(field=\"iso_a2\",title=\"Country Code (ISO_A2)\"),\n",
    "        TableColumn(field=\"social_timezone\", title=\"Social Timezone\"),\n",
    "        TableColumn(field=\"pop_est\", title=\"Estimated population\"),\n",
    "        TableColumn(field=\"pop_percent\", title=\"% of EU population\"),\n",
    "        TableColumn(field=\"dst\", title=\"DST active\"),\n",
    "        TableColumn(field=\"summer_period\", title=\"Avg. sunrise in summer period\"),\n",
    "        TableColumn(field=\"winter_period\", title=\"Avg. sunrise in winter period\"),\n",
    "        TableColumn(field=\"winter_diff_h\", title=\"Difference between sunrise to 9:00 in winter\"),\n",
    "        TableColumn(field=\"summer_diff_h\", title=\"Difference between sunrise to 9:00 in summer\"),\n",
    "        TableColumn(field=\"norm_weighted_mean_longdiff\", title=\"Normalized weighted effect of dist. to east meridian\"),\n",
    "        TableColumn(field=\"mean_longitudinal_diff_km\", title=\"Avg. dist. to east meridian (km)\"),\n",
    "    ]\n",
    "    data_table = DataTable(source=source, columns=columns)\n",
    "    return data_table"
   ],
   "metadata": {
    "collapsed": false,
    "pycharm": {
     "name": "#%%\n"
    }
   }
  },
  {
   "cell_type": "code",
   "execution_count": 10,
   "outputs": [],
   "source": [
    "def bokeh_sun_table(sun_data):\n",
    "    source = ColumnDataSource(sun_data)\n",
    "\n",
    "    # Add data table\n",
    "    columns = [\n",
    "        TableColumn(field=\"iso_a3\", title=\"Country Code (ISO_A3)\"),\n",
    "        TableColumn(field=\"year\", title=\"Year\"),\n",
    "        TableColumn(field=\"month\", title=\"Month\"),\n",
    "        TableColumn(field=\"day\", title=\"Day\"),\n",
    "        TableColumn(field=\"sunrise_UTC\", title=\"Sunrise (UTC/GMT)\"),\n",
    "        TableColumn(field=\"sunset_UTC\", title=\"Sunrise (UTC/GMT)\")\n",
    "    ]\n",
    "    data_table = DataTable(source=source, columns=columns)\n",
    "    return data_table"
   ],
   "metadata": {
    "collapsed": false,
    "pycharm": {
     "name": "#%%\n"
    }
   }
  },
  {
   "cell_type": "code",
   "execution_count": 11,
   "outputs": [],
   "source": [
    "def map_visualization():\n",
    "    # CREATE MAP  ----------------------------------------------------------------------------------\n",
    "    # Create Map Panel\n",
    "    map_pane = pn.pane.Bokeh(sizing_mode='scale_both', width_policy='max')\n",
    "    dst_text = pn.widgets.StaticText(value='Daylight savings time (DST) enabled:')\n",
    "    dst_toggle = pn.widgets.Switch(name=\"DST Toggle\")\n",
    "\n",
    "    period_text = pn.widgets.StaticText(value='Summer Period (Last Sunday in March) / Winter Period (Last Sunday in October):')\n",
    "    period_toggle = pn.widgets.Switch(name=\"Summer/Winter period Toggle\")\n",
    "\n",
    "    filter_df = eu_geo_tz[eu_geo_tz['dst'] == False]\n",
    "    weighted_time_diff_avg = filter_df.apply(lambda x: x['pop_percent'] * x['summer_diff_h'] ,axis=1).sum()\n",
    "    h, m = divmod(weighted_time_diff_avg * 60, 60)\n",
    "    avg_text = pn.widgets.StaticText(value=f'Population weighted avg. time difference from sunrise to 9:00: {int(h)}h:{int(m)}m')\n",
    "\n",
    "    def update_map(event):\n",
    "        eu_geo_tz_filter = eu_geo_tz[eu_geo_tz['dst'] == dst_toggle.value]\n",
    "        map_pane.object = bokeh_plot_map(eu_geo_tz_filter, period_toggle.value)\n",
    "\n",
    "        new_avg = eu_geo_tz_filter.apply(lambda x: x['pop_percent'] * x['winter_diff_h' if period_toggle.value else 'summer_diff_h'] ,axis=1).sum()\n",
    "        h, m = divmod(new_avg * 60, 60)\n",
    "        avg_text.value = f'Population weighted avg. time difference from sunrise to 9:00: {int(h)}h:{int(m)}m'\n",
    "\n",
    "    dst_toggle.param.watch(update_map, 'value')\n",
    "    dst_toggle.param.trigger('value')\n",
    "\n",
    "    period_toggle.param.watch(update_map, 'value')\n",
    "    period_toggle.param.trigger('value')\n",
    "\n",
    "    # CREATE DATATABLES ----------------------------------------------------------------------------------\n",
    "    sizing_dict = dict(sizing_mode='stretch_both', width_policy='auto', margin=10)\n",
    "    # Create City Table Panel\n",
    "    country_data_pane = pn.pane.Bokeh(**sizing_dict)\n",
    "    country_data_pane.object = bokeh_country_table(eu_geo_tz.drop(columns=['geometry']))\n",
    "\n",
    "    # Create panel application layout\n",
    "    map_vis = pn.Column(pn.Row(pn.Column(pn.Row(dst_text, dst_toggle), pn.Row(period_text, period_toggle)), avg_text), map_pane)\n",
    "    tabs = pn.Tabs(('Map', map_vis), ('Country Data', country_data_pane))\n",
    "    return tabs\n",
    "\n",
    "app = map_visualization()"
   ],
   "metadata": {
    "collapsed": false,
    "pycharm": {
     "name": "#%%\n"
    }
   }
  },
  {
   "cell_type": "code",
   "execution_count": 12,
   "outputs": [
    {
     "name": "stdout",
     "output_type": "stream",
     "text": [
      "Launching server at http://localhost:1206\n"
     ]
    },
    {
     "data": {
      "text/plain": "<panel.io.server.Server at 0x19cabfd2b50>"
     },
     "execution_count": 12,
     "metadata": {},
     "output_type": "execute_result"
    }
   ],
   "source": [
    "app.show()"
   ],
   "metadata": {
    "collapsed": false,
    "pycharm": {
     "name": "#%%\n"
    }
   }
  }
 ],
 "metadata": {
  "kernelspec": {
   "display_name": "Python 3",
   "language": "python",
   "name": "python3"
  },
  "language_info": {
   "codemirror_mode": {
    "name": "ipython",
    "version": 2
   },
   "file_extension": ".py",
   "mimetype": "text/x-python",
   "name": "python",
   "nbconvert_exporter": "python",
   "pygments_lexer": "ipython2",
   "version": "2.7.6"
  }
 },
 "nbformat": 4,
 "nbformat_minor": 0
}