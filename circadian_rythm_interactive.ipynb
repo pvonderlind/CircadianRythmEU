{
 "cells": [
  {
   "cell_type": "markdown",
   "source": [
    "# Interactive Visualization of Daytimes and Workingtimes in Europe"
   ],
   "metadata": {
    "collapsed": false,
    "pycharm": {
     "name": "#%% md\n"
    }
   }
  },
  {
   "cell_type": "markdown",
   "source": [
    "## Data"
   ],
   "metadata": {
    "collapsed": false,
    "pycharm": {
     "name": "#%% md\n"
    }
   }
  },
  {
   "cell_type": "markdown",
   "source": [
    "### EU countries to capitals and GeoPandas data"
   ],
   "metadata": {
    "collapsed": false,
    "pycharm": {
     "name": "#%% md\n"
    }
   }
  },
  {
   "cell_type": "code",
   "execution_count": 1,
   "outputs": [],
   "source": [
    "import json\n",
    "\n",
    "from src.geo_utils import load_eu_countries_as_geopandas, get_eu_capitals\n",
    "\n",
    "eu_capitals = get_eu_capitals()\n",
    "eu_gpd = load_eu_countries_as_geopandas()\n",
    "eu_iso_to_geo = eu_gpd.loc[:, ['iso_a3', 'geometry']]"
   ],
   "metadata": {
    "collapsed": false,
    "pycharm": {
     "name": "#%%\n"
    }
   }
  },
  {
   "cell_type": "markdown",
   "source": [
    "### Sunrise/Sunset (UTC) for the year 2022"
   ],
   "metadata": {
    "collapsed": false,
    "pycharm": {
     "name": "#%% md\n"
    }
   }
  },
  {
   "cell_type": "code",
   "execution_count": 2,
   "outputs": [
    {
     "name": "stdout",
     "output_type": "stream",
     "text": [
      "Could not process day 2022-06-16 00:00:00\n"
     ]
    }
   ],
   "source": [
    "from src.sun_data import get_sunset_sunrise_data\n",
    "sun_data_df = get_sunset_sunrise_data(year=2022, country_capital=eu_capitals)"
   ],
   "metadata": {
    "collapsed": false,
    "pycharm": {
     "name": "#%%\n"
    }
   }
  },
  {
   "cell_type": "code",
   "execution_count": 3,
   "outputs": [],
   "source": [
    "import geopandas as gpd\n",
    "sun_data_gpd = gpd.GeoDataFrame(sun_data_df.merge(eu_iso_to_geo, on='iso_a3', how='left').set_index('iso_a3'))"
   ],
   "metadata": {
    "collapsed": false,
    "pycharm": {
     "name": "#%%\n"
    }
   }
  },
  {
   "cell_type": "markdown",
   "source": [
    "## Interactive visualization with Panel/Bokeh"
   ],
   "metadata": {
    "collapsed": false,
    "pycharm": {
     "name": "#%% md\n"
    }
   }
  },
  {
   "cell_type": "code",
   "execution_count": 46,
   "outputs": [],
   "source": [
    "from bokeh.plotting import figure\n",
    "from bokeh.models import GeoJSONDataSource, LinearColorMapper, ColorBar\n",
    "from bokeh.palettes import brewer\n",
    "import json\n",
    "import panel as pn\n",
    "from datetime import datetime\n",
    "\n",
    "data_field = 'sunrise_UTC'\n",
    "bokeh_tools = 'wheel_zoom,pan,reset'\n",
    "\n",
    "def get_bokeh_geodata_source(gpd_df):\n",
    "    json_data = json.dumps(json.loads(gpd_df.to_json()))\n",
    "    return GeoJSONDataSource(geojson = json_data)\n",
    "\n",
    "def bokeh_plot_map(data):\n",
    "    geo_data_source = get_bokeh_geodata_source(data)\n",
    "\n",
    "    values = data[data_field]\n",
    "    palette = brewer['OrRd'][8]\n",
    "    palette = palette[::-1]\n",
    "    #Instantiate LinearColorMapper that linearly maps numbers in a range, into a sequence of colors.\n",
    "    color_mapper = LinearColorMapper(palette = palette, low = values.min(), high = values.max())\n",
    "    color_bar = ColorBar(color_mapper=color_mapper, label_standoff=8, width=500, height=20,\n",
    "                         location=(0,0), orientation='horizontal')\n",
    "\n",
    "    p = figure(plot_height = 400, plot_width=850, toolbar_location='right', tools=bokeh_tools)\n",
    "    p.patches('xs','ys', source=geo_data_source,\n",
    "              fill_color={'field': data_field, 'transform': color_mapper},\n",
    "              line_color='blue',\n",
    "              line_width=0.5,\n",
    "              fill_alpha=0.8)\n",
    "    p.add_layout(color_bar, 'below')\n",
    "    return p"
   ],
   "metadata": {
    "collapsed": false,
    "pycharm": {
     "name": "#%%\n"
    }
   }
  },
  {
   "cell_type": "code",
   "execution_count": 47,
   "outputs": [
    {
     "name": "stdout",
     "output_type": "stream",
     "text": [
      "Launching server at http://localhost:1477\n"
     ]
    },
    {
     "data": {
      "text/plain": "<panel.io.server.Server at 0x185b221b700>"
     },
     "execution_count": 47,
     "metadata": {},
     "output_type": "execute_result"
    }
   ],
   "source": [
    "def map_visualization():\n",
    "    map_pane = pn.pane.Bokeh(width=400)\n",
    "    default_date = datetime.strptime('2022-01-01', '%Y-%m-%d').date()\n",
    "    selected_date = pn.widgets.DatePicker(name='Date Picker', value=default_date)\n",
    "    def update_map(event):\n",
    "        d = selected_date.value\n",
    "        selected_sundata = sun_data_gpd.query(f'day == {d.day} & month == {d.month} & year == {d.year}')\n",
    "        map_pane.object = bokeh_plot_map(selected_sundata)\n",
    "    selected_date.param.watch(update_map, 'value')\n",
    "    selected_date.param.trigger('value')\n",
    "    return pn.Column(selected_date, map_pane)\n",
    "\n",
    "app = map_visualization()\n",
    "app.show()"
   ],
   "metadata": {
    "collapsed": false,
    "pycharm": {
     "name": "#%%\n"
    }
   }
  }
 ],
 "metadata": {
  "kernelspec": {
   "display_name": "Python 3",
   "language": "python",
   "name": "python3"
  },
  "language_info": {
   "codemirror_mode": {
    "name": "ipython",
    "version": 2
   },
   "file_extension": ".py",
   "mimetype": "text/x-python",
   "name": "python",
   "nbconvert_exporter": "python",
   "pygments_lexer": "ipython2",
   "version": "2.7.6"
  }
 },
 "nbformat": 4,
 "nbformat_minor": 0
}