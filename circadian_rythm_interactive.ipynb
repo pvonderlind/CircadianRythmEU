{
 "cells": [
  {
   "cell_type": "markdown",
   "source": [
    "# Interactive Visualization of Daytimes and Workingtimes in Europe"
   ],
   "metadata": {
    "collapsed": false,
    "pycharm": {
     "name": "#%% md\n"
    }
   }
  },
  {
   "cell_type": "markdown",
   "source": [
    "## Data"
   ],
   "metadata": {
    "collapsed": false,
    "pycharm": {
     "name": "#%% md\n"
    }
   }
  },
  {
   "cell_type": "code",
   "execution_count": 61,
   "outputs": [],
   "source": [
    "import pandas as pd\n",
    "import geopandas as gpd\n",
    "\n",
    "RELOAD_DATA = False\n",
    "eu_data_path = 'datasets/saved/eu_gpd.geojson'\n",
    "city_data_path = 'datasets/saved/city_data.csv'\n",
    "sunrise_data = 'datasets/saved/sunrise_data.csv'\n",
    "avg_country_data_path = 'datasets/saved/avg_country.csv'\n",
    "eu_geo_tz_path = 'datasets/saved/eu_geo_tz.geojson'"
   ],
   "metadata": {
    "collapsed": false,
    "pycharm": {
     "name": "#%%\n"
    }
   }
  },
  {
   "cell_type": "markdown",
   "source": [
    "### EU countries to capitals and GeoPandas data"
   ],
   "metadata": {
    "collapsed": false,
    "pycharm": {
     "name": "#%% md\n"
    }
   }
  },
  {
   "cell_type": "code",
   "execution_count": 62,
   "outputs": [],
   "source": [
    "from sun_data import get_sunrise_data_avgs_for_countries\n",
    "from geo_utils import load_eu_countries_as_geopandas, get_eu_city_data, get_avg_country_data"
   ],
   "metadata": {
    "collapsed": false,
    "pycharm": {
     "name": "#%%\n"
    }
   }
  },
  {
   "cell_type": "code",
   "execution_count": 63,
   "outputs": [
    {
     "name": "stdout",
     "output_type": "stream",
     "text": [
      "Generating data ...\n"
     ]
    },
    {
     "name": "stderr",
     "output_type": "stream",
     "text": [
      "C:\\Users\\phili\\PycharmProjects\\CircadianRythmEU\\geo_utils.py:28: FutureWarning: The geopandas.dataset module is deprecated and will be removed in GeoPandas 1.0. You can get the original 'naturalearth_lowres' data from https://www.naturalearthdata.com/downloads/110m-cultural-vectors/.\n",
      "  world = gpd.read_file(gpd.datasets.get_path('naturalearth_lowres'))\n",
      "C:\\Users\\phili\\miniconda3\\envs\\circadian_rythm\\Lib\\site-packages\\geopandas\\geodataframe.py:1538: SettingWithCopyWarning: \n",
      "A value is trying to be set on a copy of a slice from a DataFrame.\n",
      "Try using .loc[row_indexer,col_indexer] = value instead\n",
      "\n",
      "See the caveats in the documentation: https://pandas.pydata.org/pandas-docs/stable/user_guide/indexing.html#returning-a-view-versus-a-copy\n",
      "  super().__setitem__(key, value)\n"
     ]
    }
   ],
   "source": [
    "if RELOAD_DATA:\n",
    "    print('Reloading data from datasets/saved folder ...')\n",
    "    eu_gpd = gpd.read_file(eu_data_path)\n",
    "    top_city_data = pd.read_csv(city_data_path)\n",
    "    sun_data = gpd.read_file(sunrise_data)\n",
    "    avg_country_data = pd.read_csv(avg_country_data_path)\n",
    "    eu_geo_tz = gpd.read_file(eu_geo_tz_path)\n",
    "else:\n",
    "    print('Generating data ...')\n",
    "    top_city_data = get_eu_city_data(3)\n",
    "    top_city_data.to_csv(city_data_path, index=False)\n",
    "\n",
    "    eu_gpd = load_eu_countries_as_geopandas()\n",
    "    eu_gpd.to_file(eu_data_path, driver='GeoJSON', index=False)\n",
    "\n",
    "    avg_country_data = get_avg_country_data(top_city_data, eu_gpd)\n",
    "    avg_country_data.to_csv(avg_country_data_path, index=False)\n",
    "\n",
    "    sun_data = get_sunrise_data_avgs_for_countries(top_city_data)\n",
    "    sun_data.to_csv(sunrise_data, index=False)\n",
    "\n",
    "    eu_geo_tz = eu_gpd.merge(avg_country_data)\n",
    "    eu_geo_tz = eu_geo_tz.merge(sun_data, left_on=['iso_a2', 'dst'], right_on=['country_ISO_A2', 'dst'])\n",
    "    eu_geo_tz.to_file(eu_geo_tz_path, driver='GeoJSON', index=False)"
   ],
   "metadata": {
    "collapsed": false,
    "pycharm": {
     "name": "#%%\n"
    }
   }
  },
  {
   "cell_type": "code",
   "execution_count": 65,
   "outputs": [
    {
     "data": {
      "text/plain": "        pop_est continent     name iso_a3  gdp_md_est  \\\n43   67059887.0    Europe   France    FRA     2715518   \n110  10285453.0    Europe   Sweden    SWE      530883   \n113  37970874.0    Europe   Poland    POL      595858   \n114   8877067.0    Europe  Austria    AUT      445075   \n115   9769949.0    Europe  Hungary    HUN      163469   \n\n                                              geometry iso_a2  \n43   MULTIPOLYGON (((-5750519.703 463075.975, -5816...     FR  \n110  POLYGON ((1227561.058 8149359.996, 1276642.191...     SE  \n113  POLYGON ((2614241.130 7153601.786, 2619073.310...     PL  \n114  POLYGON ((1890167.860 6127424.985, 1881717.299...     AT  \n115  POLYGON ((2458558.676 6177394.292, 2520364.547...     HU  ",
      "text/html": "<div>\n<style scoped>\n    .dataframe tbody tr th:only-of-type {\n        vertical-align: middle;\n    }\n\n    .dataframe tbody tr th {\n        vertical-align: top;\n    }\n\n    .dataframe thead th {\n        text-align: right;\n    }\n</style>\n<table border=\"1\" class=\"dataframe\">\n  <thead>\n    <tr style=\"text-align: right;\">\n      <th></th>\n      <th>pop_est</th>\n      <th>continent</th>\n      <th>name</th>\n      <th>iso_a3</th>\n      <th>gdp_md_est</th>\n      <th>geometry</th>\n      <th>iso_a2</th>\n    </tr>\n  </thead>\n  <tbody>\n    <tr>\n      <th>43</th>\n      <td>67059887.0</td>\n      <td>Europe</td>\n      <td>France</td>\n      <td>FRA</td>\n      <td>2715518</td>\n      <td>MULTIPOLYGON (((-5750519.703 463075.975, -5816...</td>\n      <td>FR</td>\n    </tr>\n    <tr>\n      <th>110</th>\n      <td>10285453.0</td>\n      <td>Europe</td>\n      <td>Sweden</td>\n      <td>SWE</td>\n      <td>530883</td>\n      <td>POLYGON ((1227561.058 8149359.996, 1276642.191...</td>\n      <td>SE</td>\n    </tr>\n    <tr>\n      <th>113</th>\n      <td>37970874.0</td>\n      <td>Europe</td>\n      <td>Poland</td>\n      <td>POL</td>\n      <td>595858</td>\n      <td>POLYGON ((2614241.130 7153601.786, 2619073.310...</td>\n      <td>PL</td>\n    </tr>\n    <tr>\n      <th>114</th>\n      <td>8877067.0</td>\n      <td>Europe</td>\n      <td>Austria</td>\n      <td>AUT</td>\n      <td>445075</td>\n      <td>POLYGON ((1890167.860 6127424.985, 1881717.299...</td>\n      <td>AT</td>\n    </tr>\n    <tr>\n      <th>115</th>\n      <td>9769949.0</td>\n      <td>Europe</td>\n      <td>Hungary</td>\n      <td>HUN</td>\n      <td>163469</td>\n      <td>POLYGON ((2458558.676 6177394.292, 2520364.547...</td>\n      <td>HU</td>\n    </tr>\n  </tbody>\n</table>\n</div>"
     },
     "execution_count": 65,
     "metadata": {},
     "output_type": "execute_result"
    }
   ],
   "source": [
    "eu_gpd.head()"
   ],
   "metadata": {
    "collapsed": false,
    "pycharm": {
     "name": "#%%\n"
    }
   }
  },
  {
   "cell_type": "code",
   "execution_count": 66,
   "outputs": [
    {
     "data": {
      "text/plain": "   population    CODE country_ISO_A2               NAME  longitude   latitude  \\\n0     1766746  AT001C             AT               Wien  16.372504  48.208354   \n1      269997  AT002C             AT               Graz  15.438279  47.070868   \n2      193814  AT003C             AT               Linz  14.286198  48.305908   \n3     1226329  BE001C             BE  Bruxelles/Brussel   4.351697  50.846557   \n4      530627  BE002C             BE          Antwerpen   4.399708  51.221110   \n\n    mercantor_x   mercantor_y social_timezone  utc_sun_timezone_offset  \\\n0  1.822579e+06  6.141588e+06             CET                        1   \n1  1.718581e+06  5.953649e+06             CET                        1   \n2  1.590332e+06  6.157899e+06             CET                        1   \n3  4.844287e+05  6.594196e+06             CET                        1   \n4  4.897733e+05  6.660499e+06             CET                        1   \n\n   summertime_longitudinal_diff_km  longitudinal_diff_km  \n0                      1090.199664           -109.800336  \n1                      1164.937712            -35.062288  \n2                      1257.104160             57.104160  \n3                      2051.864240            851.864240  \n4                      2048.023352            848.023352  ",
      "text/html": "<div>\n<style scoped>\n    .dataframe tbody tr th:only-of-type {\n        vertical-align: middle;\n    }\n\n    .dataframe tbody tr th {\n        vertical-align: top;\n    }\n\n    .dataframe thead th {\n        text-align: right;\n    }\n</style>\n<table border=\"1\" class=\"dataframe\">\n  <thead>\n    <tr style=\"text-align: right;\">\n      <th></th>\n      <th>population</th>\n      <th>CODE</th>\n      <th>country_ISO_A2</th>\n      <th>NAME</th>\n      <th>longitude</th>\n      <th>latitude</th>\n      <th>mercantor_x</th>\n      <th>mercantor_y</th>\n      <th>social_timezone</th>\n      <th>utc_sun_timezone_offset</th>\n      <th>summertime_longitudinal_diff_km</th>\n      <th>longitudinal_diff_km</th>\n    </tr>\n  </thead>\n  <tbody>\n    <tr>\n      <th>0</th>\n      <td>1766746</td>\n      <td>AT001C</td>\n      <td>AT</td>\n      <td>Wien</td>\n      <td>16.372504</td>\n      <td>48.208354</td>\n      <td>1.822579e+06</td>\n      <td>6.141588e+06</td>\n      <td>CET</td>\n      <td>1</td>\n      <td>1090.199664</td>\n      <td>-109.800336</td>\n    </tr>\n    <tr>\n      <th>1</th>\n      <td>269997</td>\n      <td>AT002C</td>\n      <td>AT</td>\n      <td>Graz</td>\n      <td>15.438279</td>\n      <td>47.070868</td>\n      <td>1.718581e+06</td>\n      <td>5.953649e+06</td>\n      <td>CET</td>\n      <td>1</td>\n      <td>1164.937712</td>\n      <td>-35.062288</td>\n    </tr>\n    <tr>\n      <th>2</th>\n      <td>193814</td>\n      <td>AT003C</td>\n      <td>AT</td>\n      <td>Linz</td>\n      <td>14.286198</td>\n      <td>48.305908</td>\n      <td>1.590332e+06</td>\n      <td>6.157899e+06</td>\n      <td>CET</td>\n      <td>1</td>\n      <td>1257.104160</td>\n      <td>57.104160</td>\n    </tr>\n    <tr>\n      <th>3</th>\n      <td>1226329</td>\n      <td>BE001C</td>\n      <td>BE</td>\n      <td>Bruxelles/Brussel</td>\n      <td>4.351697</td>\n      <td>50.846557</td>\n      <td>4.844287e+05</td>\n      <td>6.594196e+06</td>\n      <td>CET</td>\n      <td>1</td>\n      <td>2051.864240</td>\n      <td>851.864240</td>\n    </tr>\n    <tr>\n      <th>4</th>\n      <td>530627</td>\n      <td>BE002C</td>\n      <td>BE</td>\n      <td>Antwerpen</td>\n      <td>4.399708</td>\n      <td>51.221110</td>\n      <td>4.897733e+05</td>\n      <td>6.660499e+06</td>\n      <td>CET</td>\n      <td>1</td>\n      <td>2048.023352</td>\n      <td>848.023352</td>\n    </tr>\n  </tbody>\n</table>\n</div>"
     },
     "execution_count": 66,
     "metadata": {},
     "output_type": "execute_result"
    }
   ],
   "source": [
    "top_city_data.head()"
   ],
   "metadata": {
    "collapsed": false,
    "pycharm": {
     "name": "#%%\n"
    }
   }
  },
  {
   "cell_type": "code",
   "execution_count": 67,
   "outputs": [
    {
     "data": {
      "text/plain": "  country_ISO_A2 summer_period winter_period   dst  summer_diff_h  \\\n0             AT         05:56         08:09  True       3.058951   \n1             BE         06:31         09:00  True       2.471296   \n2             BG         06:26         08:17  True       2.555041   \n3             CY         06:06         07:30  True       2.898457   \n4             CZ         05:47         08:10  True       3.200257   \n\n   winter_diff_h  \n0       0.835794  \n1      -0.015735  \n2       0.706898  \n3       1.483557  \n4       0.821104  ",
      "text/html": "<div>\n<style scoped>\n    .dataframe tbody tr th:only-of-type {\n        vertical-align: middle;\n    }\n\n    .dataframe tbody tr th {\n        vertical-align: top;\n    }\n\n    .dataframe thead th {\n        text-align: right;\n    }\n</style>\n<table border=\"1\" class=\"dataframe\">\n  <thead>\n    <tr style=\"text-align: right;\">\n      <th></th>\n      <th>country_ISO_A2</th>\n      <th>summer_period</th>\n      <th>winter_period</th>\n      <th>dst</th>\n      <th>summer_diff_h</th>\n      <th>winter_diff_h</th>\n    </tr>\n  </thead>\n  <tbody>\n    <tr>\n      <th>0</th>\n      <td>AT</td>\n      <td>05:56</td>\n      <td>08:09</td>\n      <td>True</td>\n      <td>3.058951</td>\n      <td>0.835794</td>\n    </tr>\n    <tr>\n      <th>1</th>\n      <td>BE</td>\n      <td>06:31</td>\n      <td>09:00</td>\n      <td>True</td>\n      <td>2.471296</td>\n      <td>-0.015735</td>\n    </tr>\n    <tr>\n      <th>2</th>\n      <td>BG</td>\n      <td>06:26</td>\n      <td>08:17</td>\n      <td>True</td>\n      <td>2.555041</td>\n      <td>0.706898</td>\n    </tr>\n    <tr>\n      <th>3</th>\n      <td>CY</td>\n      <td>06:06</td>\n      <td>07:30</td>\n      <td>True</td>\n      <td>2.898457</td>\n      <td>1.483557</td>\n    </tr>\n    <tr>\n      <th>4</th>\n      <td>CZ</td>\n      <td>05:47</td>\n      <td>08:10</td>\n      <td>True</td>\n      <td>3.200257</td>\n      <td>0.821104</td>\n    </tr>\n  </tbody>\n</table>\n</div>"
     },
     "execution_count": 67,
     "metadata": {},
     "output_type": "execute_result"
    }
   ],
   "source": [
    "sun_data.head()"
   ],
   "metadata": {
    "collapsed": false,
    "pycharm": {
     "name": "#%%\n"
    }
   }
  },
  {
   "cell_type": "code",
   "execution_count": 68,
   "outputs": [
    {
     "data": {
      "text/plain": "      pop_est continent    name iso_a3  gdp_md_est  \\\n0  67059887.0    Europe  France    FRA     2715518   \n1  67059887.0    Europe  France    FRA     2715518   \n2  10285453.0    Europe  Sweden    SWE      530883   \n3  10285453.0    Europe  Sweden    SWE      530883   \n4  37970874.0    Europe  Poland    POL      595858   \n\n                                            geometry iso_a2 social_timezone  \\\n0  MULTIPOLYGON (((-5750519.703 463075.975, -5816...     FR             CET   \n1  MULTIPOLYGON (((-5750519.703 463075.975, -5816...     FR             CET   \n2  POLYGON ((1227561.058 8149359.996, 1276642.191...     SE             CET   \n3  POLYGON ((1227561.058 8149359.996, 1276642.191...     SE             CET   \n4  POLYGON ((2614241.130 7153601.786, 2619073.310...     PL             CET   \n\n   utc_sun_timezone_offset  mean_longitudinal_diff_km  ...  pop_norm    dst  \\\n0                        1                 865.323856  ...  0.805207  False   \n1                        1                2065.323856  ...  0.805207   True   \n2                        1                  52.312875  ...  0.117140  False   \n3                        1                1252.312875  ...  0.117140   True   \n4                        1                -410.681931  ...  0.452668  False   \n\n    weights  weighted_mean_longdiff  norm_weighted_mean_longdiff  \\\n0  1.805207              696.765077                     0.418977   \n1  1.805207             1663.013825                     1.000000   \n2  1.117140                6.127927                     0.003685   \n3  1.117140              146.695862                     0.088211   \n4  1.452668             -185.902704                     0.111787   \n\n   country_ISO_A2  summer_period winter_period summer_diff_h winter_diff_h  \n0              FR          05:44         07:50      3.251337      1.166518  \n1              FR          06:44         08:50      2.251337      0.166518  \n2              SE          04:32         07:48      4.461780      1.200000  \n3              SE          05:32         08:48      3.461780      0.200000  \n4              PL          04:29         07:01      4.515921      1.983296  \n\n[5 rows x 22 columns]",
      "text/html": "<div>\n<style scoped>\n    .dataframe tbody tr th:only-of-type {\n        vertical-align: middle;\n    }\n\n    .dataframe tbody tr th {\n        vertical-align: top;\n    }\n\n    .dataframe thead th {\n        text-align: right;\n    }\n</style>\n<table border=\"1\" class=\"dataframe\">\n  <thead>\n    <tr style=\"text-align: right;\">\n      <th></th>\n      <th>pop_est</th>\n      <th>continent</th>\n      <th>name</th>\n      <th>iso_a3</th>\n      <th>gdp_md_est</th>\n      <th>geometry</th>\n      <th>iso_a2</th>\n      <th>social_timezone</th>\n      <th>utc_sun_timezone_offset</th>\n      <th>mean_longitudinal_diff_km</th>\n      <th>...</th>\n      <th>pop_norm</th>\n      <th>dst</th>\n      <th>weights</th>\n      <th>weighted_mean_longdiff</th>\n      <th>norm_weighted_mean_longdiff</th>\n      <th>country_ISO_A2</th>\n      <th>summer_period</th>\n      <th>winter_period</th>\n      <th>summer_diff_h</th>\n      <th>winter_diff_h</th>\n    </tr>\n  </thead>\n  <tbody>\n    <tr>\n      <th>0</th>\n      <td>67059887.0</td>\n      <td>Europe</td>\n      <td>France</td>\n      <td>FRA</td>\n      <td>2715518</td>\n      <td>MULTIPOLYGON (((-5750519.703 463075.975, -5816...</td>\n      <td>FR</td>\n      <td>CET</td>\n      <td>1</td>\n      <td>865.323856</td>\n      <td>...</td>\n      <td>0.805207</td>\n      <td>False</td>\n      <td>1.805207</td>\n      <td>696.765077</td>\n      <td>0.418977</td>\n      <td>FR</td>\n      <td>05:44</td>\n      <td>07:50</td>\n      <td>3.251337</td>\n      <td>1.166518</td>\n    </tr>\n    <tr>\n      <th>1</th>\n      <td>67059887.0</td>\n      <td>Europe</td>\n      <td>France</td>\n      <td>FRA</td>\n      <td>2715518</td>\n      <td>MULTIPOLYGON (((-5750519.703 463075.975, -5816...</td>\n      <td>FR</td>\n      <td>CET</td>\n      <td>1</td>\n      <td>2065.323856</td>\n      <td>...</td>\n      <td>0.805207</td>\n      <td>True</td>\n      <td>1.805207</td>\n      <td>1663.013825</td>\n      <td>1.000000</td>\n      <td>FR</td>\n      <td>06:44</td>\n      <td>08:50</td>\n      <td>2.251337</td>\n      <td>0.166518</td>\n    </tr>\n    <tr>\n      <th>2</th>\n      <td>10285453.0</td>\n      <td>Europe</td>\n      <td>Sweden</td>\n      <td>SWE</td>\n      <td>530883</td>\n      <td>POLYGON ((1227561.058 8149359.996, 1276642.191...</td>\n      <td>SE</td>\n      <td>CET</td>\n      <td>1</td>\n      <td>52.312875</td>\n      <td>...</td>\n      <td>0.117140</td>\n      <td>False</td>\n      <td>1.117140</td>\n      <td>6.127927</td>\n      <td>0.003685</td>\n      <td>SE</td>\n      <td>04:32</td>\n      <td>07:48</td>\n      <td>4.461780</td>\n      <td>1.200000</td>\n    </tr>\n    <tr>\n      <th>3</th>\n      <td>10285453.0</td>\n      <td>Europe</td>\n      <td>Sweden</td>\n      <td>SWE</td>\n      <td>530883</td>\n      <td>POLYGON ((1227561.058 8149359.996, 1276642.191...</td>\n      <td>SE</td>\n      <td>CET</td>\n      <td>1</td>\n      <td>1252.312875</td>\n      <td>...</td>\n      <td>0.117140</td>\n      <td>True</td>\n      <td>1.117140</td>\n      <td>146.695862</td>\n      <td>0.088211</td>\n      <td>SE</td>\n      <td>05:32</td>\n      <td>08:48</td>\n      <td>3.461780</td>\n      <td>0.200000</td>\n    </tr>\n    <tr>\n      <th>4</th>\n      <td>37970874.0</td>\n      <td>Europe</td>\n      <td>Poland</td>\n      <td>POL</td>\n      <td>595858</td>\n      <td>POLYGON ((2614241.130 7153601.786, 2619073.310...</td>\n      <td>PL</td>\n      <td>CET</td>\n      <td>1</td>\n      <td>-410.681931</td>\n      <td>...</td>\n      <td>0.452668</td>\n      <td>False</td>\n      <td>1.452668</td>\n      <td>-185.902704</td>\n      <td>0.111787</td>\n      <td>PL</td>\n      <td>04:29</td>\n      <td>07:01</td>\n      <td>4.515921</td>\n      <td>1.983296</td>\n    </tr>\n  </tbody>\n</table>\n<p>5 rows × 22 columns</p>\n</div>"
     },
     "execution_count": 68,
     "metadata": {},
     "output_type": "execute_result"
    }
   ],
   "source": [
    "eu_geo_tz.head()"
   ],
   "metadata": {
    "collapsed": false,
    "pycharm": {
     "name": "#%%\n"
    }
   }
  },
  {
   "cell_type": "markdown",
   "source": [
    "### Generate top n cities per country with timezone features"
   ],
   "metadata": {
    "collapsed": false,
    "pycharm": {
     "name": "#%% md\n"
    }
   }
  },
  {
   "cell_type": "markdown",
   "source": [
    "## Interactive visualization with Panel/Bokeh"
   ],
   "metadata": {
    "collapsed": false,
    "pycharm": {
     "name": "#%% md\n"
    }
   }
  },
  {
   "cell_type": "code",
   "execution_count": 69,
   "outputs": [],
   "source": [
    "from bokeh.plotting import figure\n",
    "from bokeh.models import GeoJSONDataSource, CategoricalColorMapper, ColorBar, ColumnDataSource, LabelSet, HoverTool\n",
    "from bokeh.transform import factor_cmap\n",
    "from bokeh.tile_providers import get_provider, Vendors\n",
    "from bokeh.palettes import Plasma256\n",
    "from bokeh.palettes import brewer\n",
    "import json\n",
    "import panel as pn\n",
    "from datetime import datetime, date\n",
    "import numpy as np\n",
    "\n",
    "data_field = 'social_timezone'\n",
    "bokeh_tools = 'wheel_zoom, pan, box_zoom, reset, save'\n",
    "colorbar_settings = {'title_text_font_size':'12pt','label_standoff':12}\n",
    "\n",
    "def get_bokeh_geodata_source(gpd_df):\n",
    "    json_data = json.dumps(json.loads(gpd_df.to_json()))\n",
    "    return GeoJSONDataSource(geojson = json_data)\n",
    "\n",
    "def bokeh_plot_map(data, winter_period_active: bool):\n",
    "    p = figure(toolbar_location='right', tools=bokeh_tools, active_scroll =\"wheel_zoom\",\n",
    "               title=\"Time difference between sunrise and 9:00 for EU countries\",\n",
    "               x_range=(-1.3*10**6, 4*10**6),\n",
    "               y_range=(4*10**6,9*10**6))\n",
    "    p.title.text_font_size = '20px'\n",
    "    p.xgrid.grid_line_color = None\n",
    "    p.ygrid.grid_line_color = None\n",
    "\n",
    "    # ADD MAP TILES ---------------------------------------------------------------------------\n",
    "    p.add_tile(Vendors.CARTODBPOSITRON_RETINA)\n",
    "\n",
    "    # ADD TIMEZONE LINES\n",
    "\n",
    "    # ADD GEO STUFF FOR COUNTRIES AS A WHOLE -------------------------------------------------\n",
    "    geo_data_source = get_bokeh_geodata_source(data)\n",
    "\n",
    "    values = data[data_field]\n",
    "    palette = brewer['OrRd'][3]\n",
    "    palette = palette[::-1]\n",
    "    color_mapper = CategoricalColorMapper(palette = palette, factors=values.unique().tolist())\n",
    "    color_bar = ColorBar(color_mapper=color_mapper, location=(0,0), title='Timezone', **colorbar_settings)\n",
    "    country_tz = p.patches('xs','ys', source=geo_data_source,\n",
    "            fill_color={'field': data_field, 'transform': color_mapper},\n",
    "            line_color='blue',\n",
    "            line_width=0.5,\n",
    "            fill_alpha=0.8)\n",
    "    p.add_layout(color_bar, 'below')\n",
    "\n",
    "    # ===================================================================================================================\n",
    "\n",
    "    time_diff_col = data['winter_diff_h' if winter_period_active else 'summer_diff_h']\n",
    "    avg_sunrise = data['winter_period' if winter_period_active else 'summer_period']\n",
    "    bar_color = time_diff_col.apply(lambda x: '#ff0000' if np.sign(x) < 0 else 'blue')\n",
    "    #ADD BARS FOR DISTANCE TO EAST MERIDIAN EFFECT\n",
    "    length_scale = 100000\n",
    "    divider_len = 50000\n",
    "    bar_data_source = ColumnDataSource(dict(\n",
    "            x0=data['mercantor_x'],\n",
    "            y0=data['mercantor_y'],\n",
    "            x1=data['mercantor_x'] + (length_scale *  time_diff_col),\n",
    "            y1=data['mercantor_y'],\n",
    "            lwd=1 + data['pop_norm'] * 10,\n",
    "            l_col=bar_color,\n",
    "            avg_sunrise=avg_sunrise,\n",
    "            time_diff=time_diff_col,\n",
    "            country=data['name'],\n",
    "            pop_weight=data['pop_norm'],\n",
    "            long_diff=data['mean_longitudinal_diff_km'],\n",
    "            weighted_long_diff=data['weighted_mean_longdiff'],\n",
    "            long_diff_norm=data['norm_weighted_mean_longdiff'],\n",
    "            text=data['name'],\n",
    "            text_y=(data['mercantor_y'] + divider_len / 2) + 1000\n",
    "        )\n",
    "    )\n",
    "    divider_data_source = ColumnDataSource(dict(\n",
    "            x0=data['mercantor_x'],\n",
    "            y0=data['mercantor_y'] - divider_len / 2,\n",
    "            x1=data['mercantor_x'],\n",
    "            y1=data['mercantor_y'] + divider_len / 2,\n",
    "            l_col=bar_color\n",
    "    ))\n",
    "    longdiff_quads = p.segment(x0=\"x0\", y0=\"y0\", x1=\"x1\", y1=\"y1\", line_width=\"lwd\", line_color='l_col', source=bar_data_source)\n",
    "    londiff_diviers = p.segment(x0=\"x0\", y0=\"y0\", x1=\"x1\", y1=\"y1\", line_width=3, line_color='l_col', source=divider_data_source)\n",
    "    longdiff_label = p.text(x=\"x0\",y=\"text_y\", text=\"text\", source=bar_data_source)\n",
    "\n",
    "    # TOOLTIPS FOR CITY DATA\n",
    "    tooltips_longquads = [\n",
    "        ('Country', '@country'),\n",
    "        ('Avg. sunrise', '@avg_sunrise'),\n",
    "        ('Time difference from sunrise to 9:00', '@time_diff'),\n",
    "        ('Population weight', '@pop_weight'),\n",
    "        ('Relative distance (km) to timezone border', '@long_diff'),\n",
    "        ('Weighted (population size) diff. to east timezone border', '@weighted_long_diff'),\n",
    "        ('Normalized, weighted (population size) effect of distance to east meridian', '@long_diff_norm')\n",
    "    ]\n",
    "    p.add_tools(HoverTool(renderers=[longdiff_label], tooltips=tooltips_longquads, name='long_quads'))\n",
    "    return p"
   ],
   "metadata": {
    "collapsed": false,
    "pycharm": {
     "name": "#%%\n"
    }
   }
  },
  {
   "cell_type": "code",
   "execution_count": 70,
   "outputs": [],
   "source": [
    "from bokeh.models import DataTable, TableColumn\n",
    "\n",
    "def bokeh_country_table(country_data):\n",
    "    country_data_sorted = country_data.sort_values('norm_weighted_mean_longdiff', ascending=False)\n",
    "    source = ColumnDataSource(country_data_sorted)\n",
    "    columns = [\n",
    "        TableColumn(field='name', title='Country Name'),\n",
    "        TableColumn(field=\"iso_a2\",title=\"Country Code (ISO_A2)\"),\n",
    "        TableColumn(field=\"social_timezone\", title=\"Social Timezone\"),\n",
    "        TableColumn(field=\"pop_est\", title=\"Estimated population\"),\n",
    "        TableColumn(field=\"dst\", title=\"DST active\"),\n",
    "        TableColumn(field=\"summer_period\", title=\"Avg. sunrise in summer period\"),\n",
    "        TableColumn(field=\"winter_period\", title=\"Avg. sunrise in winter period\"),\n",
    "        TableColumn(field=\"winter_diff_h\", title=\"Difference between sunrise to 9:00 in winter\"),\n",
    "        TableColumn(field=\"summer_diff_h\", title=\"Difference between sunrise to 9:00 in summer\"),\n",
    "        TableColumn(field=\"norm_weighted_mean_longdiff\", title=\"Normalized weighted effect of dist. to east meridian\"),\n",
    "        TableColumn(field=\"mean_longitudinal_diff_km\", title=\"Avg. dist. to east meridian (km)\"),\n",
    "    ]\n",
    "    data_table = DataTable(source=source, columns=columns)\n",
    "    return data_table"
   ],
   "metadata": {
    "collapsed": false,
    "pycharm": {
     "name": "#%%\n"
    }
   }
  },
  {
   "cell_type": "code",
   "execution_count": 71,
   "outputs": [],
   "source": [
    "def bokeh_sun_table(sun_data):\n",
    "    source = ColumnDataSource(sun_data)\n",
    "\n",
    "    # Add data table\n",
    "    columns = [\n",
    "        TableColumn(field=\"iso_a3\", title=\"Country Code (ISO_A3)\"),\n",
    "        TableColumn(field=\"year\", title=\"Year\"),\n",
    "        TableColumn(field=\"month\", title=\"Month\"),\n",
    "        TableColumn(field=\"day\", title=\"Day\"),\n",
    "        TableColumn(field=\"sunrise_UTC\", title=\"Sunrise (UTC/GMT)\"),\n",
    "        TableColumn(field=\"sunset_UTC\", title=\"Sunrise (UTC/GMT)\")\n",
    "    ]\n",
    "    data_table = DataTable(source=source, columns=columns)\n",
    "    return data_table"
   ],
   "metadata": {
    "collapsed": false,
    "pycharm": {
     "name": "#%%\n"
    }
   }
  },
  {
   "cell_type": "code",
   "execution_count": 72,
   "outputs": [],
   "source": [
    "def map_visualization():\n",
    "    # CREATE MAP  ----------------------------------------------------------------------------------\n",
    "    # Create Map Panel\n",
    "    map_pane = pn.pane.Bokeh(sizing_mode='scale_both', width_policy='max')\n",
    "    dst_text = pn.widgets.StaticText(value='Daylight savings time (DST) enabled:')\n",
    "    dst_toggle = pn.widgets.Switch(name=\"DST Toggle\")\n",
    "\n",
    "    period_text = pn.widgets.StaticText(value='Summer Period (Last Sunday in March) / Winter Period (Last Sunday in October):')\n",
    "    period_toggle = pn.widgets.Switch(name=\"Summer/Winter period Toggle\")\n",
    "\n",
    "    def update_map(event):\n",
    "        eu_geo_tz_filter = eu_geo_tz[eu_geo_tz['dst'] == dst_toggle.value]\n",
    "        map_pane.object = bokeh_plot_map(eu_geo_tz_filter, period_toggle.value)\n",
    "    dst_toggle.param.watch(update_map, 'value')\n",
    "    dst_toggle.param.trigger('value')\n",
    "    period_toggle.param.watch(update_map, 'value')\n",
    "    period_toggle.param.trigger('value')\n",
    "\n",
    "    # CREATE DATATABLES ----------------------------------------------------------------------------------\n",
    "    sizing_dict = dict(sizing_mode='stretch_both', width_policy='auto', margin=10)\n",
    "    # Create City Table Panel\n",
    "    country_data_pane = pn.pane.Bokeh(**sizing_dict)\n",
    "    country_data_pane.object = bokeh_country_table(eu_geo_tz.drop(columns=['geometry']))\n",
    "\n",
    "    # Create panel application layout\n",
    "    map_vis = pn.Column(pn.Column(pn.Row(dst_text, dst_toggle), pn.Row(period_text, period_toggle)), map_pane)\n",
    "    tabs = pn.Tabs(('Map', map_vis), ('Country Data', country_data_pane))\n",
    "    return tabs\n",
    "\n",
    "app = map_visualization()"
   ],
   "metadata": {
    "collapsed": false,
    "pycharm": {
     "name": "#%%\n"
    }
   }
  },
  {
   "cell_type": "code",
   "execution_count": 73,
   "outputs": [
    {
     "name": "stdout",
     "output_type": "stream",
     "text": [
      "Launching server at http://localhost:1675\n"
     ]
    },
    {
     "data": {
      "text/plain": "<panel.io.server.Server at 0x1fdd550fbd0>"
     },
     "execution_count": 73,
     "metadata": {},
     "output_type": "execute_result"
    }
   ],
   "source": [
    "app.show()"
   ],
   "metadata": {
    "collapsed": false,
    "pycharm": {
     "name": "#%%\n"
    }
   }
  }
 ],
 "metadata": {
  "kernelspec": {
   "display_name": "Python 3",
   "language": "python",
   "name": "python3"
  },
  "language_info": {
   "codemirror_mode": {
    "name": "ipython",
    "version": 2
   },
   "file_extension": ".py",
   "mimetype": "text/x-python",
   "name": "python",
   "nbconvert_exporter": "python",
   "pygments_lexer": "ipython2",
   "version": "2.7.6"
  }
 },
 "nbformat": 4,
 "nbformat_minor": 0
}