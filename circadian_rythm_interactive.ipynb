{
 "cells": [
  {
   "cell_type": "markdown",
   "source": [
    "# Interactive Visualization of Daytimes and Workingtimes in Europe"
   ],
   "metadata": {
    "collapsed": false,
    "pycharm": {
     "name": "#%% md\n"
    }
   }
  },
  {
   "cell_type": "markdown",
   "source": [
    "## Data"
   ],
   "metadata": {
    "collapsed": false,
    "pycharm": {
     "name": "#%% md\n"
    }
   }
  },
  {
   "cell_type": "code",
   "execution_count": 1,
   "outputs": [],
   "source": [
    "import pandas as pd\n",
    "import geopandas as gpd\n",
    "\n",
    "RELOAD_DATA = False\n",
    "eu_data_path = 'datasets/saved/eu_gpd.geojson'\n",
    "city_data_path = 'datasets/saved/city_data.csv'\n",
    "sunset_data = 'datasets/saved/sunset_data_2022.geojson'\n",
    "avg_country_data_path = 'datasets/saved/avg_country.csv'"
   ],
   "metadata": {
    "collapsed": false,
    "pycharm": {
     "name": "#%%\n"
    }
   }
  },
  {
   "cell_type": "markdown",
   "source": [
    "### EU countries to capitals and GeoPandas data"
   ],
   "metadata": {
    "collapsed": false,
    "pycharm": {
     "name": "#%% md\n"
    }
   }
  },
  {
   "cell_type": "code",
   "execution_count": 2,
   "outputs": [
    {
     "name": "stderr",
     "output_type": "stream",
     "text": [
      "pydev debugger: Unable to find real location for: <string>\n",
      "pydev debugger: Unable to find real location for: <frozen _collections_abc>\n",
      "pydev debugger: Unable to find real location for: <frozen os>\n",
      "pydev debugger: Unable to find real location for: C:\\Users\\phili\\AppData\\Local\\Temp\\ipykernel_2880\\4080902686.py\n",
      "pydev debugger: Unable to find real location for: <frozen importlib._bootstrap_external>\n",
      "pydev debugger: Unable to find real location for: <frozen zipimport>\n",
      "pydev debugger: Unable to find real location for: <decorator-gen-0>\n",
      "pydev debugger: Unable to find real location for: <decorator-gen-1>\n",
      "pydev debugger: Unable to find real location for: <decorator-gen-2>\n",
      "pydev debugger: Unable to find real location for: <decorator-gen-3>\n",
      "pydev debugger: Unable to find real location for: <decorator-gen-4>\n",
      "pydev debugger: Unable to find real location for: <decorator-gen-5>\n",
      "pydev debugger: Unable to find real location for: <decorator-gen-6>\n",
      "pydev debugger: Unable to find real location for: <__array_function__ internals>\n",
      "pydev debugger: Unable to find real location for: <frozen io>\n",
      "pydev debugger: Unable to find real location for: <decorator-gen-7>\n",
      "pydev debugger: Unable to find real location for: <decorator-gen-8>\n",
      "pydev debugger: Unable to find real location for: <decorator-gen-9>\n",
      "pydev debugger: Unable to find real location for: <decorator-gen-10>\n",
      "pydev debugger: Unable to find real location for: <frozen codecs>\n"
     ]
    },
    {
     "name": "stdout",
     "output_type": "stream",
     "text": [
      "Generating data ...\n"
     ]
    },
    {
     "name": "stderr",
     "output_type": "stream",
     "text": [
      "pydev debugger: Unable to find real location for: <frozen posixpath>\n"
     ]
    },
    {
     "ename": "KeyboardInterrupt",
     "evalue": "",
     "output_type": "error",
     "traceback": [
      "\u001B[1;31m---------------------------------------------------------------------------\u001B[0m",
      "\u001B[1;31mKeyboardInterrupt\u001B[0m                         Traceback (most recent call last)",
      "Cell \u001B[1;32mIn[2], line 12\u001B[0m\n\u001B[0;32m     10\u001B[0m \u001B[38;5;28;01melse\u001B[39;00m:\n\u001B[0;32m     11\u001B[0m     \u001B[38;5;28mprint\u001B[39m(\u001B[38;5;124m'\u001B[39m\u001B[38;5;124mGenerating data ...\u001B[39m\u001B[38;5;124m'\u001B[39m)\n\u001B[1;32m---> 12\u001B[0m     top_city_data \u001B[38;5;241m=\u001B[39m \u001B[43mget_eu_city_data\u001B[49m\u001B[43m(\u001B[49m\u001B[38;5;241;43m3\u001B[39;49m\u001B[43m)\u001B[49m\n\u001B[0;32m     13\u001B[0m     top_city_data\u001B[38;5;241m.\u001B[39mto_csv(city_data_path, index\u001B[38;5;241m=\u001B[39m\u001B[38;5;28;01mFalse\u001B[39;00m)\n\u001B[0;32m     15\u001B[0m     eu_gpd \u001B[38;5;241m=\u001B[39m load_eu_countries_as_geopandas()\n",
      "File \u001B[1;32m~\\PycharmProjects\\CircadianRythmEU\\geo_utils.py:59\u001B[0m, in \u001B[0;36mget_eu_city_data\u001B[1;34m(top_n_pop)\u001B[0m\n\u001B[0;32m     51\u001B[0m \u001B[38;5;28;01mdef\u001B[39;00m \u001B[38;5;21mget_eu_city_data\u001B[39m(top_n_pop: \u001B[38;5;28mint\u001B[39m \u001B[38;5;241m=\u001B[39m \u001B[38;5;241m3\u001B[39m) \u001B[38;5;241m-\u001B[39m\u001B[38;5;241m>\u001B[39m pd\u001B[38;5;241m.\u001B[39mDataFrame:\n\u001B[0;32m     52\u001B[0m \u001B[38;5;250m    \u001B[39m\u001B[38;5;124;03m\"\"\"\u001B[39;00m\n\u001B[0;32m     53\u001B[0m \u001B[38;5;124;03m    Loads the top n cities for each EU country using the Urban Audit dataset.\u001B[39;00m\n\u001B[0;32m     54\u001B[0m \u001B[38;5;124;03m    Enriches the data with timezone features such as the distance to each cities\u001B[39;00m\n\u001B[1;32m   (...)\u001B[0m\n\u001B[0;32m     57\u001B[0m \u001B[38;5;124;03m    :return: Returns a dataframe containing city information and timezone features.\u001B[39;00m\n\u001B[0;32m     58\u001B[0m \u001B[38;5;124;03m    \"\"\"\u001B[39;00m\n\u001B[1;32m---> 59\u001B[0m     top_n_cities_per_country \u001B[38;5;241m=\u001B[39m \u001B[43m_get_top_n_pop_cities_per_country\u001B[49m\u001B[43m(\u001B[49m\u001B[43mtop_n_pop\u001B[49m\u001B[43m)\u001B[49m\n\u001B[0;32m     60\u001B[0m     \u001B[38;5;28;01mreturn\u001B[39;00m _add_timezone_features_to_cities(top_n_cities_per_country)\n",
      "File \u001B[1;32m~\\PycharmProjects\\CircadianRythmEU\\geo_utils.py:92\u001B[0m, in \u001B[0;36m_get_top_n_pop_cities_per_country\u001B[1;34m(top_n_pop)\u001B[0m\n\u001B[0;32m     89\u001B[0m city_codes \u001B[38;5;241m=\u001B[39m pd\u001B[38;5;241m.\u001B[39mread_excel(\u001B[38;5;124m'\u001B[39m\u001B[38;5;124mdatasets/Eurostat/urban_population/urb_esms_an4.xlsx\u001B[39m\u001B[38;5;124m'\u001B[39m, dtype\u001B[38;5;241m=\u001B[39m\u001B[38;5;28mstr\u001B[39m)\n\u001B[0;32m     91\u001B[0m \u001B[38;5;66;03m# Extract city name, country codes by merging with metadata\u001B[39;00m\n\u001B[1;32m---> 92\u001B[0m eu_cities_pop\u001B[38;5;241m.\u001B[39mcolumns \u001B[38;5;241m=\u001B[39m [\u001B[38;5;124m'\u001B[39m\u001B[38;5;124mcode_info\u001B[39m\u001B[38;5;124m'\u001B[39m, \u001B[38;5;124m'\u001B[39m\u001B[38;5;124mpopulation\u001B[39m\u001B[38;5;124m'\u001B[39m]\n\u001B[0;32m     93\u001B[0m eu_cities_pop[\u001B[38;5;124m'\u001B[39m\u001B[38;5;124mpopulation\u001B[39m\u001B[38;5;124m'\u001B[39m] \u001B[38;5;241m=\u001B[39m eu_cities_pop[\u001B[38;5;124m'\u001B[39m\u001B[38;5;124mpopulation\u001B[39m\u001B[38;5;124m'\u001B[39m]\u001B[38;5;241m.\u001B[39mapply(\u001B[38;5;28;01mlambda\u001B[39;00m x: \u001B[38;5;28mint\u001B[39m(x\u001B[38;5;241m.\u001B[39msplit(\u001B[38;5;124m'\u001B[39m\u001B[38;5;124m \u001B[39m\u001B[38;5;124m'\u001B[39m)[\u001B[38;5;241m0\u001B[39m]))\n\u001B[0;32m     94\u001B[0m eu_cities_pop[\u001B[38;5;124m'\u001B[39m\u001B[38;5;124mCODE\u001B[39m\u001B[38;5;124m'\u001B[39m] \u001B[38;5;241m=\u001B[39m eu_cities_pop\u001B[38;5;241m.\u001B[39miloc[:, \u001B[38;5;241m0\u001B[39m]\u001B[38;5;241m.\u001B[39mapply(\u001B[38;5;28;01mlambda\u001B[39;00m x: x\u001B[38;5;241m.\u001B[39msplit(\u001B[38;5;124m'\u001B[39m\u001B[38;5;124m,\u001B[39m\u001B[38;5;124m'\u001B[39m)[\u001B[38;5;241m-\u001B[39m\u001B[38;5;241m1\u001B[39m])\n",
      "File \u001B[1;32m~\\PycharmProjects\\CircadianRythmEU\\geo_utils.py:92\u001B[0m, in \u001B[0;36m_get_top_n_pop_cities_per_country\u001B[1;34m(top_n_pop)\u001B[0m\n\u001B[0;32m     89\u001B[0m city_codes \u001B[38;5;241m=\u001B[39m pd\u001B[38;5;241m.\u001B[39mread_excel(\u001B[38;5;124m'\u001B[39m\u001B[38;5;124mdatasets/Eurostat/urban_population/urb_esms_an4.xlsx\u001B[39m\u001B[38;5;124m'\u001B[39m, dtype\u001B[38;5;241m=\u001B[39m\u001B[38;5;28mstr\u001B[39m)\n\u001B[0;32m     91\u001B[0m \u001B[38;5;66;03m# Extract city name, country codes by merging with metadata\u001B[39;00m\n\u001B[1;32m---> 92\u001B[0m eu_cities_pop\u001B[38;5;241m.\u001B[39mcolumns \u001B[38;5;241m=\u001B[39m [\u001B[38;5;124m'\u001B[39m\u001B[38;5;124mcode_info\u001B[39m\u001B[38;5;124m'\u001B[39m, \u001B[38;5;124m'\u001B[39m\u001B[38;5;124mpopulation\u001B[39m\u001B[38;5;124m'\u001B[39m]\n\u001B[0;32m     93\u001B[0m eu_cities_pop[\u001B[38;5;124m'\u001B[39m\u001B[38;5;124mpopulation\u001B[39m\u001B[38;5;124m'\u001B[39m] \u001B[38;5;241m=\u001B[39m eu_cities_pop[\u001B[38;5;124m'\u001B[39m\u001B[38;5;124mpopulation\u001B[39m\u001B[38;5;124m'\u001B[39m]\u001B[38;5;241m.\u001B[39mapply(\u001B[38;5;28;01mlambda\u001B[39;00m x: \u001B[38;5;28mint\u001B[39m(x\u001B[38;5;241m.\u001B[39msplit(\u001B[38;5;124m'\u001B[39m\u001B[38;5;124m \u001B[39m\u001B[38;5;124m'\u001B[39m)[\u001B[38;5;241m0\u001B[39m]))\n\u001B[0;32m     94\u001B[0m eu_cities_pop[\u001B[38;5;124m'\u001B[39m\u001B[38;5;124mCODE\u001B[39m\u001B[38;5;124m'\u001B[39m] \u001B[38;5;241m=\u001B[39m eu_cities_pop\u001B[38;5;241m.\u001B[39miloc[:, \u001B[38;5;241m0\u001B[39m]\u001B[38;5;241m.\u001B[39mapply(\u001B[38;5;28;01mlambda\u001B[39;00m x: x\u001B[38;5;241m.\u001B[39msplit(\u001B[38;5;124m'\u001B[39m\u001B[38;5;124m,\u001B[39m\u001B[38;5;124m'\u001B[39m)[\u001B[38;5;241m-\u001B[39m\u001B[38;5;241m1\u001B[39m])\n",
      "File \u001B[1;32mC:\\Program Files\\JetBrains\\PyCharm 2021.3.1\\plugins\\python\\helpers\\pydev\\_pydevd_bundle\\pydevd_frame.py:747\u001B[0m, in \u001B[0;36mPyDBFrame.trace_dispatch\u001B[1;34m(self, frame, event, arg)\u001B[0m\n\u001B[0;32m    745\u001B[0m \u001B[38;5;66;03m# if thread has a suspend flag, we suspend with a busy wait\u001B[39;00m\n\u001B[0;32m    746\u001B[0m \u001B[38;5;28;01mif\u001B[39;00m info\u001B[38;5;241m.\u001B[39mpydev_state \u001B[38;5;241m==\u001B[39m STATE_SUSPEND:\n\u001B[1;32m--> 747\u001B[0m     \u001B[38;5;28;43mself\u001B[39;49m\u001B[38;5;241;43m.\u001B[39;49m\u001B[43mdo_wait_suspend\u001B[49m\u001B[43m(\u001B[49m\u001B[43mthread\u001B[49m\u001B[43m,\u001B[49m\u001B[43m \u001B[49m\u001B[43mframe\u001B[49m\u001B[43m,\u001B[49m\u001B[43m \u001B[49m\u001B[43mevent\u001B[49m\u001B[43m,\u001B[49m\u001B[43m \u001B[49m\u001B[43marg\u001B[49m\u001B[43m)\u001B[49m\n\u001B[0;32m    748\u001B[0m     \u001B[38;5;66;03m# No need to reset frame.f_trace to keep the same trace function.\u001B[39;00m\n\u001B[0;32m    749\u001B[0m     \u001B[38;5;28;01mreturn\u001B[39;00m \u001B[38;5;28mself\u001B[39m\u001B[38;5;241m.\u001B[39mtrace_dispatch\n",
      "File \u001B[1;32mC:\\Program Files\\JetBrains\\PyCharm 2021.3.1\\plugins\\python\\helpers\\pydev\\_pydevd_bundle\\pydevd_frame.py:144\u001B[0m, in \u001B[0;36mPyDBFrame.do_wait_suspend\u001B[1;34m(self, *args, **kwargs)\u001B[0m\n\u001B[0;32m    143\u001B[0m \u001B[38;5;28;01mdef\u001B[39;00m \u001B[38;5;21mdo_wait_suspend\u001B[39m(\u001B[38;5;28mself\u001B[39m, \u001B[38;5;241m*\u001B[39margs, \u001B[38;5;241m*\u001B[39m\u001B[38;5;241m*\u001B[39mkwargs):\n\u001B[1;32m--> 144\u001B[0m     \u001B[38;5;28;43mself\u001B[39;49m\u001B[38;5;241;43m.\u001B[39;49m\u001B[43m_args\u001B[49m\u001B[43m[\u001B[49m\u001B[38;5;241;43m0\u001B[39;49m\u001B[43m]\u001B[49m\u001B[38;5;241;43m.\u001B[39;49m\u001B[43mdo_wait_suspend\u001B[49m\u001B[43m(\u001B[49m\u001B[38;5;241;43m*\u001B[39;49m\u001B[43margs\u001B[49m\u001B[43m,\u001B[49m\u001B[43m \u001B[49m\u001B[38;5;241;43m*\u001B[39;49m\u001B[38;5;241;43m*\u001B[39;49m\u001B[43mkwargs\u001B[49m\u001B[43m)\u001B[49m\n",
      "File \u001B[1;32mC:\\Program Files\\JetBrains\\PyCharm 2021.3.1\\plugins\\python\\helpers\\pydev\\pydevd.py:1160\u001B[0m, in \u001B[0;36mPyDB.do_wait_suspend\u001B[1;34m(self, thread, frame, event, arg, send_suspend_message, is_unhandled_exception)\u001B[0m\n\u001B[0;32m   1157\u001B[0m         from_this_thread\u001B[38;5;241m.\u001B[39mappend(frame_id)\n\u001B[0;32m   1159\u001B[0m \u001B[38;5;28;01mwith\u001B[39;00m \u001B[38;5;28mself\u001B[39m\u001B[38;5;241m.\u001B[39m_threads_suspended_single_notification\u001B[38;5;241m.\u001B[39mnotify_thread_suspended(thread_id, stop_reason):\n\u001B[1;32m-> 1160\u001B[0m     \u001B[38;5;28;43mself\u001B[39;49m\u001B[38;5;241;43m.\u001B[39;49m\u001B[43m_do_wait_suspend\u001B[49m\u001B[43m(\u001B[49m\u001B[43mthread\u001B[49m\u001B[43m,\u001B[49m\u001B[43m \u001B[49m\u001B[43mframe\u001B[49m\u001B[43m,\u001B[49m\u001B[43m \u001B[49m\u001B[43mevent\u001B[49m\u001B[43m,\u001B[49m\u001B[43m \u001B[49m\u001B[43marg\u001B[49m\u001B[43m,\u001B[49m\u001B[43m \u001B[49m\u001B[43msuspend_type\u001B[49m\u001B[43m,\u001B[49m\u001B[43m \u001B[49m\u001B[43mfrom_this_thread\u001B[49m\u001B[43m)\u001B[49m\n",
      "File \u001B[1;32mC:\\Program Files\\JetBrains\\PyCharm 2021.3.1\\plugins\\python\\helpers\\pydev\\pydevd.py:1175\u001B[0m, in \u001B[0;36mPyDB._do_wait_suspend\u001B[1;34m(self, thread, frame, event, arg, suspend_type, from_this_thread)\u001B[0m\n\u001B[0;32m   1172\u001B[0m             \u001B[38;5;28mself\u001B[39m\u001B[38;5;241m.\u001B[39m_call_mpl_hook()\n\u001B[0;32m   1174\u001B[0m         \u001B[38;5;28mself\u001B[39m\u001B[38;5;241m.\u001B[39mprocess_internal_commands()\n\u001B[1;32m-> 1175\u001B[0m         \u001B[43mtime\u001B[49m\u001B[38;5;241;43m.\u001B[39;49m\u001B[43msleep\u001B[49m\u001B[43m(\u001B[49m\u001B[38;5;241;43m0.01\u001B[39;49m\u001B[43m)\u001B[49m\n\u001B[0;32m   1177\u001B[0m \u001B[38;5;28mself\u001B[39m\u001B[38;5;241m.\u001B[39mcancel_async_evaluation(get_current_thread_id(thread), \u001B[38;5;28mstr\u001B[39m(\u001B[38;5;28mid\u001B[39m(frame)))\n\u001B[0;32m   1179\u001B[0m \u001B[38;5;66;03m# process any stepping instructions\u001B[39;00m\n",
      "\u001B[1;31mKeyboardInterrupt\u001B[0m: "
     ]
    }
   ],
   "source": [
    "from sun_data import get_sunset_sunrise_data\n",
    "from geo_utils import load_eu_countries_as_geopandas, get_eu_city_data, get_avg_country_data\n",
    "\n",
    "if RELOAD_DATA:\n",
    "    print('Reloading data from datasets/saved folder ...')\n",
    "    eu_gpd = gpd.read_file(eu_data_path)\n",
    "    top_city_data = pd.read_csv(city_data_path)\n",
    "    sun_data_gpd = gpd.read_file(sunset_data)\n",
    "    avg_country_data = pd.read_csv(avg_country_data_path)\n",
    "else:\n",
    "    print('Generating data ...')\n",
    "    top_city_data = get_eu_city_data(3)\n",
    "    top_city_data.to_csv(city_data_path, index=False)\n",
    "\n",
    "    eu_gpd = load_eu_countries_as_geopandas()\n",
    "    eu_gpd.to_file(eu_data_path, driver='GeoJSON', index=False)\n",
    "\n",
    "    avg_country_data = get_avg_country_data(top_city_data, eu_gpd)\n",
    "    avg_country_data.to_csv(avg_country_data_path, index=False)\n",
    "\n",
    "    sun_data_gpd = get_sunset_sunrise_data(year=2022, eu_gpd=eu_gpd, csv_path=sunset_data)"
   ],
   "metadata": {
    "collapsed": false,
    "pycharm": {
     "name": "#%%\n"
    }
   }
  },
  {
   "cell_type": "code",
   "execution_count": 3,
   "outputs": [
    {
     "data": {
      "text/plain": "        pop_est continent     name iso_a3  gdp_md_est  \\\n43   67059887.0    Europe   France    FRA     2715518   \n110  10285453.0    Europe   Sweden    SWE      530883   \n113  37970874.0    Europe   Poland    POL      595858   \n114   8877067.0    Europe  Austria    AUT      445075   \n115   9769949.0    Europe  Hungary    HUN      163469   \n\n                                              geometry iso_a2  \n43   MULTIPOLYGON (((-51.65780 4.15623, -52.24934 3...     FR  \n110  POLYGON ((11.02737 58.85615, 11.46827 59.43239...     SE  \n113  POLYGON ((23.48413 53.91250, 23.52754 53.47012...     PL  \n114  POLYGON ((16.97967 48.12350, 16.90375 47.71487...     AT  \n115  POLYGON ((22.08561 48.42226, 22.64082 48.15024...     HU  ",
      "text/html": "<div>\n<style scoped>\n    .dataframe tbody tr th:only-of-type {\n        vertical-align: middle;\n    }\n\n    .dataframe tbody tr th {\n        vertical-align: top;\n    }\n\n    .dataframe thead th {\n        text-align: right;\n    }\n</style>\n<table border=\"1\" class=\"dataframe\">\n  <thead>\n    <tr style=\"text-align: right;\">\n      <th></th>\n      <th>pop_est</th>\n      <th>continent</th>\n      <th>name</th>\n      <th>iso_a3</th>\n      <th>gdp_md_est</th>\n      <th>geometry</th>\n      <th>iso_a2</th>\n    </tr>\n  </thead>\n  <tbody>\n    <tr>\n      <th>43</th>\n      <td>67059887.0</td>\n      <td>Europe</td>\n      <td>France</td>\n      <td>FRA</td>\n      <td>2715518</td>\n      <td>MULTIPOLYGON (((-51.65780 4.15623, -52.24934 3...</td>\n      <td>FR</td>\n    </tr>\n    <tr>\n      <th>110</th>\n      <td>10285453.0</td>\n      <td>Europe</td>\n      <td>Sweden</td>\n      <td>SWE</td>\n      <td>530883</td>\n      <td>POLYGON ((11.02737 58.85615, 11.46827 59.43239...</td>\n      <td>SE</td>\n    </tr>\n    <tr>\n      <th>113</th>\n      <td>37970874.0</td>\n      <td>Europe</td>\n      <td>Poland</td>\n      <td>POL</td>\n      <td>595858</td>\n      <td>POLYGON ((23.48413 53.91250, 23.52754 53.47012...</td>\n      <td>PL</td>\n    </tr>\n    <tr>\n      <th>114</th>\n      <td>8877067.0</td>\n      <td>Europe</td>\n      <td>Austria</td>\n      <td>AUT</td>\n      <td>445075</td>\n      <td>POLYGON ((16.97967 48.12350, 16.90375 47.71487...</td>\n      <td>AT</td>\n    </tr>\n    <tr>\n      <th>115</th>\n      <td>9769949.0</td>\n      <td>Europe</td>\n      <td>Hungary</td>\n      <td>HUN</td>\n      <td>163469</td>\n      <td>POLYGON ((22.08561 48.42226, 22.64082 48.15024...</td>\n      <td>HU</td>\n    </tr>\n  </tbody>\n</table>\n</div>"
     },
     "execution_count": 3,
     "metadata": {},
     "output_type": "execute_result"
    }
   ],
   "source": [
    "eu_gpd.head()"
   ],
   "metadata": {
    "collapsed": false,
    "pycharm": {
     "name": "#%%\n"
    }
   }
  },
  {
   "cell_type": "code",
   "execution_count": 4,
   "outputs": [
    {
     "data": {
      "text/plain": "   population    CODE country_ISO_A2               NAME  longitude   latitude  \\\n0     1205492  BE001C             BE  Bruxelles/Brussel   4.351697  50.846557   \n1      523591  BE002C             BE          Antwerpen   4.399708  51.221110   \n2      383710  BE005C             BE              Liège   5.573611  50.645094   \n3     1238438  BG001C             BG              Sofia  23.321736  42.697703   \n4      345213  BG002C             BG            Plovdiv  24.749930  42.141854   \n\n    mercantor_x   mercantor_y  social_timezone  utc_sun_timezone_offset  \\\n0  4.844287e+05  6.594196e+06  Europe/Brussels                      1.0   \n1  4.897733e+05  6.660499e+06  Europe/Brussels                      1.0   \n2  6.204516e+05  6.558754e+06  Europe/Brussels                      1.0   \n3  2.596164e+06  5.266072e+06     Europe/Sofia                      2.0   \n4  2.755150e+06  5.182252e+06     Europe/Sofia                      2.0   \n\n   longitudinal_diff  longitudinal_diff_km  \n0          10.648303            851.864240  \n1          10.600292            848.023352  \n2           9.426389            754.111104  \n3           6.678264            534.261128  \n4           5.250070            420.005624  ",
      "text/html": "<div>\n<style scoped>\n    .dataframe tbody tr th:only-of-type {\n        vertical-align: middle;\n    }\n\n    .dataframe tbody tr th {\n        vertical-align: top;\n    }\n\n    .dataframe thead th {\n        text-align: right;\n    }\n</style>\n<table border=\"1\" class=\"dataframe\">\n  <thead>\n    <tr style=\"text-align: right;\">\n      <th></th>\n      <th>population</th>\n      <th>CODE</th>\n      <th>country_ISO_A2</th>\n      <th>NAME</th>\n      <th>longitude</th>\n      <th>latitude</th>\n      <th>mercantor_x</th>\n      <th>mercantor_y</th>\n      <th>social_timezone</th>\n      <th>utc_sun_timezone_offset</th>\n      <th>longitudinal_diff</th>\n      <th>longitudinal_diff_km</th>\n    </tr>\n  </thead>\n  <tbody>\n    <tr>\n      <th>0</th>\n      <td>1205492</td>\n      <td>BE001C</td>\n      <td>BE</td>\n      <td>Bruxelles/Brussel</td>\n      <td>4.351697</td>\n      <td>50.846557</td>\n      <td>4.844287e+05</td>\n      <td>6.594196e+06</td>\n      <td>Europe/Brussels</td>\n      <td>1.0</td>\n      <td>10.648303</td>\n      <td>851.864240</td>\n    </tr>\n    <tr>\n      <th>1</th>\n      <td>523591</td>\n      <td>BE002C</td>\n      <td>BE</td>\n      <td>Antwerpen</td>\n      <td>4.399708</td>\n      <td>51.221110</td>\n      <td>4.897733e+05</td>\n      <td>6.660499e+06</td>\n      <td>Europe/Brussels</td>\n      <td>1.0</td>\n      <td>10.600292</td>\n      <td>848.023352</td>\n    </tr>\n    <tr>\n      <th>2</th>\n      <td>383710</td>\n      <td>BE005C</td>\n      <td>BE</td>\n      <td>Liège</td>\n      <td>5.573611</td>\n      <td>50.645094</td>\n      <td>6.204516e+05</td>\n      <td>6.558754e+06</td>\n      <td>Europe/Brussels</td>\n      <td>1.0</td>\n      <td>9.426389</td>\n      <td>754.111104</td>\n    </tr>\n    <tr>\n      <th>3</th>\n      <td>1238438</td>\n      <td>BG001C</td>\n      <td>BG</td>\n      <td>Sofia</td>\n      <td>23.321736</td>\n      <td>42.697703</td>\n      <td>2.596164e+06</td>\n      <td>5.266072e+06</td>\n      <td>Europe/Sofia</td>\n      <td>2.0</td>\n      <td>6.678264</td>\n      <td>534.261128</td>\n    </tr>\n    <tr>\n      <th>4</th>\n      <td>345213</td>\n      <td>BG002C</td>\n      <td>BG</td>\n      <td>Plovdiv</td>\n      <td>24.749930</td>\n      <td>42.141854</td>\n      <td>2.755150e+06</td>\n      <td>5.182252e+06</td>\n      <td>Europe/Sofia</td>\n      <td>2.0</td>\n      <td>5.250070</td>\n      <td>420.005624</td>\n    </tr>\n  </tbody>\n</table>\n</div>"
     },
     "execution_count": 4,
     "metadata": {},
     "output_type": "execute_result"
    }
   ],
   "source": [
    "top_city_data.head()"
   ],
   "metadata": {
    "collapsed": false,
    "pycharm": {
     "name": "#%%\n"
    }
   }
  },
  {
   "cell_type": "code",
   "execution_count": 5,
   "outputs": [
    {
     "data": {
      "text/plain": "       capital  day  month  year  sunrise_UTC  sunset_UTC  \\\niso_a3                                                      \nAUT     Vienna    1      1  2022            6          15   \nAUT     Vienna    2      1  2022            6          15   \nAUT     Vienna    3      1  2022            6          15   \nAUT     Vienna    4      1  2022            6          15   \nAUT     Vienna    5      1  2022            6          15   \n\n                                                 geometry  \niso_a3                                                     \nAUT     POLYGON ((1890167.860 6127424.985, 1881717.299...  \nAUT     POLYGON ((1890167.860 6127424.985, 1881717.299...  \nAUT     POLYGON ((1890167.860 6127424.985, 1881717.299...  \nAUT     POLYGON ((1890167.860 6127424.985, 1881717.299...  \nAUT     POLYGON ((1890167.860 6127424.985, 1881717.299...  ",
      "text/html": "<div>\n<style scoped>\n    .dataframe tbody tr th:only-of-type {\n        vertical-align: middle;\n    }\n\n    .dataframe tbody tr th {\n        vertical-align: top;\n    }\n\n    .dataframe thead th {\n        text-align: right;\n    }\n</style>\n<table border=\"1\" class=\"dataframe\">\n  <thead>\n    <tr style=\"text-align: right;\">\n      <th></th>\n      <th>capital</th>\n      <th>day</th>\n      <th>month</th>\n      <th>year</th>\n      <th>sunrise_UTC</th>\n      <th>sunset_UTC</th>\n      <th>geometry</th>\n    </tr>\n    <tr>\n      <th>iso_a3</th>\n      <th></th>\n      <th></th>\n      <th></th>\n      <th></th>\n      <th></th>\n      <th></th>\n      <th></th>\n    </tr>\n  </thead>\n  <tbody>\n    <tr>\n      <th>AUT</th>\n      <td>Vienna</td>\n      <td>1</td>\n      <td>1</td>\n      <td>2022</td>\n      <td>6</td>\n      <td>15</td>\n      <td>POLYGON ((1890167.860 6127424.985, 1881717.299...</td>\n    </tr>\n    <tr>\n      <th>AUT</th>\n      <td>Vienna</td>\n      <td>2</td>\n      <td>1</td>\n      <td>2022</td>\n      <td>6</td>\n      <td>15</td>\n      <td>POLYGON ((1890167.860 6127424.985, 1881717.299...</td>\n    </tr>\n    <tr>\n      <th>AUT</th>\n      <td>Vienna</td>\n      <td>3</td>\n      <td>1</td>\n      <td>2022</td>\n      <td>6</td>\n      <td>15</td>\n      <td>POLYGON ((1890167.860 6127424.985, 1881717.299...</td>\n    </tr>\n    <tr>\n      <th>AUT</th>\n      <td>Vienna</td>\n      <td>4</td>\n      <td>1</td>\n      <td>2022</td>\n      <td>6</td>\n      <td>15</td>\n      <td>POLYGON ((1890167.860 6127424.985, 1881717.299...</td>\n    </tr>\n    <tr>\n      <th>AUT</th>\n      <td>Vienna</td>\n      <td>5</td>\n      <td>1</td>\n      <td>2022</td>\n      <td>6</td>\n      <td>15</td>\n      <td>POLYGON ((1890167.860 6127424.985, 1881717.299...</td>\n    </tr>\n  </tbody>\n</table>\n</div>"
     },
     "execution_count": 5,
     "metadata": {},
     "output_type": "execute_result"
    }
   ],
   "source": [
    "sun_data_gpd.head()"
   ],
   "metadata": {
    "collapsed": false,
    "pycharm": {
     "name": "#%%\n"
    }
   }
  },
  {
   "cell_type": "markdown",
   "source": [
    "### Generate top n cities per country with timezone features"
   ],
   "metadata": {
    "collapsed": false,
    "pycharm": {
     "name": "#%% md\n"
    }
   }
  },
  {
   "cell_type": "markdown",
   "source": [
    "## Interactive visualization with Panel/Bokeh"
   ],
   "metadata": {
    "collapsed": false,
    "pycharm": {
     "name": "#%% md\n"
    }
   }
  },
  {
   "cell_type": "code",
   "execution_count": 7,
   "outputs": [],
   "source": [
    "from bokeh.plotting import figure\n",
    "from bokeh.models import GeoJSONDataSource, LinearColorMapper, ColorBar, ColumnDataSource, LabelSet, HoverTool\n",
    "from bokeh.tile_providers import get_provider, Vendors\n",
    "from bokeh.palettes import Plasma256\n",
    "from bokeh.palettes import brewer\n",
    "import json\n",
    "import panel as pn\n",
    "from datetime import datetime, date\n",
    "import numpy as np\n",
    "\n",
    "data_field = 'sunrise_UTC'\n",
    "bokeh_tools = 'wheel_zoom, pan, box_zoom, reset'\n",
    "colorbar_settings = {'title_text_font_size':'12pt','label_standoff':12}\n",
    "\n",
    "def get_bokeh_geodata_source(gpd_df):\n",
    "    json_data = json.dumps(json.loads(gpd_df.to_json()))\n",
    "    return GeoJSONDataSource(geojson = json_data)\n",
    "\n",
    "def bokeh_plot_map(data):\n",
    "    p = figure(toolbar_location='right', tools=bokeh_tools, active_scroll =\"wheel_zoom\",\n",
    "               title=\"Distance to eastern timezone meridian for large EU cities\",\n",
    "               x_range=(top_city_data['mercantor_x'].min(),top_city_data['mercantor_x'].max()))\n",
    "    p.title.text_font_size = '20px'\n",
    "    p.xgrid.grid_line_color = None\n",
    "    p.ygrid.grid_line_color = None\n",
    "\n",
    "    # AD MAP TILES ---------------------------------------------------------------------------\n",
    "    p.add_tile(Vendors.CARTODBPOSITRON_RETINA)\n",
    "\n",
    "    # ADD GEO STUFF FOR COUNTRIES AS A WHOLE -------------------------------------------------\n",
    "    geo_data_source = get_bokeh_geodata_source(data)\n",
    "\n",
    "    values = data[data_field]\n",
    "    palette = brewer['OrRd'][8]\n",
    "    palette = palette[::-1]\n",
    "    #Instantiate LinearColorMapper that linearly maps numbers in a range, into a sequence of colors.\n",
    "    color_mapper = LinearColorMapper(palette = palette, low = values.min(), high = values.max())\n",
    "    color_bar = ColorBar(color_mapper=color_mapper, location=(0,0), title='Sunrise (UTC)', **colorbar_settings)\n",
    "    country_suntimes = p.patches('xs','ys', source=geo_data_source,\n",
    "            fill_color={'field': data_field, 'transform': color_mapper},\n",
    "            line_color='blue',\n",
    "            line_width=0.5,\n",
    "            fill_alpha=0.8)\n",
    "    p.add_layout(color_bar, 'below')\n",
    "\n",
    "      # TOOLTIPS FOR COUNTRY PATCHES\n",
    "    tooltips_country = [\n",
    "        ('Country', '@iso_a3'),\n",
    "        ('Sunrise (UTC)', '@sunrise_UTC'),\n",
    "        ('Sunset (UTC)', '@sunset_UTC')\n",
    "    ]\n",
    "    p.add_tools(HoverTool(renderers=[country_suntimes], tooltips=tooltips_country))\n",
    "\n",
    "    # ===================================================================================================================\n",
    "\n",
    "    #ADD BARS FOR DISTANCE TO EAST MERIDIAN EFFECT\n",
    "    length_scale = 200000\n",
    "    bar_data_source = ColumnDataSource(dict(\n",
    "            x0=avg_country_data['mercantor_x'],\n",
    "            y0=avg_country_data['mercantor_y'],\n",
    "            x1=avg_country_data['mercantor_x'] + (length_scale *  avg_country_data['norm_weighted_mean_longdiff']) * np.sign(avg_country_data['weighted_mean_longdiff']),\n",
    "            y1=avg_country_data['mercantor_y']\n",
    "        )\n",
    "    )\n",
    "    divider_len = 50000\n",
    "    divider_data_source = ColumnDataSource(dict(\n",
    "            x0=avg_country_data['mercantor_x'],\n",
    "            y0=avg_country_data['mercantor_y'] - divider_len / 2,\n",
    "            x1=avg_country_data['mercantor_x'],\n",
    "            y1=avg_country_data['mercantor_y'] + divider_len / 2,\n",
    "            text=avg_country_data['name'],\n",
    "            text_y=(avg_country_data['mercantor_y'] + divider_len / 2) + 1000\n",
    "    ))\n",
    "    longdiff_quads = p.segment(x0=\"x0\", y0=\"y0\", x1=\"x1\", y1=\"y1\", line_width=5, source=bar_data_source)\n",
    "    londiff_diviers = p.segment(x0=\"x0\", y0=\"y0\", x1=\"x1\", y1=\"y1\", line_width=2, source=divider_data_source)\n",
    "    longdiff_label = p.text(x=\"x0\",y=\"text_y\", text=\"text\", source=divider_data_source)\n",
    "\n",
    "    # TOOLTIPS FOR CITY DATA\n",
    "    tooltips_city = [\n",
    "        ('Country', '@iso_a2'),\n",
    "        ('City', '@NAME'),\n",
    "        ('Relative position (dist) to timezone border', '@longitudinal_diff_km')\n",
    "    ]\n",
    "    p.add_tools(HoverTool(renderers=[longdiff_quads, londiff_diviers], tooltips=tooltips_city, name='test'))\n",
    "    return p"
   ],
   "metadata": {
    "collapsed": false,
    "pycharm": {
     "name": "#%%\n"
    }
   }
  },
  {
   "cell_type": "code",
   "execution_count": 8,
   "outputs": [],
   "source": [
    "from bokeh.models import DataTable, TableColumn\n",
    "\n",
    "def bokeh_country_table(country_data):\n",
    "    country_data_sorted = country_data.sort_values('weighted_mean_longdiff', ascending=False)\n",
    "    source = ColumnDataSource(country_data_sorted)\n",
    "    columns = [\n",
    "        TableColumn(field='name', title='Country Name'),\n",
    "        TableColumn(field=\"iso_a2\",title=\"Country Code (ISO_A2)\"),\n",
    "        TableColumn(field=\"social_timezone\", title=\"Social Timezone\"),\n",
    "        TableColumn(field=\"weighted_mean_longdiff\", title=\"Weighted (pop.size) avg. dist. to east meridian (km)\"),\n",
    "        TableColumn(field=\"pop_est\", title=\"Estimated population\")\n",
    "    ]\n",
    "    data_table = DataTable(source=source, columns=columns)\n",
    "    return data_table"
   ],
   "metadata": {
    "collapsed": false,
    "pycharm": {
     "name": "#%%\n"
    }
   }
  },
  {
   "cell_type": "code",
   "execution_count": 9,
   "outputs": [],
   "source": [
    "def bokeh_sun_table(sun_data):\n",
    "    source = ColumnDataSource(sun_data)\n",
    "\n",
    "    # Add data table\n",
    "    columns = [\n",
    "        TableColumn(field=\"iso_a3\", title=\"Country Code (ISO_A3)\"),\n",
    "        TableColumn(field=\"year\", title=\"Year\"),\n",
    "        TableColumn(field=\"month\", title=\"Month\"),\n",
    "        TableColumn(field=\"day\", title=\"Day\"),\n",
    "        TableColumn(field=\"sunrise_UTC\", title=\"Sunrise (UTC/GMT)\"),\n",
    "        TableColumn(field=\"sunset_UTC\", title=\"Sunrise (UTC/GMT)\")\n",
    "    ]\n",
    "    data_table = DataTable(source=source, columns=columns)\n",
    "    return data_table"
   ],
   "metadata": {
    "collapsed": false,
    "pycharm": {
     "name": "#%%\n"
    }
   }
  },
  {
   "cell_type": "code",
   "execution_count": 11,
   "outputs": [],
   "source": [
    "def map_visualization():\n",
    "    # CREATE MAP  ----------------------------------------------------------------------------------\n",
    "    # Create Map Panel\n",
    "    map_pane = pn.pane.Bokeh(sizing_mode='scale_both', width_policy='max')\n",
    "    start_date = date(2022,1,1)\n",
    "    end_date = date(2022,12,31)\n",
    "    selected_date = pn.widgets.DateSlider(name='Date Slider', value=start_date, start=start_date, end=end_date)\n",
    "    def update_map(event):\n",
    "        d = selected_date.value\n",
    "        selected_sundata = sun_data_gpd.query(f'day == {d.day} & month == {d.month} & year == {d.year}')\n",
    "        map_pane.object = bokeh_plot_map(selected_sundata)\n",
    "    selected_date.param.watch(update_map, 'value')\n",
    "    selected_date.param.trigger('value')\n",
    "\n",
    "    # CREATE DATATABLES ----------------------------------------------------------------------------------\n",
    "    sizing_dict = dict(sizing_mode='stretch_both', width_policy='auto', margin=10)\n",
    "    # Create City Table Panel\n",
    "    country_data_pane = pn.pane.Bokeh(**sizing_dict)\n",
    "    country_data_pane.object = bokeh_country_table(avg_country_data)\n",
    "\n",
    "    # Create Sun Table Panel\n",
    "    sun_data_pane = pn.pane.Bokeh(**sizing_dict)\n",
    "    sun_data_pane.object = bokeh_sun_table(sun_data_gpd.iloc[:,:-1])\n",
    "\n",
    "    # Create panel application layout\n",
    "    map_vis = pn.Column(selected_date, map_pane)\n",
    "    tabs = pn.Tabs(('Map', map_vis), ('Country Data', country_data_pane), ('Sun Data', sun_data_pane))\n",
    "    return tabs\n",
    "\n",
    "app = map_visualization()"
   ],
   "metadata": {
    "collapsed": false,
    "pycharm": {
     "name": "#%%\n"
    }
   }
  },
  {
   "cell_type": "code",
   "execution_count": 12,
   "outputs": [
    {
     "name": "stdout",
     "output_type": "stream",
     "text": [
      "Launching server at http://localhost:1638\n"
     ]
    },
    {
     "data": {
      "text/plain": "<panel.io.server.Server at 0x252a175dd90>"
     },
     "execution_count": 12,
     "metadata": {},
     "output_type": "execute_result"
    }
   ],
   "source": [
    "app.show()"
   ],
   "metadata": {
    "collapsed": false,
    "pycharm": {
     "name": "#%%\n"
    }
   }
  }
 ],
 "metadata": {
  "kernelspec": {
   "display_name": "Python 3",
   "language": "python",
   "name": "python3"
  },
  "language_info": {
   "codemirror_mode": {
    "name": "ipython",
    "version": 2
   },
   "file_extension": ".py",
   "mimetype": "text/x-python",
   "name": "python",
   "nbconvert_exporter": "python",
   "pygments_lexer": "ipython2",
   "version": "2.7.6"
  }
 },
 "nbformat": 4,
 "nbformat_minor": 0
}