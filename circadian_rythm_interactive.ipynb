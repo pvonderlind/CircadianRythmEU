{
 "cells": [
  {
   "cell_type": "markdown",
   "source": [
    "# Interactive Visualization of Daytimes and Workingtimes in Europe"
   ],
   "metadata": {
    "collapsed": false,
    "pycharm": {
     "name": "#%% md\n"
    }
   }
  },
  {
   "cell_type": "markdown",
   "source": [
    "## Data"
   ],
   "metadata": {
    "collapsed": false,
    "pycharm": {
     "name": "#%% md\n"
    }
   }
  },
  {
   "cell_type": "code",
   "execution_count": 2,
   "outputs": [],
   "source": [
    "import pandas as pd\n",
    "\n",
    "RELOAD_DATA = False\n",
    "eu_data_path = 'datasets/saved/eu_gpd.csv'\n",
    "city_data_path = 'datasets/saved/city_data.csv'"
   ],
   "metadata": {
    "collapsed": false,
    "pycharm": {
     "name": "#%%\n"
    }
   }
  },
  {
   "cell_type": "markdown",
   "source": [
    "### EU countries to capitals and GeoPandas data"
   ],
   "metadata": {
    "collapsed": false,
    "pycharm": {
     "name": "#%% md\n"
    }
   }
  },
  {
   "cell_type": "code",
   "execution_count": 3,
   "outputs": [
    {
     "name": "stdout",
     "output_type": "stream",
     "text": [
      "Generating data ...\n"
     ]
    }
   ],
   "source": [
    "from src.geo_utils import load_eu_countries_as_geopandas, get_eu_capitals, get_eu_city_data\n",
    "\n",
    "if RELOAD_DATA:\n",
    "    print('Reloading data from datasets/saved folder ...')\n",
    "    eu_gpd = pd.read_csv(eu_data_path)\n",
    "    top_city_data = pd.read_csv(city_data_path)\n",
    "else:\n",
    "    print('Generating data ...')\n",
    "    eu_gpd = load_eu_countries_as_geopandas()\n",
    "    eu_gpd.to_csv(eu_data_path, index=False)\n",
    "\n",
    "    top_city_data = get_eu_city_data(3)\n",
    "    top_city_data.to_csv(city_data_path, index=False)\n",
    "\n",
    "eu_capitals = get_eu_capitals()\n",
    "eu_iso_to_geo = eu_gpd.loc[:, ['iso_a3', 'geometry']]"
   ],
   "metadata": {
    "collapsed": false,
    "pycharm": {
     "name": "#%%\n"
    }
   }
  },
  {
   "cell_type": "code",
   "execution_count": 4,
   "outputs": [
    {
     "data": {
      "text/plain": "        pop_est continent     name iso_a3  gdp_md_est  \\\n21    5347896.0    Europe   Norway    NOR      403336   \n43   67059887.0    Europe   France    FRA     2715518   \n110  10285453.0    Europe   Sweden    SWE      530883   \n111   9466856.0    Europe  Belarus    BLR       63080   \n112  44385155.0    Europe  Ukraine    UKR      153781   \n\n                                              geometry  \n21   MULTIPOLYGON (((15.14282 79.67431, 15.52255 80...  \n43   MULTIPOLYGON (((-51.65780 4.15623, -52.24934 3...  \n110  POLYGON ((11.02737 58.85615, 11.46827 59.43239...  \n111  POLYGON ((28.17671 56.16913, 29.22951 55.91834...  \n112  POLYGON ((32.15944 52.06125, 32.41206 52.28869...  ",
      "text/html": "<div>\n<style scoped>\n    .dataframe tbody tr th:only-of-type {\n        vertical-align: middle;\n    }\n\n    .dataframe tbody tr th {\n        vertical-align: top;\n    }\n\n    .dataframe thead th {\n        text-align: right;\n    }\n</style>\n<table border=\"1\" class=\"dataframe\">\n  <thead>\n    <tr style=\"text-align: right;\">\n      <th></th>\n      <th>pop_est</th>\n      <th>continent</th>\n      <th>name</th>\n      <th>iso_a3</th>\n      <th>gdp_md_est</th>\n      <th>geometry</th>\n    </tr>\n  </thead>\n  <tbody>\n    <tr>\n      <th>21</th>\n      <td>5347896.0</td>\n      <td>Europe</td>\n      <td>Norway</td>\n      <td>NOR</td>\n      <td>403336</td>\n      <td>MULTIPOLYGON (((15.14282 79.67431, 15.52255 80...</td>\n    </tr>\n    <tr>\n      <th>43</th>\n      <td>67059887.0</td>\n      <td>Europe</td>\n      <td>France</td>\n      <td>FRA</td>\n      <td>2715518</td>\n      <td>MULTIPOLYGON (((-51.65780 4.15623, -52.24934 3...</td>\n    </tr>\n    <tr>\n      <th>110</th>\n      <td>10285453.0</td>\n      <td>Europe</td>\n      <td>Sweden</td>\n      <td>SWE</td>\n      <td>530883</td>\n      <td>POLYGON ((11.02737 58.85615, 11.46827 59.43239...</td>\n    </tr>\n    <tr>\n      <th>111</th>\n      <td>9466856.0</td>\n      <td>Europe</td>\n      <td>Belarus</td>\n      <td>BLR</td>\n      <td>63080</td>\n      <td>POLYGON ((28.17671 56.16913, 29.22951 55.91834...</td>\n    </tr>\n    <tr>\n      <th>112</th>\n      <td>44385155.0</td>\n      <td>Europe</td>\n      <td>Ukraine</td>\n      <td>UKR</td>\n      <td>153781</td>\n      <td>POLYGON ((32.15944 52.06125, 32.41206 52.28869...</td>\n    </tr>\n  </tbody>\n</table>\n</div>"
     },
     "execution_count": 4,
     "metadata": {},
     "output_type": "execute_result"
    }
   ],
   "source": [
    "eu_gpd.head()"
   ],
   "metadata": {
    "collapsed": false,
    "pycharm": {
     "name": "#%%\n"
    }
   }
  },
  {
   "cell_type": "code",
   "execution_count": 5,
   "outputs": [
    {
     "data": {
      "text/plain": "   population    CODE country_ISO_A2               NAME  longitude   latitude  \\\n0     1205492  BE001C             BE  Bruxelles/Brussel   4.351697  50.846557   \n1      523591  BE002C             BE          Antwerpen   4.399708  51.221110   \n2      383710  BE005C             BE              Liège   5.573611  50.645094   \n3     1238438  BG001C             BG              Sofia  23.321736  42.697703   \n4      345213  BG002C             BG            Plovdiv  24.749930  42.141854   \n\n    mercantor_x   mercantor_y  social_timezone  utc_sun_timezone_offset  \\\n0  4.844287e+05  6.594196e+06  Europe/Brussels                      1.0   \n1  4.897733e+05  6.660499e+06  Europe/Brussels                      1.0   \n2  6.204516e+05  6.558754e+06  Europe/Brussels                      1.0   \n3  2.596164e+06  5.266072e+06     Europe/Sofia                      2.0   \n4  2.755150e+06  5.182252e+06     Europe/Sofia                      2.0   \n\n   longitudinal_diff  longitudinal_diff_km  \n0          10.648303            851.864240  \n1          10.600292            848.023352  \n2           9.426389            754.111104  \n3           6.678264            534.261128  \n4           5.250070            420.005624  ",
      "text/html": "<div>\n<style scoped>\n    .dataframe tbody tr th:only-of-type {\n        vertical-align: middle;\n    }\n\n    .dataframe tbody tr th {\n        vertical-align: top;\n    }\n\n    .dataframe thead th {\n        text-align: right;\n    }\n</style>\n<table border=\"1\" class=\"dataframe\">\n  <thead>\n    <tr style=\"text-align: right;\">\n      <th></th>\n      <th>population</th>\n      <th>CODE</th>\n      <th>country_ISO_A2</th>\n      <th>NAME</th>\n      <th>longitude</th>\n      <th>latitude</th>\n      <th>mercantor_x</th>\n      <th>mercantor_y</th>\n      <th>social_timezone</th>\n      <th>utc_sun_timezone_offset</th>\n      <th>longitudinal_diff</th>\n      <th>longitudinal_diff_km</th>\n    </tr>\n  </thead>\n  <tbody>\n    <tr>\n      <th>0</th>\n      <td>1205492</td>\n      <td>BE001C</td>\n      <td>BE</td>\n      <td>Bruxelles/Brussel</td>\n      <td>4.351697</td>\n      <td>50.846557</td>\n      <td>4.844287e+05</td>\n      <td>6.594196e+06</td>\n      <td>Europe/Brussels</td>\n      <td>1.0</td>\n      <td>10.648303</td>\n      <td>851.864240</td>\n    </tr>\n    <tr>\n      <th>1</th>\n      <td>523591</td>\n      <td>BE002C</td>\n      <td>BE</td>\n      <td>Antwerpen</td>\n      <td>4.399708</td>\n      <td>51.221110</td>\n      <td>4.897733e+05</td>\n      <td>6.660499e+06</td>\n      <td>Europe/Brussels</td>\n      <td>1.0</td>\n      <td>10.600292</td>\n      <td>848.023352</td>\n    </tr>\n    <tr>\n      <th>2</th>\n      <td>383710</td>\n      <td>BE005C</td>\n      <td>BE</td>\n      <td>Liège</td>\n      <td>5.573611</td>\n      <td>50.645094</td>\n      <td>6.204516e+05</td>\n      <td>6.558754e+06</td>\n      <td>Europe/Brussels</td>\n      <td>1.0</td>\n      <td>9.426389</td>\n      <td>754.111104</td>\n    </tr>\n    <tr>\n      <th>3</th>\n      <td>1238438</td>\n      <td>BG001C</td>\n      <td>BG</td>\n      <td>Sofia</td>\n      <td>23.321736</td>\n      <td>42.697703</td>\n      <td>2.596164e+06</td>\n      <td>5.266072e+06</td>\n      <td>Europe/Sofia</td>\n      <td>2.0</td>\n      <td>6.678264</td>\n      <td>534.261128</td>\n    </tr>\n    <tr>\n      <th>4</th>\n      <td>345213</td>\n      <td>BG002C</td>\n      <td>BG</td>\n      <td>Plovdiv</td>\n      <td>24.749930</td>\n      <td>42.141854</td>\n      <td>2.755150e+06</td>\n      <td>5.182252e+06</td>\n      <td>Europe/Sofia</td>\n      <td>2.0</td>\n      <td>5.250070</td>\n      <td>420.005624</td>\n    </tr>\n  </tbody>\n</table>\n</div>"
     },
     "execution_count": 5,
     "metadata": {},
     "output_type": "execute_result"
    }
   ],
   "source": [
    "top_city_data.head()"
   ],
   "metadata": {
    "collapsed": false,
    "pycharm": {
     "name": "#%%\n"
    }
   }
  },
  {
   "cell_type": "markdown",
   "source": [
    "### Generate top n cities per country with timezone features"
   ],
   "metadata": {
    "collapsed": false,
    "pycharm": {
     "name": "#%% md\n"
    }
   }
  },
  {
   "cell_type": "markdown",
   "source": [
    "### Sunrise/Sunset (UTC) for the year 2022"
   ],
   "metadata": {
    "collapsed": false,
    "pycharm": {
     "name": "#%% md\n"
    }
   }
  },
  {
   "cell_type": "code",
   "execution_count": 6,
   "outputs": [
    {
     "name": "stdout",
     "output_type": "stream",
     "text": [
      "Could not process day 2022-06-16 00:00:00\n"
     ]
    }
   ],
   "source": [
    "from src.sun_data import get_sunset_sunrise_data\n",
    "sun_data_df = get_sunset_sunrise_data(year=2022, country_capital=eu_capitals)"
   ],
   "metadata": {
    "collapsed": false,
    "pycharm": {
     "name": "#%%\n"
    }
   }
  },
  {
   "cell_type": "code",
   "execution_count": 7,
   "outputs": [],
   "source": [
    "import geopandas as gpd\n",
    "sun_data_gpd = gpd.GeoDataFrame(sun_data_df.merge(eu_iso_to_geo, on='iso_a3', how='left').set_index('iso_a3'))"
   ],
   "metadata": {
    "collapsed": false,
    "pycharm": {
     "name": "#%%\n"
    }
   }
  },
  {
   "cell_type": "markdown",
   "source": [
    "## Interactive visualization with Panel/Bokeh"
   ],
   "metadata": {
    "collapsed": false,
    "pycharm": {
     "name": "#%% md\n"
    }
   }
  },
  {
   "cell_type": "code",
   "execution_count": 82,
   "outputs": [],
   "source": [
    "from bokeh.plotting import figure\n",
    "from bokeh.models import GeoJSONDataSource, LinearColorMapper, ColorBar, ColumnDataSource, LabelSet\n",
    "from bokeh.tile_providers import get_provider, Vendors\n",
    "from bokeh.palettes import Plasma256\n",
    "from bokeh.palettes import brewer\n",
    "import json\n",
    "import panel as pn\n",
    "from datetime import datetime\n",
    "\n",
    "#data_field = 'sunrise_UTC'\n",
    "bokeh_tools = 'wheel_zoom, pan, hover, box_zoom, reset'\n",
    "\n",
    "def get_bokeh_geodata_source(gpd_df):\n",
    "    json_data = json.dumps(json.loads(gpd_df.to_json()))\n",
    "    return GeoJSONDataSource(geojson = json_data)\n",
    "\n",
    "def bokeh_plot_map(data):\n",
    "    tooltips = [\n",
    "        ('Country', '@country_ISO_A2'),\n",
    "        ('City', '@NAME'),\n",
    "        ('Relative position (dist) to timezone border', '@longitudinal_diff_km')\n",
    "    ]\n",
    "    p = figure(toolbar_location='right', tools=bokeh_tools, tooltips=tooltips, active_scroll =\"wheel_zoom\",\n",
    "               title=\"Distance to eastern timezone meridian for large EU cities\")\n",
    "    p.xgrid.grid_line_color = None\n",
    "    p.ygrid.grid_line_color = None\n",
    "\n",
    "    # ADD GEO STUFF FOR COUNTRIES AS A WHOLE -------------------------------------------------\n",
    "    # geo_data_source = get_bokeh_geodata_source(data)\n",
    "    #\n",
    "    # values = data[data_field]\n",
    "    # palette = brewer['OrRd'][8]\n",
    "    # palette = palette[::-1]\n",
    "    # #Instantiate LinearColorMapper that linearly maps numbers in a range, into a sequence of colors.\n",
    "    # color_mapper = LinearColorMapper(palette = palette, low = values.min(), high = values.max())\n",
    "    # color_bar = ColorBar(color_mapper=color_mapper, label_standoff=8, width=500, height=20,\n",
    "    #                      location=(0,0), orientation='horizontal')\n",
    "    #  # p.patches('xs','ys', source=geo_data_source,\n",
    "    # #           fill_color={'field': data_field, 'transform': color_mapper},\n",
    "    #           line_color='blue',\n",
    "    #           line_width=0.5,\n",
    "    #           fill_alpha=0.8)\n",
    "    #     p.add_layout(color_bar, 'below')\n",
    "\n",
    "\n",
    "\n",
    "    # AD MAP TILES ---------------------------------------------------------------------------\n",
    "    world_tile = get_provider(Vendors.STAMEN_TONER_BACKGROUND)\n",
    "\n",
    "    # ADD TIMEZONE INFO PER TOP N CITIES FOR EACH COUNTRY ------------------------------------\n",
    "\n",
    "    city_data_source = ColumnDataSource(data=top_city_data)\n",
    "    city_color_mapper = LinearColorMapper(palette=Plasma256,\n",
    "                                          low=top_city_data['longitudinal_diff_km'].min(),\n",
    "                                          high=top_city_data['longitudinal_diff_km'].max())\n",
    "    city_color_bar = ColorBar(color_mapper=city_color_mapper, label_standoff=8, width=500, height=20,\n",
    "                     location=(0,0), orientation='horizontal')\n",
    "    p.circle(x='mercantor_x', y='mercantor_y', source=city_data_source,\n",
    "             color={'field': 'longitudinal_diff_km', 'transform': city_color_mapper}, size=10, fill_alpha=1)\n",
    "    labels = LabelSet(x='mercantor_x', y='mercantor_y', x_offset=5, y_offset=5, text='NAME', source=city_data_source, text_color='cornflowerblue')\n",
    "    p.add_layout(labels)\n",
    "    p.add_layout(city_color_bar, 'below')\n",
    "    p.add_tile(world_tile)\n",
    "    return p"
   ],
   "metadata": {
    "collapsed": false,
    "pycharm": {
     "name": "#%%\n"
    }
   }
  },
  {
   "cell_type": "code",
   "execution_count": 83,
   "outputs": [
    {
     "name": "stdout",
     "output_type": "stream",
     "text": [
      "Launching server at http://localhost:5532\n"
     ]
    },
    {
     "data": {
      "text/plain": "<panel.io.server.Server at 0x2c069d78070>"
     },
     "execution_count": 83,
     "metadata": {},
     "output_type": "execute_result"
    }
   ],
   "source": [
    "def map_visualization():\n",
    "    map_pane = pn.pane.Bokeh(width=1000, height=1000)\n",
    "    default_date = datetime.strptime('2022-01-01', '%Y-%m-%d').date()\n",
    "    selected_date = pn.widgets.DatePicker(name='Date Picker', value=default_date)\n",
    "    def update_map(event):\n",
    "        d = selected_date.value\n",
    "        selected_sundata = sun_data_gpd.query(f'day == {d.day} & month == {d.month} & year == {d.year}')\n",
    "        map_pane.object = bokeh_plot_map(selected_sundata)\n",
    "    selected_date.param.watch(update_map, 'value')\n",
    "    selected_date.param.trigger('value')\n",
    "    return pn.Column(selected_date, map_pane)\n",
    "\n",
    "app = map_visualization()\n",
    "app.show()"
   ],
   "metadata": {
    "collapsed": false,
    "pycharm": {
     "name": "#%%\n"
    }
   }
  }
 ],
 "metadata": {
  "kernelspec": {
   "display_name": "Python 3",
   "language": "python",
   "name": "python3"
  },
  "language_info": {
   "codemirror_mode": {
    "name": "ipython",
    "version": 2
   },
   "file_extension": ".py",
   "mimetype": "text/x-python",
   "name": "python",
   "nbconvert_exporter": "python",
   "pygments_lexer": "ipython2",
   "version": "2.7.6"
  }
 },
 "nbformat": 4,
 "nbformat_minor": 0
}