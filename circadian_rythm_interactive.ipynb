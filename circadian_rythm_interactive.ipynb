{
 "cells": [
  {
   "cell_type": "markdown",
   "source": [
    "# Interactive Visualization of Daytimes and Workingtimes in Europe"
   ],
   "metadata": {
    "collapsed": false,
    "pycharm": {
     "name": "#%% md\n"
    }
   }
  },
  {
   "cell_type": "markdown",
   "source": [
    "## Data"
   ],
   "metadata": {
    "collapsed": false,
    "pycharm": {
     "name": "#%% md\n"
    }
   }
  },
  {
   "cell_type": "code",
   "execution_count": 13,
   "outputs": [],
   "source": [
    "import pandas as pd\n",
    "import geopandas as gpd\n",
    "\n",
    "RELOAD_DATA = True\n",
    "eu_data_path = 'datasets/saved/eu_gpd.geojson'\n",
    "city_data_path = 'datasets/saved/city_data.csv'\n",
    "sunset_data = 'datasets/saved/sunset_data_2022.geojson'\n",
    "avg_country_data_path = 'datasets/saved/avg_country.csv'"
   ],
   "metadata": {
    "collapsed": false,
    "pycharm": {
     "name": "#%%\n"
    }
   }
  },
  {
   "cell_type": "markdown",
   "source": [
    "### EU countries to capitals and GeoPandas data"
   ],
   "metadata": {
    "collapsed": false,
    "pycharm": {
     "name": "#%% md\n"
    }
   }
  },
  {
   "cell_type": "code",
   "execution_count": 3,
   "outputs": [],
   "source": [
    "from sun_data import get_sunset_sunrise_data\n",
    "from geo_utils import load_eu_countries_as_geopandas, get_eu_city_data, get_avg_country_data"
   ],
   "metadata": {
    "collapsed": false,
    "pycharm": {
     "name": "#%%\n"
    }
   }
  },
  {
   "cell_type": "code",
   "execution_count": 4,
   "outputs": [
    {
     "name": "stdout",
     "output_type": "stream",
     "text": [
      "Generating data ...\n"
     ]
    },
    {
     "name": "stderr",
     "output_type": "stream",
     "text": [
      "C:\\Users\\phili\\PycharmProjects\\CircadianRythmEU\\geo_utils.py:30: FutureWarning: The geopandas.dataset module is deprecated and will be removed in GeoPandas 1.0. You can get the original 'naturalearth_lowres' data from https://www.naturalearthdata.com/downloads/110m-cultural-vectors/.\n",
      "  world = gpd.read_file(gpd.datasets.get_path('naturalearth_lowres'))\n",
      "C:\\Users\\phili\\miniconda3\\envs\\circadian_rythm\\Lib\\site-packages\\geopandas\\geodataframe.py:1538: SettingWithCopyWarning: \n",
      "A value is trying to be set on a copy of a slice from a DataFrame.\n",
      "Try using .loc[row_indexer,col_indexer] = value instead\n",
      "\n",
      "See the caveats in the documentation: https://pandas.pydata.org/pandas-docs/stable/user_guide/indexing.html#returning-a-view-versus-a-copy\n",
      "  super().__setitem__(key, value)\n",
      "C:\\Users\\phili\\PycharmProjects\\CircadianRythmEU\\geo_utils.py:30: FutureWarning: The geopandas.dataset module is deprecated and will be removed in GeoPandas 1.0. You can get the original 'naturalearth_lowres' data from https://www.naturalearthdata.com/downloads/110m-cultural-vectors/.\n",
      "  world = gpd.read_file(gpd.datasets.get_path('naturalearth_lowres'))\n",
      "C:\\Users\\phili\\miniconda3\\envs\\circadian_rythm\\Lib\\site-packages\\geopandas\\geodataframe.py:1538: SettingWithCopyWarning: \n",
      "A value is trying to be set on a copy of a slice from a DataFrame.\n",
      "Try using .loc[row_indexer,col_indexer] = value instead\n",
      "\n",
      "See the caveats in the documentation: https://pandas.pydata.org/pandas-docs/stable/user_guide/indexing.html#returning-a-view-versus-a-copy\n",
      "  super().__setitem__(key, value)\n"
     ]
    }
   ],
   "source": [
    "if RELOAD_DATA:\n",
    "    print('Reloading data from datasets/saved folder ...')\n",
    "    eu_gpd = gpd.read_file(eu_data_path)\n",
    "    top_city_data = pd.read_csv(city_data_path)\n",
    "    sun_data_gpd = gpd.read_file(sunset_data)\n",
    "    avg_country_data = pd.read_csv(avg_country_data_path)\n",
    "else:\n",
    "    print('Generating data ...')\n",
    "    top_city_data = get_eu_city_data(3)\n",
    "    top_city_data.to_csv(city_data_path, index=False)\n",
    "\n",
    "    eu_gpd = load_eu_countries_as_geopandas()\n",
    "    eu_gpd.to_file(eu_data_path, driver='GeoJSON', index=False)\n",
    "\n",
    "    avg_country_data = get_avg_country_data(top_city_data, eu_gpd)\n",
    "    avg_country_data.to_csv(avg_country_data_path, index=False)\n",
    "\n",
    "    sun_data_gpd = get_sunset_sunrise_data(year=2022, eu_gpd=eu_gpd, csv_path=sunset_data)"
   ],
   "metadata": {
    "collapsed": false,
    "pycharm": {
     "name": "#%%\n"
    }
   }
  },
  {
   "cell_type": "code",
   "execution_count": 5,
   "outputs": [
    {
     "data": {
      "text/plain": "        pop_est continent     name iso_a3  gdp_md_est  \\\n43   67059887.0    Europe   France    FRA     2715518   \n110  10285453.0    Europe   Sweden    SWE      530883   \n113  37970874.0    Europe   Poland    POL      595858   \n114   8877067.0    Europe  Austria    AUT      445075   \n115   9769949.0    Europe  Hungary    HUN      163469   \n\n                                              geometry iso_a2  \n43   MULTIPOLYGON (((-5750519.703 463075.975, -5816...     FR  \n110  POLYGON ((1227561.058 8149359.996, 1276642.191...     SE  \n113  POLYGON ((2614241.130 7153601.786, 2619073.310...     PL  \n114  POLYGON ((1890167.860 6127424.985, 1881717.299...     AT  \n115  POLYGON ((2458558.676 6177394.292, 2520364.547...     HU  ",
      "text/html": "<div>\n<style scoped>\n    .dataframe tbody tr th:only-of-type {\n        vertical-align: middle;\n    }\n\n    .dataframe tbody tr th {\n        vertical-align: top;\n    }\n\n    .dataframe thead th {\n        text-align: right;\n    }\n</style>\n<table border=\"1\" class=\"dataframe\">\n  <thead>\n    <tr style=\"text-align: right;\">\n      <th></th>\n      <th>pop_est</th>\n      <th>continent</th>\n      <th>name</th>\n      <th>iso_a3</th>\n      <th>gdp_md_est</th>\n      <th>geometry</th>\n      <th>iso_a2</th>\n    </tr>\n  </thead>\n  <tbody>\n    <tr>\n      <th>43</th>\n      <td>67059887.0</td>\n      <td>Europe</td>\n      <td>France</td>\n      <td>FRA</td>\n      <td>2715518</td>\n      <td>MULTIPOLYGON (((-5750519.703 463075.975, -5816...</td>\n      <td>FR</td>\n    </tr>\n    <tr>\n      <th>110</th>\n      <td>10285453.0</td>\n      <td>Europe</td>\n      <td>Sweden</td>\n      <td>SWE</td>\n      <td>530883</td>\n      <td>POLYGON ((1227561.058 8149359.996, 1276642.191...</td>\n      <td>SE</td>\n    </tr>\n    <tr>\n      <th>113</th>\n      <td>37970874.0</td>\n      <td>Europe</td>\n      <td>Poland</td>\n      <td>POL</td>\n      <td>595858</td>\n      <td>POLYGON ((2614241.130 7153601.786, 2619073.310...</td>\n      <td>PL</td>\n    </tr>\n    <tr>\n      <th>114</th>\n      <td>8877067.0</td>\n      <td>Europe</td>\n      <td>Austria</td>\n      <td>AUT</td>\n      <td>445075</td>\n      <td>POLYGON ((1890167.860 6127424.985, 1881717.299...</td>\n      <td>AT</td>\n    </tr>\n    <tr>\n      <th>115</th>\n      <td>9769949.0</td>\n      <td>Europe</td>\n      <td>Hungary</td>\n      <td>HUN</td>\n      <td>163469</td>\n      <td>POLYGON ((2458558.676 6177394.292, 2520364.547...</td>\n      <td>HU</td>\n    </tr>\n  </tbody>\n</table>\n</div>"
     },
     "execution_count": 5,
     "metadata": {},
     "output_type": "execute_result"
    }
   ],
   "source": [
    "eu_gpd.head()"
   ],
   "metadata": {
    "collapsed": false,
    "pycharm": {
     "name": "#%%\n"
    }
   }
  },
  {
   "cell_type": "code",
   "execution_count": 6,
   "outputs": [
    {
     "data": {
      "text/plain": "   population    CODE country_ISO_A2               NAME  longitude   latitude  \\\n0     1766746  AT001C             AT               Wien  16.372504  48.208354   \n1      269997  AT002C             AT               Graz  15.438279  47.070868   \n2      193814  AT003C             AT               Linz  14.286198  48.305908   \n3     1226329  BE001C             BE  Bruxelles/Brussel   4.351697  50.846557   \n4      530627  BE002C             BE          Antwerpen   4.399708  51.221110   \n\n    mercantor_x   mercantor_y social_timezone  utc_sun_timezone_offset  \\\n0  1.822579e+06  6.141588e+06             CET                        1   \n1  1.718581e+06  5.953649e+06             CET                        1   \n2  1.590332e+06  6.157899e+06             CET                        1   \n3  4.844287e+05  6.594196e+06             CET                        1   \n4  4.897733e+05  6.660499e+06             CET                        1   \n\n   longitudinal_diff  longitudinal_diff_km  \n0          -1.372504           -109.800336  \n1          -0.438279            -35.062288  \n2           0.713802             57.104160  \n3          10.648303            851.864240  \n4          10.600292            848.023352  ",
      "text/html": "<div>\n<style scoped>\n    .dataframe tbody tr th:only-of-type {\n        vertical-align: middle;\n    }\n\n    .dataframe tbody tr th {\n        vertical-align: top;\n    }\n\n    .dataframe thead th {\n        text-align: right;\n    }\n</style>\n<table border=\"1\" class=\"dataframe\">\n  <thead>\n    <tr style=\"text-align: right;\">\n      <th></th>\n      <th>population</th>\n      <th>CODE</th>\n      <th>country_ISO_A2</th>\n      <th>NAME</th>\n      <th>longitude</th>\n      <th>latitude</th>\n      <th>mercantor_x</th>\n      <th>mercantor_y</th>\n      <th>social_timezone</th>\n      <th>utc_sun_timezone_offset</th>\n      <th>longitudinal_diff</th>\n      <th>longitudinal_diff_km</th>\n    </tr>\n  </thead>\n  <tbody>\n    <tr>\n      <th>0</th>\n      <td>1766746</td>\n      <td>AT001C</td>\n      <td>AT</td>\n      <td>Wien</td>\n      <td>16.372504</td>\n      <td>48.208354</td>\n      <td>1.822579e+06</td>\n      <td>6.141588e+06</td>\n      <td>CET</td>\n      <td>1</td>\n      <td>-1.372504</td>\n      <td>-109.800336</td>\n    </tr>\n    <tr>\n      <th>1</th>\n      <td>269997</td>\n      <td>AT002C</td>\n      <td>AT</td>\n      <td>Graz</td>\n      <td>15.438279</td>\n      <td>47.070868</td>\n      <td>1.718581e+06</td>\n      <td>5.953649e+06</td>\n      <td>CET</td>\n      <td>1</td>\n      <td>-0.438279</td>\n      <td>-35.062288</td>\n    </tr>\n    <tr>\n      <th>2</th>\n      <td>193814</td>\n      <td>AT003C</td>\n      <td>AT</td>\n      <td>Linz</td>\n      <td>14.286198</td>\n      <td>48.305908</td>\n      <td>1.590332e+06</td>\n      <td>6.157899e+06</td>\n      <td>CET</td>\n      <td>1</td>\n      <td>0.713802</td>\n      <td>57.104160</td>\n    </tr>\n    <tr>\n      <th>3</th>\n      <td>1226329</td>\n      <td>BE001C</td>\n      <td>BE</td>\n      <td>Bruxelles/Brussel</td>\n      <td>4.351697</td>\n      <td>50.846557</td>\n      <td>4.844287e+05</td>\n      <td>6.594196e+06</td>\n      <td>CET</td>\n      <td>1</td>\n      <td>10.648303</td>\n      <td>851.864240</td>\n    </tr>\n    <tr>\n      <th>4</th>\n      <td>530627</td>\n      <td>BE002C</td>\n      <td>BE</td>\n      <td>Antwerpen</td>\n      <td>4.399708</td>\n      <td>51.221110</td>\n      <td>4.897733e+05</td>\n      <td>6.660499e+06</td>\n      <td>CET</td>\n      <td>1</td>\n      <td>10.600292</td>\n      <td>848.023352</td>\n    </tr>\n  </tbody>\n</table>\n</div>"
     },
     "execution_count": 6,
     "metadata": {},
     "output_type": "execute_result"
    }
   ],
   "source": [
    "top_city_data.head()"
   ],
   "metadata": {
    "collapsed": false,
    "pycharm": {
     "name": "#%%\n"
    }
   }
  },
  {
   "cell_type": "code",
   "execution_count": 7,
   "outputs": [
    {
     "data": {
      "text/plain": "       capital  day  month  year  sunrise_UTC  sunset_UTC  \\\niso_a3                                                      \nAUT     Vienna    1      1  2022            6          15   \nAUT     Vienna    2      1  2022            6          15   \nAUT     Vienna    3      1  2022            6          15   \nAUT     Vienna    4      1  2022            6          15   \nAUT     Vienna    5      1  2022            6          15   \n\n                                                 geometry  \niso_a3                                                     \nAUT     POLYGON ((1890167.860 6127424.985, 1881717.299...  \nAUT     POLYGON ((1890167.860 6127424.985, 1881717.299...  \nAUT     POLYGON ((1890167.860 6127424.985, 1881717.299...  \nAUT     POLYGON ((1890167.860 6127424.985, 1881717.299...  \nAUT     POLYGON ((1890167.860 6127424.985, 1881717.299...  ",
      "text/html": "<div>\n<style scoped>\n    .dataframe tbody tr th:only-of-type {\n        vertical-align: middle;\n    }\n\n    .dataframe tbody tr th {\n        vertical-align: top;\n    }\n\n    .dataframe thead th {\n        text-align: right;\n    }\n</style>\n<table border=\"1\" class=\"dataframe\">\n  <thead>\n    <tr style=\"text-align: right;\">\n      <th></th>\n      <th>capital</th>\n      <th>day</th>\n      <th>month</th>\n      <th>year</th>\n      <th>sunrise_UTC</th>\n      <th>sunset_UTC</th>\n      <th>geometry</th>\n    </tr>\n    <tr>\n      <th>iso_a3</th>\n      <th></th>\n      <th></th>\n      <th></th>\n      <th></th>\n      <th></th>\n      <th></th>\n      <th></th>\n    </tr>\n  </thead>\n  <tbody>\n    <tr>\n      <th>AUT</th>\n      <td>Vienna</td>\n      <td>1</td>\n      <td>1</td>\n      <td>2022</td>\n      <td>6</td>\n      <td>15</td>\n      <td>POLYGON ((1890167.860 6127424.985, 1881717.299...</td>\n    </tr>\n    <tr>\n      <th>AUT</th>\n      <td>Vienna</td>\n      <td>2</td>\n      <td>1</td>\n      <td>2022</td>\n      <td>6</td>\n      <td>15</td>\n      <td>POLYGON ((1890167.860 6127424.985, 1881717.299...</td>\n    </tr>\n    <tr>\n      <th>AUT</th>\n      <td>Vienna</td>\n      <td>3</td>\n      <td>1</td>\n      <td>2022</td>\n      <td>6</td>\n      <td>15</td>\n      <td>POLYGON ((1890167.860 6127424.985, 1881717.299...</td>\n    </tr>\n    <tr>\n      <th>AUT</th>\n      <td>Vienna</td>\n      <td>4</td>\n      <td>1</td>\n      <td>2022</td>\n      <td>6</td>\n      <td>15</td>\n      <td>POLYGON ((1890167.860 6127424.985, 1881717.299...</td>\n    </tr>\n    <tr>\n      <th>AUT</th>\n      <td>Vienna</td>\n      <td>5</td>\n      <td>1</td>\n      <td>2022</td>\n      <td>6</td>\n      <td>15</td>\n      <td>POLYGON ((1890167.860 6127424.985, 1881717.299...</td>\n    </tr>\n  </tbody>\n</table>\n</div>"
     },
     "execution_count": 7,
     "metadata": {},
     "output_type": "execute_result"
    }
   ],
   "source": [
    "sun_data_gpd.head()"
   ],
   "metadata": {
    "collapsed": false,
    "pycharm": {
     "name": "#%%\n"
    }
   }
  },
  {
   "cell_type": "code",
   "execution_count": 8,
   "outputs": [
    {
     "data": {
      "text/plain": "   social_timezone  utc_sun_timezone_offset  mean_longitudinal_diff_km  \\\n0              CET                        1                 -29.252821   \n1              CET                        1                 817.999565   \n2              EET                        2                 373.644509   \n3              CET                        1                -115.056003   \n4              CET                        1                 267.602771   \n5              CET                        1                 327.866579   \n6              EET                        2                 275.734280   \n7              CET                        1                1250.732949   \n8              EET                        2                 443.732621   \n9              CET                        1                 865.323856   \n10             CET                        1                 -49.184143   \n11             CET                        1                -438.831520   \n12             WET                        0                 500.844744   \n13             CET                        1                 242.097744   \n14             EET                        2                 524.734941   \n15             CET                        1                 709.616080   \n16             EET                        2                 489.914437   \n17             CET                        1                 835.158680   \n18             CET                        1                -410.681931   \n19             WET                        0                 723.612808   \n20             EET                        2                 402.341600   \n21             CET                        1                  52.312875   \n22             CET                        1                  -6.100572   \n23             CET                        1                -389.285224   \n\n     mercantor_x   mercantor_y iso_a2     pop_est         name  pop_norm  \\\n0   1.822579e+06  6.141588e+06     AT   8877067.0      Austria  0.100071   \n1   4.844287e+05  6.594196e+06     BE  11484055.0      Belgium  0.131666   \n2   2.596164e+06  5.266072e+06     BG   6975761.0     Bulgaria  0.077029   \n3   1.605367e+06  6.461437e+06     CZ  10669709.0      Czechia  0.121797   \n4   1.490441e+06  6.894158e+06     DE  83132799.0      Germany  1.000000   \n5   1.399294e+06  7.496302e+06     DK   5818553.0      Denmark  0.063004   \n6   2.754642e+06  8.275492e+06     EE   1326590.0      Estonia  0.008565   \n7  -4.122809e+05  4.926683e+06     ES  47076781.0        Spain  0.563026   \n8   2.776614e+06  8.437122e+06     FI   5520314.0      Finland  0.059390   \n9   2.614217e+05  6.250039e+06     FR  67059887.0       France  0.805207   \n10  1.776907e+06  5.755168e+06     HR   4067500.0      Croatia  0.041783   \n11  2.119541e+06  6.023725e+06     HU   9769949.0      Hungary  0.110892   \n12 -6.969223e+05  7.047887e+06     IE   4941444.0      Ireland  0.052374   \n13  1.022985e+06  5.694898e+06     IT  60297396.0        Italy  0.723251   \n14  2.814481e+06  7.301363e+06     LT   2786844.0    Lithuania  0.026262   \n15  6.823661e+05  6.379226e+06     LU    619896.0   Luxembourg  0.000000   \n16  2.683377e+06  7.749783e+06     LV   1912789.0       Latvia  0.015669   \n17  4.984608e+05  6.786475e+06     NL  17332850.0  Netherlands  0.202550   \n18  2.338458e+06  6.842176e+06     PL  37970874.0       Poland  0.452668   \n19 -1.017081e+06  4.679895e+06     PT  10269417.0     Portugal  0.116946   \n20  2.905742e+06  5.533186e+06     RO  19356544.0      Romania  0.227075   \n21  2.011665e+06  8.250991e+06     SE  10285453.0       Sweden  0.117140   \n22  1.614904e+06  5.788370e+06     SI   2087946.0     Slovenia  0.017792   \n23  1.904599e+06  6.132129e+06     SK   5454073.0     Slovakia  0.058587   \n\n    weighted_mean_longdiff  norm_weighted_mean_longdiff  \n0                -2.927367                     0.004157  \n1               107.702881                     0.152945  \n2                28.781366                     0.040871  \n3               -14.013461                     0.019900  \n4               267.602771                     0.380012  \n5                20.656962                     0.029334  \n6                 2.361567                     0.003354  \n7               704.194795                     1.000000  \n8                26.353155                     0.037423  \n9               696.765077                     0.989449  \n10               -2.055042                     0.002918  \n11              -48.663076                     0.069105  \n12               26.231347                     0.037250  \n13              175.097319                     0.248649  \n14               13.780552                     0.019569  \n15                0.000000                     0.000000  \n16                7.676459                     0.010901  \n17              169.161041                     0.240219  \n18             -185.902704                     0.263993  \n19               84.623334                     0.120170  \n20               91.361868                     0.129739  \n21                6.127927                     0.008702  \n22               -0.108540                     0.000154  \n23              -22.807023                     0.032387  ",
      "text/html": "<div>\n<style scoped>\n    .dataframe tbody tr th:only-of-type {\n        vertical-align: middle;\n    }\n\n    .dataframe tbody tr th {\n        vertical-align: top;\n    }\n\n    .dataframe thead th {\n        text-align: right;\n    }\n</style>\n<table border=\"1\" class=\"dataframe\">\n  <thead>\n    <tr style=\"text-align: right;\">\n      <th></th>\n      <th>social_timezone</th>\n      <th>utc_sun_timezone_offset</th>\n      <th>mean_longitudinal_diff_km</th>\n      <th>mercantor_x</th>\n      <th>mercantor_y</th>\n      <th>iso_a2</th>\n      <th>pop_est</th>\n      <th>name</th>\n      <th>pop_norm</th>\n      <th>weighted_mean_longdiff</th>\n      <th>norm_weighted_mean_longdiff</th>\n    </tr>\n  </thead>\n  <tbody>\n    <tr>\n      <th>0</th>\n      <td>CET</td>\n      <td>1</td>\n      <td>-29.252821</td>\n      <td>1.822579e+06</td>\n      <td>6.141588e+06</td>\n      <td>AT</td>\n      <td>8877067.0</td>\n      <td>Austria</td>\n      <td>0.100071</td>\n      <td>-2.927367</td>\n      <td>0.004157</td>\n    </tr>\n    <tr>\n      <th>1</th>\n      <td>CET</td>\n      <td>1</td>\n      <td>817.999565</td>\n      <td>4.844287e+05</td>\n      <td>6.594196e+06</td>\n      <td>BE</td>\n      <td>11484055.0</td>\n      <td>Belgium</td>\n      <td>0.131666</td>\n      <td>107.702881</td>\n      <td>0.152945</td>\n    </tr>\n    <tr>\n      <th>2</th>\n      <td>EET</td>\n      <td>2</td>\n      <td>373.644509</td>\n      <td>2.596164e+06</td>\n      <td>5.266072e+06</td>\n      <td>BG</td>\n      <td>6975761.0</td>\n      <td>Bulgaria</td>\n      <td>0.077029</td>\n      <td>28.781366</td>\n      <td>0.040871</td>\n    </tr>\n    <tr>\n      <th>3</th>\n      <td>CET</td>\n      <td>1</td>\n      <td>-115.056003</td>\n      <td>1.605367e+06</td>\n      <td>6.461437e+06</td>\n      <td>CZ</td>\n      <td>10669709.0</td>\n      <td>Czechia</td>\n      <td>0.121797</td>\n      <td>-14.013461</td>\n      <td>0.019900</td>\n    </tr>\n    <tr>\n      <th>4</th>\n      <td>CET</td>\n      <td>1</td>\n      <td>267.602771</td>\n      <td>1.490441e+06</td>\n      <td>6.894158e+06</td>\n      <td>DE</td>\n      <td>83132799.0</td>\n      <td>Germany</td>\n      <td>1.000000</td>\n      <td>267.602771</td>\n      <td>0.380012</td>\n    </tr>\n    <tr>\n      <th>5</th>\n      <td>CET</td>\n      <td>1</td>\n      <td>327.866579</td>\n      <td>1.399294e+06</td>\n      <td>7.496302e+06</td>\n      <td>DK</td>\n      <td>5818553.0</td>\n      <td>Denmark</td>\n      <td>0.063004</td>\n      <td>20.656962</td>\n      <td>0.029334</td>\n    </tr>\n    <tr>\n      <th>6</th>\n      <td>EET</td>\n      <td>2</td>\n      <td>275.734280</td>\n      <td>2.754642e+06</td>\n      <td>8.275492e+06</td>\n      <td>EE</td>\n      <td>1326590.0</td>\n      <td>Estonia</td>\n      <td>0.008565</td>\n      <td>2.361567</td>\n      <td>0.003354</td>\n    </tr>\n    <tr>\n      <th>7</th>\n      <td>CET</td>\n      <td>1</td>\n      <td>1250.732949</td>\n      <td>-4.122809e+05</td>\n      <td>4.926683e+06</td>\n      <td>ES</td>\n      <td>47076781.0</td>\n      <td>Spain</td>\n      <td>0.563026</td>\n      <td>704.194795</td>\n      <td>1.000000</td>\n    </tr>\n    <tr>\n      <th>8</th>\n      <td>EET</td>\n      <td>2</td>\n      <td>443.732621</td>\n      <td>2.776614e+06</td>\n      <td>8.437122e+06</td>\n      <td>FI</td>\n      <td>5520314.0</td>\n      <td>Finland</td>\n      <td>0.059390</td>\n      <td>26.353155</td>\n      <td>0.037423</td>\n    </tr>\n    <tr>\n      <th>9</th>\n      <td>CET</td>\n      <td>1</td>\n      <td>865.323856</td>\n      <td>2.614217e+05</td>\n      <td>6.250039e+06</td>\n      <td>FR</td>\n      <td>67059887.0</td>\n      <td>France</td>\n      <td>0.805207</td>\n      <td>696.765077</td>\n      <td>0.989449</td>\n    </tr>\n    <tr>\n      <th>10</th>\n      <td>CET</td>\n      <td>1</td>\n      <td>-49.184143</td>\n      <td>1.776907e+06</td>\n      <td>5.755168e+06</td>\n      <td>HR</td>\n      <td>4067500.0</td>\n      <td>Croatia</td>\n      <td>0.041783</td>\n      <td>-2.055042</td>\n      <td>0.002918</td>\n    </tr>\n    <tr>\n      <th>11</th>\n      <td>CET</td>\n      <td>1</td>\n      <td>-438.831520</td>\n      <td>2.119541e+06</td>\n      <td>6.023725e+06</td>\n      <td>HU</td>\n      <td>9769949.0</td>\n      <td>Hungary</td>\n      <td>0.110892</td>\n      <td>-48.663076</td>\n      <td>0.069105</td>\n    </tr>\n    <tr>\n      <th>12</th>\n      <td>WET</td>\n      <td>0</td>\n      <td>500.844744</td>\n      <td>-6.969223e+05</td>\n      <td>7.047887e+06</td>\n      <td>IE</td>\n      <td>4941444.0</td>\n      <td>Ireland</td>\n      <td>0.052374</td>\n      <td>26.231347</td>\n      <td>0.037250</td>\n    </tr>\n    <tr>\n      <th>13</th>\n      <td>CET</td>\n      <td>1</td>\n      <td>242.097744</td>\n      <td>1.022985e+06</td>\n      <td>5.694898e+06</td>\n      <td>IT</td>\n      <td>60297396.0</td>\n      <td>Italy</td>\n      <td>0.723251</td>\n      <td>175.097319</td>\n      <td>0.248649</td>\n    </tr>\n    <tr>\n      <th>14</th>\n      <td>EET</td>\n      <td>2</td>\n      <td>524.734941</td>\n      <td>2.814481e+06</td>\n      <td>7.301363e+06</td>\n      <td>LT</td>\n      <td>2786844.0</td>\n      <td>Lithuania</td>\n      <td>0.026262</td>\n      <td>13.780552</td>\n      <td>0.019569</td>\n    </tr>\n    <tr>\n      <th>15</th>\n      <td>CET</td>\n      <td>1</td>\n      <td>709.616080</td>\n      <td>6.823661e+05</td>\n      <td>6.379226e+06</td>\n      <td>LU</td>\n      <td>619896.0</td>\n      <td>Luxembourg</td>\n      <td>0.000000</td>\n      <td>0.000000</td>\n      <td>0.000000</td>\n    </tr>\n    <tr>\n      <th>16</th>\n      <td>EET</td>\n      <td>2</td>\n      <td>489.914437</td>\n      <td>2.683377e+06</td>\n      <td>7.749783e+06</td>\n      <td>LV</td>\n      <td>1912789.0</td>\n      <td>Latvia</td>\n      <td>0.015669</td>\n      <td>7.676459</td>\n      <td>0.010901</td>\n    </tr>\n    <tr>\n      <th>17</th>\n      <td>CET</td>\n      <td>1</td>\n      <td>835.158680</td>\n      <td>4.984608e+05</td>\n      <td>6.786475e+06</td>\n      <td>NL</td>\n      <td>17332850.0</td>\n      <td>Netherlands</td>\n      <td>0.202550</td>\n      <td>169.161041</td>\n      <td>0.240219</td>\n    </tr>\n    <tr>\n      <th>18</th>\n      <td>CET</td>\n      <td>1</td>\n      <td>-410.681931</td>\n      <td>2.338458e+06</td>\n      <td>6.842176e+06</td>\n      <td>PL</td>\n      <td>37970874.0</td>\n      <td>Poland</td>\n      <td>0.452668</td>\n      <td>-185.902704</td>\n      <td>0.263993</td>\n    </tr>\n    <tr>\n      <th>19</th>\n      <td>WET</td>\n      <td>0</td>\n      <td>723.612808</td>\n      <td>-1.017081e+06</td>\n      <td>4.679895e+06</td>\n      <td>PT</td>\n      <td>10269417.0</td>\n      <td>Portugal</td>\n      <td>0.116946</td>\n      <td>84.623334</td>\n      <td>0.120170</td>\n    </tr>\n    <tr>\n      <th>20</th>\n      <td>EET</td>\n      <td>2</td>\n      <td>402.341600</td>\n      <td>2.905742e+06</td>\n      <td>5.533186e+06</td>\n      <td>RO</td>\n      <td>19356544.0</td>\n      <td>Romania</td>\n      <td>0.227075</td>\n      <td>91.361868</td>\n      <td>0.129739</td>\n    </tr>\n    <tr>\n      <th>21</th>\n      <td>CET</td>\n      <td>1</td>\n      <td>52.312875</td>\n      <td>2.011665e+06</td>\n      <td>8.250991e+06</td>\n      <td>SE</td>\n      <td>10285453.0</td>\n      <td>Sweden</td>\n      <td>0.117140</td>\n      <td>6.127927</td>\n      <td>0.008702</td>\n    </tr>\n    <tr>\n      <th>22</th>\n      <td>CET</td>\n      <td>1</td>\n      <td>-6.100572</td>\n      <td>1.614904e+06</td>\n      <td>5.788370e+06</td>\n      <td>SI</td>\n      <td>2087946.0</td>\n      <td>Slovenia</td>\n      <td>0.017792</td>\n      <td>-0.108540</td>\n      <td>0.000154</td>\n    </tr>\n    <tr>\n      <th>23</th>\n      <td>CET</td>\n      <td>1</td>\n      <td>-389.285224</td>\n      <td>1.904599e+06</td>\n      <td>6.132129e+06</td>\n      <td>SK</td>\n      <td>5454073.0</td>\n      <td>Slovakia</td>\n      <td>0.058587</td>\n      <td>-22.807023</td>\n      <td>0.032387</td>\n    </tr>\n  </tbody>\n</table>\n</div>"
     },
     "execution_count": 8,
     "metadata": {},
     "output_type": "execute_result"
    }
   ],
   "source": [
    "avg_country_data"
   ],
   "metadata": {
    "collapsed": false,
    "pycharm": {
     "name": "#%%\n"
    }
   }
  },
  {
   "cell_type": "markdown",
   "source": [
    "### Generate top n cities per country with timezone features"
   ],
   "metadata": {
    "collapsed": false,
    "pycharm": {
     "name": "#%% md\n"
    }
   }
  },
  {
   "cell_type": "markdown",
   "source": [
    "## Interactive visualization with Panel/Bokeh"
   ],
   "metadata": {
    "collapsed": false,
    "pycharm": {
     "name": "#%% md\n"
    }
   }
  },
  {
   "cell_type": "code",
   "execution_count": 48,
   "outputs": [],
   "source": [
    "from bokeh.plotting import figure\n",
    "from bokeh.models import GeoJSONDataSource, CategoricalColorMapper, ColorBar, ColumnDataSource, LabelSet, HoverTool\n",
    "from bokeh.transform import factor_cmap\n",
    "from bokeh.tile_providers import get_provider, Vendors\n",
    "from bokeh.palettes import Plasma256\n",
    "from bokeh.palettes import brewer\n",
    "import json\n",
    "import panel as pn\n",
    "from datetime import datetime, date\n",
    "import numpy as np\n",
    "\n",
    "data_field = 'social_timezone'\n",
    "bokeh_tools = 'wheel_zoom, pan, box_zoom, reset, save'\n",
    "colorbar_settings = {'title_text_font_size':'12pt','label_standoff':12}\n",
    "\n",
    "def get_bokeh_geodata_source(gpd_df):\n",
    "    json_data = json.dumps(json.loads(gpd_df.to_json()))\n",
    "    return GeoJSONDataSource(geojson = json_data)\n",
    "\n",
    "def bokeh_plot_map(data):\n",
    "    p = figure(toolbar_location='right', tools=bokeh_tools, active_scroll =\"wheel_zoom\",\n",
    "               title=\"Distance to eastern timezone meridian for large EU cities\",\n",
    "               x_range=(top_city_data['mercantor_x'].min(),top_city_data['mercantor_x'].max()))\n",
    "    p.title.text_font_size = '20px'\n",
    "    p.xgrid.grid_line_color = None\n",
    "    p.ygrid.grid_line_color = None\n",
    "\n",
    "    # ADD MAP TILES ---------------------------------------------------------------------------\n",
    "    p.add_tile(Vendors.CARTODBPOSITRON_RETINA)\n",
    "\n",
    "    # ADD TIMEZONE LINES\n",
    "\n",
    "    # ADD GEO STUFF FOR COUNTRIES AS A WHOLE -------------------------------------------------\n",
    "    geo_data_source = get_bokeh_geodata_source(data)\n",
    "\n",
    "    values = data[data_field]\n",
    "    palette = brewer['OrRd'][3]\n",
    "    palette = palette[::-1]\n",
    "    color_mapper = CategoricalColorMapper(palette = palette, factors=values.unique().tolist())\n",
    "    color_bar = ColorBar(color_mapper=color_mapper, location=(0,0), title='Timezone', **colorbar_settings)\n",
    "    country_tz = p.patches('xs','ys', source=geo_data_source,\n",
    "            fill_color={'field': data_field, 'transform': color_mapper},\n",
    "            line_color='blue',\n",
    "            line_width=0.5,\n",
    "            fill_alpha=0.8)\n",
    "    p.add_layout(color_bar, 'below')\n",
    "\n",
    "      # TOOLTIPS FOR COUNTRY PATCHES\n",
    "    tooltips_country = [\n",
    "        ('Country', '@iso_a2')\n",
    "    ]\n",
    "    p.add_tools(HoverTool(renderers=[country_tz], tooltips=tooltips_country))\n",
    "\n",
    "    # ===================================================================================================================\n",
    "\n",
    "    #ADD BARS FOR DISTANCE TO EAST MERIDIAN EFFECT\n",
    "    length_scale = 200000\n",
    "    bar_data_source = ColumnDataSource(dict(\n",
    "            x0=avg_country_data['mercantor_x'],\n",
    "            y0=avg_country_data['mercantor_y'],\n",
    "            x1=avg_country_data['mercantor_x'] + (length_scale *  avg_country_data['norm_weighted_mean_longdiff']) * np.sign(avg_country_data['weighted_mean_longdiff']),\n",
    "            y1=avg_country_data['mercantor_y'],\n",
    "            long_diff=avg_country_data['mean_longitudinal_diff_km'],\n",
    "            weighted_long_diff=avg_country_data['weighted_mean_longdiff'],\n",
    "            long_diff_norm=avg_country_data['norm_weighted_mean_longdiff']\n",
    "        )\n",
    "    )\n",
    "    divider_len = 50000\n",
    "    divider_data_source = ColumnDataSource(dict(\n",
    "            x0=avg_country_data['mercantor_x'],\n",
    "            y0=avg_country_data['mercantor_y'] - divider_len / 2,\n",
    "            x1=avg_country_data['mercantor_x'],\n",
    "            y1=avg_country_data['mercantor_y'] + divider_len / 2,\n",
    "            text=avg_country_data['name'],\n",
    "            text_y=(avg_country_data['mercantor_y'] + divider_len / 2) + 1000\n",
    "    ))\n",
    "    longdiff_quads = p.segment(x0=\"x0\", y0=\"y0\", x1=\"x1\", y1=\"y1\", line_width=5, source=bar_data_source)\n",
    "    londiff_diviers = p.segment(x0=\"x0\", y0=\"y0\", x1=\"x1\", y1=\"y1\", line_width=2, source=divider_data_source)\n",
    "    longdiff_label = p.text(x=\"x0\",y=\"text_y\", text=\"text\", source=divider_data_source)\n",
    "\n",
    "    # TOOLTIPS FOR CITY DATA\n",
    "    tooltips_longquads = [\n",
    "        ('Relative distance (km) to timezone border', '@long_diff'),\n",
    "        ('Weighted (population size) diff. to east timezone border', '@weighted_long_diff'),\n",
    "        ('Normalized, weighted (population size) effect of distance to east meridian', '@long_diff_norm')\n",
    "    ]\n",
    "    p.add_tools(HoverTool(renderers=[longdiff_quads], tooltips=tooltips_longquads, name='long_quads'))\n",
    "    return p"
   ],
   "metadata": {
    "collapsed": false,
    "pycharm": {
     "name": "#%%\n"
    }
   }
  },
  {
   "cell_type": "code",
   "execution_count": 42,
   "outputs": [],
   "source": [
    "from bokeh.models import DataTable, TableColumn\n",
    "\n",
    "def bokeh_country_table(country_data):\n",
    "    country_data_sorted = country_data.sort_values('norm_weighted_mean_longdiff', ascending=False)\n",
    "    source = ColumnDataSource(country_data_sorted)\n",
    "    columns = [\n",
    "        TableColumn(field='name', title='Country Name'),\n",
    "        TableColumn(field=\"iso_a2\",title=\"Country Code (ISO_A2)\"),\n",
    "        TableColumn(field=\"social_timezone\", title=\"Social Timezone\"),\n",
    "        TableColumn(field=\"norm_weighted_mean_longdiff\", title=\"Normalized weighted effect of dist. to east meridian\"),\n",
    "        TableColumn(field=\"mean_longitudinal_diff_km\", title=\"Avg. dist. to east meridian (km)\"),\n",
    "        TableColumn(field=\"pop_est\", title=\"Estimated population\")\n",
    "    ]\n",
    "    data_table = DataTable(source=source, columns=columns)\n",
    "    return data_table"
   ],
   "metadata": {
    "collapsed": false,
    "pycharm": {
     "name": "#%%\n"
    }
   }
  },
  {
   "cell_type": "code",
   "execution_count": 11,
   "outputs": [],
   "source": [
    "def bokeh_sun_table(sun_data):\n",
    "    source = ColumnDataSource(sun_data)\n",
    "\n",
    "    # Add data table\n",
    "    columns = [\n",
    "        TableColumn(field=\"iso_a3\", title=\"Country Code (ISO_A3)\"),\n",
    "        TableColumn(field=\"year\", title=\"Year\"),\n",
    "        TableColumn(field=\"month\", title=\"Month\"),\n",
    "        TableColumn(field=\"day\", title=\"Day\"),\n",
    "        TableColumn(field=\"sunrise_UTC\", title=\"Sunrise (UTC/GMT)\"),\n",
    "        TableColumn(field=\"sunset_UTC\", title=\"Sunrise (UTC/GMT)\")\n",
    "    ]\n",
    "    data_table = DataTable(source=source, columns=columns)\n",
    "    return data_table"
   ],
   "metadata": {
    "collapsed": false,
    "pycharm": {
     "name": "#%%\n"
    }
   }
  },
  {
   "cell_type": "code",
   "execution_count": 49,
   "outputs": [],
   "source": [
    "def map_visualization():\n",
    "    # CREATE MAP  ----------------------------------------------------------------------------------\n",
    "    # Create Map Panel\n",
    "    map_pane = pn.pane.Bokeh(sizing_mode='scale_both', width_policy='max')\n",
    "    start_date = date(2022,1,1)\n",
    "    end_date = date(2022,12,31)\n",
    "    selected_date = pn.widgets.DateSlider(name='Date Slider', value=start_date, start=start_date, end=end_date)\n",
    "\n",
    "    eu_geo_tz = eu_gpd.merge(avg_country_data)\n",
    "\n",
    "    def update_map(event):\n",
    "        d = selected_date.value\n",
    "        selected_sundata = sun_data_gpd.query(f'day == {d.day} & month == {d.month} & year == {d.year}')\n",
    "        map_pane.object = bokeh_plot_map(eu_geo_tz)\n",
    "    selected_date.param.watch(update_map, 'value')\n",
    "    selected_date.param.trigger('value')\n",
    "\n",
    "    # CREATE DATATABLES ----------------------------------------------------------------------------------\n",
    "    sizing_dict = dict(sizing_mode='stretch_both', width_policy='auto', margin=10)\n",
    "    # Create City Table Panel\n",
    "    country_data_pane = pn.pane.Bokeh(**sizing_dict)\n",
    "    country_data_pane.object = bokeh_country_table(avg_country_data)\n",
    "\n",
    "    # Create Sun Table Panel\n",
    "    sun_data_pane = pn.pane.Bokeh(**sizing_dict)\n",
    "    sun_data_pane.object = bokeh_sun_table(sun_data_gpd.iloc[:,:-1])\n",
    "\n",
    "    # Create panel application layout\n",
    "    map_vis = pn.Column(selected_date, map_pane)\n",
    "    tabs = pn.Tabs(('Map', map_vis), ('Country Data', country_data_pane), ('Sun Data', sun_data_pane))\n",
    "    return tabs\n",
    "\n",
    "app = map_visualization()"
   ],
   "metadata": {
    "collapsed": false,
    "pycharm": {
     "name": "#%%\n"
    }
   }
  },
  {
   "cell_type": "code",
   "execution_count": 50,
   "outputs": [
    {
     "name": "stdout",
     "output_type": "stream",
     "text": [
      "Launching server at http://localhost:1844\n"
     ]
    },
    {
     "data": {
      "text/plain": "<panel.io.server.Server at 0x2d6d39638d0>"
     },
     "execution_count": 50,
     "metadata": {},
     "output_type": "execute_result"
    }
   ],
   "source": [
    "app.show()"
   ],
   "metadata": {
    "collapsed": false,
    "pycharm": {
     "name": "#%%\n"
    }
   }
  }
 ],
 "metadata": {
  "kernelspec": {
   "display_name": "Python 3",
   "language": "python",
   "name": "python3"
  },
  "language_info": {
   "codemirror_mode": {
    "name": "ipython",
    "version": 2
   },
   "file_extension": ".py",
   "mimetype": "text/x-python",
   "name": "python",
   "nbconvert_exporter": "python",
   "pygments_lexer": "ipython2",
   "version": "2.7.6"
  }
 },
 "nbformat": 4,
 "nbformat_minor": 0
}